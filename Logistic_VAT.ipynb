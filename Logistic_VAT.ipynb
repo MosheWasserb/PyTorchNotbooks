{
  "nbformat": 4,
  "nbformat_minor": 0,
  "metadata": {
    "colab": {
      "name": "Logistic VAT.ipynb",
      "provenance": [],
      "authorship_tag": "ABX9TyPhZEVRiYyi6XK1kqQoHqVr",
      "include_colab_link": true
    },
    "kernelspec": {
      "name": "python3",
      "display_name": "Python 3"
    }
  },
  "cells": [
    {
      "cell_type": "markdown",
      "metadata": {
        "id": "view-in-github",
        "colab_type": "text"
      },
      "source": [
        "<a href=\"https://colab.research.google.com/github/MosheWasserb/PyTorchNotbooks/blob/master/Logistic_VAT.ipynb\" target=\"_parent\"><img src=\"https://colab.research.google.com/assets/colab-badge.svg\" alt=\"Open In Colab\"/></a>"
      ]
    },
    {
      "cell_type": "code",
      "metadata": {
        "id": "jG9G7q6uJ9Yy",
        "colab_type": "code",
        "colab": {
          "base_uri": "https://localhost:8080/",
          "height": 34
        },
        "outputId": "7590f418-f2e7-4a8b-d2b0-e89d474c11d9"
      },
      "source": [
        "import tensorflow as tf\n",
        "tf.compat.v1.disable_eager_execution()\n",
        "from numpy.random import seed\n",
        "\n",
        "import matplotlib\n",
        "import numpy as np\n",
        "import matplotlib.pyplot as plt\n",
        "\n",
        "import keras\n",
        "from keras.models import * \n",
        "from keras.layers import *\n",
        "from sklearn.metrics import accuracy_score\n",
        "import tensorflow as tf\n",
        "\n",
        "import pandas as pd\n",
        "import numpy as np\n",
        "from sklearn.metrics import classification_report\n",
        "from sklearn.metrics import confusion_matrix\n",
        "from sklearn.pipeline import make_pipeline\n",
        "from sklearn.feature_extraction.text import CountVectorizer\n",
        "from sklearn.feature_extraction.text import TfidfVectorizer\n",
        "from sklearn.linear_model import LogisticRegression\n",
        "from sklearn.model_selection import train_test_split"
      ],
      "execution_count": 3,
      "outputs": [
        {
          "output_type": "stream",
          "text": [
            "Using TensorFlow backend.\n"
          ],
          "name": "stderr"
        }
      ]
    },
    {
      "cell_type": "markdown",
      "metadata": {
        "id": "qSPZ-RSi4Vnh",
        "colab_type": "text"
      },
      "source": [
        "Import Real Data Set "
      ]
    },
    {
      "cell_type": "code",
      "metadata": {
        "id": "PhidBlVc5tck",
        "colab_type": "code",
        "colab": {}
      },
      "source": [
        "TEST_SIZE=0.2\n",
        "RANDOM_STATE=1\n",
        "SAMPLE_SIZE = 10000\n",
        "UNLABEL_SIZE = 50000\n",
        "AUG_SIZE = 50000\n",
        "train_size=100\n",
        "MAX_FEATURES = 100"
      ],
      "execution_count": 0,
      "outputs": []
    },
    {
      "cell_type": "code",
      "metadata": {
        "id": "q61Jpvcz4ktI",
        "colab_type": "code",
        "colab": {
          "base_uri": "https://localhost:8080/",
          "height": 122
        },
        "outputId": "2cb3bc90-1760-420f-ce8d-a9a8dadd054e"
      },
      "source": [
        "### read data from your Google Drive\n",
        "from google.colab import drive\n",
        "drive.mount('/gdrive')\n"
      ],
      "execution_count": 5,
      "outputs": [
        {
          "output_type": "stream",
          "text": [
            "Go to this URL in a browser: https://accounts.google.com/o/oauth2/auth?client_id=947318989803-6bn6qk8qdgf4n4g3pfee6491hc0brc4i.apps.googleusercontent.com&redirect_uri=urn%3aietf%3awg%3aoauth%3a2.0%3aoob&response_type=code&scope=email%20https%3a%2f%2fwww.googleapis.com%2fauth%2fdocs.test%20https%3a%2f%2fwww.googleapis.com%2fauth%2fdrive%20https%3a%2f%2fwww.googleapis.com%2fauth%2fdrive.photos.readonly%20https%3a%2f%2fwww.googleapis.com%2fauth%2fpeopleapi.readonly\n",
            "\n",
            "Enter your authorization code:\n",
            "··········\n",
            "Mounted at /gdrive\n"
          ],
          "name": "stdout"
        }
      ]
    },
    {
      "cell_type": "code",
      "metadata": {
        "id": "aD8nQUpy5QLC",
        "colab_type": "code",
        "colab": {}
      },
      "source": [
        "data = pd.read_csv(\"/gdrive/My Drive/DataSet/GLUE/STS2/SST-2/train.tsv\", delimiter='\\t', header=None)\n",
        "\n",
        "text_col=data.columns.values[0] \n",
        "category_col=data.columns.values[1]\n",
        "\n",
        "data.head\n",
        "\n",
        "batch_1 = data.sample(n=SAMPLE_SIZE, random_state=RANDOM_STATE);"
      ],
      "execution_count": 0,
      "outputs": []
    },
    {
      "cell_type": "code",
      "metadata": {
        "id": "y5CZlXk65gp-",
        "colab_type": "code",
        "colab": {
          "base_uri": "https://localhost:8080/",
          "height": 34
        },
        "outputId": "7ad05243-6664-4ae0-f278-991d134d339b"
      },
      "source": [
        "train_texts, test_texts, train_labels, test_labels = train_test_split(batch_1[text_col],batch_1[category_col], train_size=train_size,random_state=RANDOM_STATE)\n",
        "len(train_texts), len(test_texts), len(train_labels), len(test_labels)"
      ],
      "execution_count": 7,
      "outputs": [
        {
          "output_type": "execute_result",
          "data": {
            "text/plain": [
              "(100, 9900, 100, 9900)"
            ]
          },
          "metadata": {
            "tags": []
          },
          "execution_count": 7
        }
      ]
    },
    {
      "cell_type": "markdown",
      "metadata": {
        "id": "vD1jNnTv6Hbw",
        "colab_type": "text"
      },
      "source": [
        "1. Ngram logistic"
      ]
    },
    {
      "cell_type": "code",
      "metadata": {
        "id": "3uaZZ8lA6Kzf",
        "colab_type": "code",
        "colab": {
          "base_uri": "https://localhost:8080/",
          "height": 204
        },
        "outputId": "20bf95c0-163c-4836-d483-e8d746034857"
      },
      "source": [
        "#CounterVecorizer(ngram_range=(1,3), min_df=0.2, max_df=0.7, max_features=10000, stop_words=\"english\")\n",
        "#ngramCount_baseline_model = make_pipeline(TfidfVectorizer(ngram_range=(1,2)), LogisticRegression(C=50)).fit(train_texts, train_labels)\n",
        "ngramCount_baseline_model = make_pipeline(CountVectorizer(ngram_range=(1,2), max_features=MAX_FEATURES), LogisticRegression()).fit(train_texts, train_labels)\n",
        "#ngramCount_baseline_model = make_pipeline(CountVectorizer(ngram_range=(1,2),stop_words=\"english\",max_features=30000, max_df=0.75), LogisticRegression()).fit(train_texts, train_labels)\n",
        "ngramCount_baseline_predicted = ngramCount_baseline_model.predict(test_texts)\n",
        "print(classification_report(test_labels, ngramCount_baseline_predicted))\n",
        "print(confusion_matrix(test_labels, ngramCount_baseline_predicted))"
      ],
      "execution_count": 9,
      "outputs": [
        {
          "output_type": "stream",
          "text": [
            "              precision    recall  f1-score   support\n",
            "\n",
            "           0       0.46      0.39      0.42      4380\n",
            "           1       0.57      0.63      0.60      5520\n",
            "\n",
            "    accuracy                           0.53      9900\n",
            "   macro avg       0.51      0.51      0.51      9900\n",
            "weighted avg       0.52      0.53      0.52      9900\n",
            "\n",
            "[[1717 2663]\n",
            " [2020 3500]]\n"
          ],
          "name": "stdout"
        }
      ]
    },
    {
      "cell_type": "code",
      "metadata": {
        "id": "FXqFhC3-IrL6",
        "colab_type": "code",
        "colab": {}
      },
      "source": [
        "test_labels.to_list()"
      ],
      "execution_count": 0,
      "outputs": []
    },
    {
      "cell_type": "markdown",
      "metadata": {
        "id": "md3t0iDg7bKz",
        "colab_type": "text"
      },
      "source": [
        "2. Ngram MLP "
      ]
    },
    {
      "cell_type": "code",
      "metadata": {
        "id": "_19y1s3373kI",
        "colab_type": "code",
        "colab": {}
      },
      "source": [
        "cntvec_model = CountVectorizer(ngram_range=(1,2), max_features=MAX_FEATURES)\n",
        "X_train_sparse = cntvec_model.fit_transform(train_texts)\n",
        "X_test_sparse  = cntvec_model.transform(test_texts)\n",
        "X_train = X_train_sparse.toarray()\n",
        "X_test = X_test_sparse.toarray()\n",
        "\n",
        "Y_train = list(map(int,train_labels))\n",
        "Y_test = list(map(int,test_labels))\n",
        "Y_train_cat = keras.utils.to_categorical(train_labels)\n",
        "Y_test_cat = keras.utils.to_categorical(test_labels)\n"
      ],
      "execution_count": 0,
      "outputs": []
    },
    {
      "cell_type": "markdown",
      "metadata": {
        "id": "9IUL0rNOK6sR",
        "colab_type": "text"
      },
      "source": [
        "Make the simulated datasets"
      ]
    },
    {
      "cell_type": "code",
      "metadata": {
        "id": "5DhWZnGEK5B1",
        "colab_type": "code",
        "colab": {}
      },
      "source": [
        "\n",
        "from sklearn import datasets\n",
        "from sklearn.model_selection import train_test_split\n",
        "\n",
        "X, Y = datasets.make_blobs(n_samples=10000, centers=2, n_features=100, cluster_std = 1, random_state=42) \n",
        "X_train, X_test, Y_train, Y_test = train_test_split(X, Y, train_size =10, random_state=42)\n",
        "\n",
        "Y_train_cat = keras.utils.to_categorical( Y_train )\n",
        "Y_test_cat = keras.utils.to_categorical( Y_test  )\n",
        "\n",
        "#circles =  datasets.make_circles(n_samples=1000 , noise=.05 , factor=0.3 ,random_state=3 )\n",
        "#circles_test =  datasets.make_circles(n_samples=10000 , noise=0 , factor=0.3 ,random_state=1 )\n",
        "\n",
        "#n_poionts = 8\n",
        "#inds = list (np.where(circles[1] == 0)[0][:n_poionts]) + list (np.where(circles[1] == 1)[0][:n_poionts])\n",
        "\n",
        "#X_train = circles[0][inds]\n",
        "#Y_train = circles[1][inds]\n",
        "#Y_train_cat = keras.utils.to_categorical( circles[1][inds] )\n",
        "\n",
        "#X_test = circles_test[0] \n",
        "#Y_test = circles_test[1] \n",
        "#Y_test_cat = keras.utils.to_categorical( circles_test[1]  )\n",
        "\n",
        "n_classes = int( np.max(Y_train) + 1 )"
      ],
      "execution_count": 0,
      "outputs": []
    },
    {
      "cell_type": "markdown",
      "metadata": {
        "id": "0Hteu_zMMoAh",
        "colab_type": "text"
      },
      "source": [
        "Plot the dataset"
      ]
    },
    {
      "cell_type": "code",
      "metadata": {
        "id": "ZnJSr9t4MJyT",
        "colab_type": "code",
        "colab": {
          "base_uri": "https://localhost:8080/",
          "height": 265
        },
        "outputId": "30123953-bc52-4f07-c223-e9ccffcc9788"
      },
      "source": [
        "plt.scatter(X_test[:, 0], X_test[:, 1], c=Y_test, s=20 , cmap='winter'  , edgecolor='k' , alpha=0.005)\n",
        "plt.scatter(X_train[:, 0], X_train[:, 1], c=Y_train, s=20 , cmap='winter'   , edgecolor='k')\n",
        "plt.show()"
      ],
      "execution_count": 365,
      "outputs": [
        {
          "output_type": "display_data",
          "data": {
            "image/png": "[encoded data removed]",
            "text/plain": [
              "<Figure size 432x288 with 1 Axes>"
            ]
          },
          "metadata": {
            "tags": [],
            "needs_background": "light"
          }
        }
      ]
    },
    {
      "cell_type": "code",
      "metadata": {
        "id": "4QHGmOwKOge7",
        "colab_type": "code",
        "colab": {}
      },
      "source": [
        "def plot_model_predictions( m ):\n",
        "    \n",
        "    xx, yy = np.meshgrid(np.arange(-1, 10, 1),\n",
        "                         np.arange(-1, 10, 1))\n",
        "\n",
        "    Z = m.predict(np.c_[xx.ravel(), yy.ravel()]).argmax(-1)\n",
        "    Z = Z.reshape(xx.shape)\n",
        "\n",
        "    plt.contourf(xx, yy, Z, alpha=0.3, cmap='Greens'   )\n",
        "    plt.scatter(X_test[:, 0], X_test[:, 1], c=Y_test, s=20 , cmap='winter'  , edgecolor='none' , alpha=0.5)\n",
        "    plt.scatter(X_train[:, 0], X_train[:, 1], c=Y_train, s=20 , cmap='winter'   , edgecolor='k')\n",
        "    \n",
        "    plt.show()"
      ],
      "execution_count": 0,
      "outputs": []
    },
    {
      "cell_type": "markdown",
      "metadata": {
        "id": "Gtu0-L8NM2XJ",
        "colab_type": "text"
      },
      "source": [
        "Model without VAR"
      ]
    },
    {
      "cell_type": "code",
      "metadata": {
        "id": "gJmTIi5tM0JN",
        "colab_type": "code",
        "colab": {}
      },
      "source": [
        "model = Sequential()\n",
        "model.add( Dense(100 ,activation='relu' ,  input_shape=(MAX_FEATURES,)))\n",
        "model.add( Dense(2 , activation='softmax' ))\n",
        "model.compile( 'sgd' ,  'categorical_crossentropy'  ,  metrics=['accuracy'])"
      ],
      "execution_count": 0,
      "outputs": []
    },
    {
      "cell_type": "code",
      "metadata": {
        "id": "CTvpOXgONEfy",
        "colab_type": "code",
        "colab": {}
      },
      "source": [
        "model.fit(  np.concatenate([X_train]*1000) , np.concatenate([Y_train_cat]*1000)  )\n",
        "y_pred  = model.predict( X_test ).argmax(-1)\n",
        "print( \"Test accruracy \" , accuracy_score(Y_test , y_pred  ))"
      ],
      "execution_count": 0,
      "outputs": []
    },
    {
      "cell_type": "code",
      "metadata": {
        "id": "I1YEnzmhOibv",
        "colab_type": "code",
        "colab": {}
      },
      "source": [
        "plot_model_predictions( model  )"
      ],
      "execution_count": 0,
      "outputs": []
    },
    {
      "cell_type": "markdown",
      "metadata": {
        "id": "XOGfXm3GO0cP",
        "colab_type": "text"
      },
      "source": [
        "Model with VAT "
      ]
    },
    {
      "cell_type": "code",
      "metadata": {
        "id": "XzPqjZO3XUZN",
        "colab_type": "code",
        "colab": {}
      },
      "source": [
        "def compute_kld(p_logit, q_logit):\n",
        "    p = tf.nn.softmax(p_logit)\n",
        "    q = tf.nn.softmax(q_logit)\n",
        "    return tf.reduce_sum(p*(tf.math.log(p + 1e-16) - tf.math.log(q + 1e-16)), axis=1)\n",
        "\n",
        "\n",
        "def make_unit_norm(x):\n",
        "    return x/(tf.reshape(tf.sqrt(tf.reduce_sum(tf.pow(x, 2.0), axis=1)), [-1, 1]) + 1e-16)"
      ],
      "execution_count": 0,
      "outputs": []
    },
    {
      "cell_type": "code",
      "metadata": {
        "id": "XVYXmh6eO5qE",
        "colab_type": "code",
        "colab": {
          "base_uri": "https://localhost:8080/",
          "height": 88
        },
        "outputId": "a97687eb-4233-4719-a5ae-1ab06683c43e"
      },
      "source": [
        "network = Sequential()\n",
        "network.add( Dense(100 ,activation='relu' ,  input_shape=(MAX_FEATURES,)))\n",
        "network.add( Dense(2   ))\n",
        "\n",
        "model_input = Input((MAX_FEATURES,))\n",
        "p_logit = network( model_input )\n",
        "p = Activation('softmax')( p_logit )"
      ],
      "execution_count": 12,
      "outputs": [
        {
          "output_type": "stream",
          "text": [
            "WARNING:tensorflow:From /usr/local/lib/python3.6/dist-packages/tensorflow/python/ops/resource_variable_ops.py:1666: calling BaseResourceVariable.__init__ (from tensorflow.python.ops.resource_variable_ops) with constraint is deprecated and will be removed in a future version.\n",
            "Instructions for updating:\n",
            "If using Keras pass *_constraint arguments to layers.\n"
          ],
          "name": "stdout"
        }
      ]
    },
    {
      "cell_type": "code",
      "metadata": {
        "id": "JDmW3KGXVVlY",
        "colab_type": "code",
        "colab": {}
      },
      "source": [
        "r = tf.random.normal(shape=tf.shape( model_input ))\n",
        "r = make_unit_norm( r )\n",
        "p_logit_r = network( model_input + 10*r  )"
      ],
      "execution_count": 0,
      "outputs": []
    },
    {
      "cell_type": "code",
      "metadata": {
        "id": "KiPWbQFOW-QO",
        "colab_type": "code",
        "colab": {}
      },
      "source": [
        "kl = tf.reduce_mean(compute_kld( p_logit , p_logit_r ))\n",
        "grad_kl = tf.gradients( kl , [r ])[0]\n",
        "r_vadv = tf.stop_gradient(grad_kl)\n",
        "r_vadv = make_unit_norm( r_vadv )/3.0"
      ],
      "execution_count": 0,
      "outputs": []
    },
    {
      "cell_type": "code",
      "metadata": {
        "id": "N3Z6WL4UXFAF",
        "colab_type": "code",
        "colab": {}
      },
      "source": [
        "p_logit_no_gradient = tf.stop_gradient(p_logit)\n",
        "p_logit_r_adv = network( model_input  + r_vadv )\n",
        "vat_loss =  tf.reduce_mean(compute_kld( p_logit_no_gradient, p_logit_r_adv ))"
      ],
      "execution_count": 0,
      "outputs": []
    },
    {
      "cell_type": "code",
      "metadata": {
        "id": "4cozVnMMXF9V",
        "colab_type": "code",
        "colab": {}
      },
      "source": [
        "model_vat = Model(model_input , p )\n",
        "model_vat.add_loss( vat_loss   )\n",
        "\n",
        "model_vat.compile( 'sgd' ,  'categorical_crossentropy'  ,  metrics=['accuracy'])\n",
        "\n",
        "model_vat.metrics_names.append('vat_loss')\n",
        "model_vat.metrics.append( vat_loss )"
      ],
      "execution_count": 0,
      "outputs": []
    },
    {
      "cell_type": "code",
      "metadata": {
        "id": "EiA744GAXedx",
        "colab_type": "code",
        "colab": {
          "base_uri": "https://localhost:8080/",
          "height": 68
        },
        "outputId": "ef74874b-1391-4b0e-ab80-9ce41c474414"
      },
      "source": [
        "model_vat.fit(  np.concatenate([X_train]*1000) , np.concatenate([Y_train_cat]*1000)  )\n",
        "y_pred  = model_vat.predict( X_test ).argmax(-1)\n",
        "print( \"Test accruracy \" , accuracy_score(Y_test , y_pred  ))"
      ],
      "execution_count": 26,
      "outputs": [
        {
          "output_type": "stream",
          "text": [
            "Epoch 1/1\n",
            "100000/100000 [==============================] - 5s 53us/step - loss: 0.3098 - accuracy: 0.8996\n",
            "Test accruracy  0.5609090909090909\n"
          ],
          "name": "stdout"
        }
      ]
    },
    {
      "cell_type": "markdown",
      "metadata": {
        "id": "HrNIxztoXpu5",
        "colab_type": "text"
      },
      "source": [
        "Plot the model output"
      ]
    },
    {
      "cell_type": "code",
      "metadata": {
        "id": "VJ3LWNRxXpBH",
        "colab_type": "code",
        "colab": {
          "base_uri": "https://localhost:8080/",
          "height": 265
        },
        "outputId": "38ab1620-1112-4da0-ae8c-ce2087de81a9"
      },
      "source": [
        "plot_model_predictions( model_vat  )"
      ],
      "execution_count": 260,
      "outputs": [
        {
          "output_type": "display_data",
          "data": {
            "image/png": "[encoded data removed]",
            "text/plain": [
              "<Figure size 432x288 with 1 Axes>"
            ]
          },
          "metadata": {
            "tags": [],
            "needs_background": "light"
          }
        }
      ]
    }
  ]
}