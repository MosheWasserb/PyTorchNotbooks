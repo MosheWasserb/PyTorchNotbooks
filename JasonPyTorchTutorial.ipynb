{
  "nbformat": 4,
  "nbformat_minor": 0,
  "metadata": {
    "kernelspec": {
      "display_name": "Python 3",
      "language": "python",
      "name": "python3"
    },
    "language_info": {
      "codemirror_mode": {
        "name": "ipython",
        "version": 3
      },
      "file_extension": ".py",
      "mimetype": "text/x-python",
      "name": "python",
      "nbconvert_exporter": "python",
      "pygments_lexer": "ipython3",
      "version": "3.7.0"
    },
    "colab": {
      "name": "Regression.ipynb",
      "provenance": []
    }
  },
  "cells": [
    {
      "cell_type": "markdown",
      "metadata": {
        "id": "AW_XPBtJfau3",
        "colab_type": "text"
      },
      "source": [
        "# PyTorch Tutorial: How to develop DL models with Python by Jason Brownlee\n",
        "\n",
        "### Moshe Wasserblat <br><br>March 2020"
      ]
    },
    {
      "cell_type": "code",
      "metadata": {
        "id": "ytNZMY1Tfau6",
        "colab_type": "code",
        "colab": {}
      },
      "source": [
        "import torch\n",
        "import numpy as np\n",
        "from torch.autograd import Variable\n",
        "import matplotlib.pyplot as plt"
      ],
      "execution_count": 0,
      "outputs": []
    },
    {
      "cell_type": "code",
      "metadata": {
        "id": "QA_l-xEOfau9",
        "colab_type": "code",
        "outputId": "302fd6ea-ebbb-4a7c-b1af-aa4c900c1075",
        "colab": {
          "base_uri": "https://localhost:8080/",
          "height": 34
        }
      },
      "source": [
        "torch.manual_seed(7)"
      ],
      "execution_count": 0,
      "outputs": [
        {
          "output_type": "execute_result",
          "data": {
            "text/plain": [
              "<torch._C.Generator at 0x7f6e0ba10150>"
            ]
          },
          "metadata": {
            "tags": []
          },
          "execution_count": 2
        }
      ]
    },
    {
      "cell_type": "markdown",
      "metadata": {
        "id": "oUxKvB96favB",
        "colab_type": "text"
      },
      "source": [
        "### Generate data "
      ]
    },
    {
      "cell_type": "code",
      "metadata": {
        "id": "tV7tjbXvgaBb",
        "colab_type": "code",
        "colab": {}
      },
      "source": [
        "# create dummy data for training\n",
        "x_values = [i for i in range(11)]\n",
        "x_train = np.array(x_values, dtype=np.float32)\n",
        "x_train = x_train.reshape(-1, 1)\n",
        "\n",
        "y_values = [2*i + 1 for i in x_values]\n",
        "y_train = np.array(y_values, dtype=np.float32)\n",
        "y_train = y_train.reshape(-1, 1)\n",
        "\n"
      ],
      "execution_count": 0,
      "outputs": []
    },
    {
      "cell_type": "markdown",
      "metadata": {
        "colab_type": "text",
        "id": "uRLvwu5zgX0o"
      },
      "source": [
        "### Model Arch"
      ]
    },
    {
      "cell_type": "code",
      "metadata": {
        "id": "GKYi8vlCfavC",
        "colab_type": "code",
        "colab": {}
      },
      "source": [
        "class linearRegression(torch.nn.Module):\n",
        "    def __init__(self, inputSize, outputSize):\n",
        "        super(linearRegression, self).__init__()\n",
        "        self.linear = torch.nn.Linear(inputSize, outputSize)\n",
        "\n",
        "    def forward(self, x):\n",
        "        out = self.linear(x)\n",
        "        return out"
      ],
      "execution_count": 0,
      "outputs": []
    },
    {
      "cell_type": "markdown",
      "metadata": {
        "id": "AEF6WEOCfavI",
        "colab_type": "text"
      },
      "source": [
        "### Init"
      ]
    },
    {
      "cell_type": "code",
      "metadata": {
        "id": "BOdJZMiKmN9v",
        "colab_type": "code",
        "colab": {}
      },
      "source": [
        "inputDim = 1        # takes variable 'x' \n",
        "outputDim = 1       # takes variable 'y'\n",
        "learningRate = 0.01 \n",
        "epochs = 10\n",
        "running_loss = []\n",
        "\n",
        "model = linearRegression(inputDim, outputDim)"
      ],
      "execution_count": 0,
      "outputs": []
    },
    {
      "cell_type": "markdown",
      "metadata": {
        "colab_type": "text",
        "id": "8VwPpHiZmJpf"
      },
      "source": [
        "### Define loss & optimizer"
      ]
    },
    {
      "cell_type": "code",
      "metadata": {
        "id": "Okcwh-G5favI",
        "colab_type": "code",
        "colab": {}
      },
      "source": [
        "criterion = torch.nn.MSELoss() \n",
        "optimizer = torch.optim.SGD(model.parameters(), lr=learningRate)"
      ],
      "execution_count": 0,
      "outputs": []
    },
    {
      "cell_type": "markdown",
      "metadata": {
        "id": "1r5cXr4dfavL",
        "colab_type": "text"
      },
      "source": [
        "### Training:  1. Reset the gradients 2. Forward pass 3. Calc loss 4. Backward pass 5. One step of the optimizer"
      ]
    },
    {
      "cell_type": "code",
      "metadata": {
        "id": "wIvadrKJfavM",
        "colab_type": "code",
        "outputId": "ea3d4f00-0aac-47e9-f6e7-09d3c853b2f4",
        "colab": {
          "base_uri": "https://localhost:8080/",
          "height": 357
        }
      },
      "source": [
        "for epoch in range(epochs):\n",
        "    # Converting inputs and labels to Variable\n",
        "    inputs = Variable(torch.from_numpy(x_train))\n",
        "    labels = Variable(torch.from_numpy(y_train))\n",
        "\n",
        "    # Clear gradient buffers because we don't want any gradient from previous epoch to carry forward, dont want to cummulate gradients\n",
        "    optimizer.zero_grad()\n",
        "\n",
        "    # get output from the model, given the inputs\n",
        "    outputs = model(inputs)\n",
        "\n",
        "    # get loss for the predicted output\n",
        "    loss = criterion(outputs, labels)\n",
        "    print(loss)\n",
        "    # get gradients w.r.t to parameters\n",
        "    loss.backward()\n",
        "\n",
        "    # update parameters\n",
        "    optimizer.step()\n",
        "\n",
        "    # for print loss vs. epoch\n",
        "    running_loss.append(loss.item())\n",
        "\n",
        "    print('epoch {}, loss {}'.format(epoch, round(loss.item(),5)))"
      ],
      "execution_count": 0,
      "outputs": [
        {
          "output_type": "stream",
          "text": [
            "tensor(258.3496, grad_fn=<MseLossBackward>)\n",
            "epoch 0, loss 258.34958\n",
            "tensor(21.4160, grad_fn=<MseLossBackward>)\n",
            "epoch 1, loss 21.41602\n",
            "tensor(2.0863, grad_fn=<MseLossBackward>)\n",
            "epoch 2, loss 2.08626\n",
            "tensor(0.5058, grad_fn=<MseLossBackward>)\n",
            "epoch 3, loss 0.5058\n",
            "tensor(0.3731, grad_fn=<MseLossBackward>)\n",
            "epoch 4, loss 0.37314\n",
            "tensor(0.3586, grad_fn=<MseLossBackward>)\n",
            "epoch 5, loss 0.35861\n",
            "tensor(0.3538, grad_fn=<MseLossBackward>)\n",
            "epoch 6, loss 0.35377\n",
            "tensor(0.3497, grad_fn=<MseLossBackward>)\n",
            "epoch 7, loss 0.34975\n",
            "tensor(0.3458, grad_fn=<MseLossBackward>)\n",
            "epoch 8, loss 0.34583\n",
            "tensor(0.3420, grad_fn=<MseLossBackward>)\n",
            "epoch 9, loss 0.34197\n"
          ],
          "name": "stdout"
        }
      ]
    },
    {
      "cell_type": "code",
      "metadata": {
        "id": "aMyRqiklxM2f",
        "colab_type": "code",
        "outputId": "ca99a618-4482-4e8d-f57d-f5f28dbeb7b6",
        "colab": {
          "base_uri": "https://localhost:8080/",
          "height": 302
        }
      },
      "source": [
        "plt.figure(figsize=(7,4))\n",
        "plt.title(\"Loss over epochs\",fontsize=16)\n",
        "plt.plot([e for e in range(epochs)],running_loss)\n",
        "plt.grid(True)\n",
        "plt.xlabel(\"Epochs\",fontsize=15)\n",
        "plt.ylabel(\"Training loss\",fontsize=15)\n",
        "plt.show()"
      ],
      "execution_count": 0,
      "outputs": [
        {
          "output_type": "display_data",
          "data": {
            "image/png": "[encoded data removed]",
            "text/plain": [
              "<Figure size 504x288 with 1 Axes>"
            ]
          },
          "metadata": {
            "tags": []
          }
        }
      ]
    },
    {
      "cell_type": "markdown",
      "metadata": {
        "id": "bzINS5lZfavP",
        "colab_type": "text"
      },
      "source": [
        "### Test"
      ]
    },
    {
      "cell_type": "code",
      "metadata": {
        "id": "zl295hDvfavQ",
        "colab_type": "code",
        "outputId": "8ed1c8f4-46d3-41a0-ce4c-265a2ba77cb4",
        "colab": {
          "base_uri": "https://localhost:8080/",
          "height": 452
        }
      },
      "source": [
        "with torch.no_grad(): # we don't need gradients in the testing phase\n",
        "  predicted = model(Variable(torch.from_numpy(x_train))).data.numpy()\n",
        "print(predicted)\n",
        "\n",
        "plt.clf()\n",
        "plt.plot(x_train, y_train, 'go', label='True data', alpha=0.5)\n",
        "plt.plot(x_train, predicted, '--', label='Predictions', alpha=0.5)\n",
        "plt.legend(loc='best')\n",
        "plt.show()"
      ],
      "execution_count": 0,
      "outputs": [
        {
          "output_type": "stream",
          "text": [
            "[[ 0.7976537]\n",
            " [ 2.8267868]\n",
            " [ 4.85592  ]\n",
            " [ 6.885053 ]\n",
            " [ 8.9141865]\n",
            " [10.943319 ]\n",
            " [12.972452 ]\n",
            " [15.001585 ]\n",
            " [17.030718 ]\n",
            " [19.05985  ]\n",
            " [21.088984 ]]\n"
          ],
          "name": "stdout"
        },
        {
          "output_type": "display_data",
          "data": {
            "image/png": "[encoded data removed]",
            "text/plain": [
              "<Figure size 432x288 with 1 Axes>"
            ]
          },
          "metadata": {
            "tags": []
          }
        }
      ]
    }
  ]
}