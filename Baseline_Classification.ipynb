{
  "nbformat": 4,
  "nbformat_minor": 0,
  "metadata": {
    "colab": {
      "name": "Baseline Classification ",
      "provenance": [],
      "collapsed_sections": [
        "MN9okjW_PsXU",
        "akhvGe3OfwQJ",
        "iJfF6OsBUc_x"
      ],
      "machine_shape": "hm",
      "include_colab_link": true
    },
    "kernelspec": {
      "name": "python3",
      "display_name": "Python 3"
    },
    "accelerator": "GPU"
  },
  "cells": [
    {
      "cell_type": "markdown",
      "metadata": {
        "id": "view-in-github",
        "colab_type": "text"
      },
      "source": [
        "<a href=\"https://colab.research.google.com/github/MosheWasserb/PyTorchNotbooks/blob/master/Baseline_Classification.ipynb\" target=\"_parent\"><img src=\"https://colab.research.google.com/assets/colab-badge.svg\" alt=\"Open In Colab\"/></a>"
      ]
    },
    {
      "cell_type": "code",
      "metadata": {
        "id": "PJX4vkjj6wYz",
        "colab_type": "code",
        "outputId": "159e7762-0e82-4327-9a13-d345ad447efa",
        "colab": {
          "base_uri": "https://localhost:8080/",
          "height": 34
        }
      },
      "source": [
        "### read data from your Google Drive\n",
        "from google.colab import drive\n",
        "drive.mount('/gdrive')"
      ],
      "execution_count": 98,
      "outputs": [
        {
          "output_type": "stream",
          "text": [
            "Drive already mounted at /gdrive; to attempt to forcibly remount, call drive.mount(\"/gdrive\", force_remount=True).\n"
          ],
          "name": "stdout"
        }
      ]
    },
    {
      "cell_type": "code",
      "metadata": {
        "id": "MkfovzjfOLGz",
        "colab_type": "code",
        "outputId": "0516023b-38e6-45d5-da6f-2d86f05e5a7a",
        "colab": {
          "base_uri": "https://localhost:8080/",
          "height": 170
        }
      },
      "source": [
        "!pip install wget"
      ],
      "execution_count": 7,
      "outputs": [
        {
          "output_type": "stream",
          "text": [
            "Collecting wget\n",
            "  Downloading https://files.pythonhosted.org/packages/47/6a/62e288da7bcda82b935ff0c6cfe542970f04e29c756b0e147251b2fb251f/wget-3.2.zip\n",
            "Building wheels for collected packages: wget\n",
            "  Building wheel for wget (setup.py) ... \u001b[?25l\u001b[?25hdone\n",
            "  Created wheel for wget: filename=wget-3.2-cp36-none-any.whl size=9682 sha256=677dc18db46c6297c741c5f535b1fa836d0650e8f8a7055462188d44569d9242\n",
            "  Stored in directory: /root/.cache/pip/wheels/40/15/30/7d8f7cea2902b4db79e3fea550d7d7b85ecb27ef992b618f3f\n",
            "Successfully built wget\n",
            "Installing collected packages: wget\n",
            "Successfully installed wget-3.2\n"
          ],
          "name": "stdout"
        }
      ]
    },
    {
      "cell_type": "code",
      "metadata": {
        "id": "Ycn47UPwigM5",
        "colab_type": "code",
        "colab": {
          "base_uri": "https://localhost:8080/",
          "height": 581
        },
        "outputId": "e8213f10-1094-44d7-893d-c529907c102c"
      },
      "source": [
        "!pip install transformers"
      ],
      "execution_count": 8,
      "outputs": [
        {
          "output_type": "stream",
          "text": [
            "Collecting transformers\n",
            "\u001b[?25l  Downloading https://files.pythonhosted.org/packages/12/b5/ac41e3e95205ebf53439e4dd087c58e9fd371fd8e3724f2b9b4cdb8282e5/transformers-2.10.0-py3-none-any.whl (660kB)\n",
            "\r\u001b[K     |▌                               | 10kB 17.7MB/s eta 0:00:01\r\u001b[K     |█                               | 20kB 4.3MB/s eta 0:00:01\r\u001b[K     |█▌                              | 30kB 5.4MB/s eta 0:00:01\r\u001b[K     |██                              | 40kB 5.6MB/s eta 0:00:01\r\u001b[K     |██▌                             | 51kB 4.8MB/s eta 0:00:01\r\u001b[K     |███                             | 61kB 5.4MB/s eta 0:00:01\r\u001b[K     |███▌                            | 71kB 5.8MB/s eta 0:00:01\r\u001b[K     |████                            | 81kB 6.3MB/s eta 0:00:01\r\u001b[K     |████▌                           | 92kB 6.4MB/s eta 0:00:01\r\u001b[K     |█████                           | 102kB 6.2MB/s eta 0:00:01\r\u001b[K     |█████▌                          | 112kB 6.2MB/s eta 0:00:01\r\u001b[K     |██████                          | 122kB 6.2MB/s eta 0:00:01\r\u001b[K     |██████▌                         | 133kB 6.2MB/s eta 0:00:01\r\u001b[K     |███████                         | 143kB 6.2MB/s eta 0:00:01\r\u001b[K     |███████▌                        | 153kB 6.2MB/s eta 0:00:01\r\u001b[K     |████████                        | 163kB 6.2MB/s eta 0:00:01\r\u001b[K     |████████▍                       | 174kB 6.2MB/s eta 0:00:01\r\u001b[K     |█████████                       | 184kB 6.2MB/s eta 0:00:01\r\u001b[K     |█████████▍                      | 194kB 6.2MB/s eta 0:00:01\r\u001b[K     |██████████                      | 204kB 6.2MB/s eta 0:00:01\r\u001b[K     |██████████▍                     | 215kB 6.2MB/s eta 0:00:01\r\u001b[K     |███████████                     | 225kB 6.2MB/s eta 0:00:01\r\u001b[K     |███████████▍                    | 235kB 6.2MB/s eta 0:00:01\r\u001b[K     |████████████                    | 245kB 6.2MB/s eta 0:00:01\r\u001b[K     |████████████▍                   | 256kB 6.2MB/s eta 0:00:01\r\u001b[K     |█████████████                   | 266kB 6.2MB/s eta 0:00:01\r\u001b[K     |█████████████▍                  | 276kB 6.2MB/s eta 0:00:01\r\u001b[K     |██████████████                  | 286kB 6.2MB/s eta 0:00:01\r\u001b[K     |██████████████▍                 | 296kB 6.2MB/s eta 0:00:01\r\u001b[K     |███████████████                 | 307kB 6.2MB/s eta 0:00:01\r\u001b[K     |███████████████▍                | 317kB 6.2MB/s eta 0:00:01\r\u001b[K     |███████████████▉                | 327kB 6.2MB/s eta 0:00:01\r\u001b[K     |████████████████▍               | 337kB 6.2MB/s eta 0:00:01\r\u001b[K     |████████████████▉               | 348kB 6.2MB/s eta 0:00:01\r\u001b[K     |█████████████████▍              | 358kB 6.2MB/s eta 0:00:01\r\u001b[K     |█████████████████▉              | 368kB 6.2MB/s eta 0:00:01\r\u001b[K     |██████████████████▍             | 378kB 6.2MB/s eta 0:00:01\r\u001b[K     |██████████████████▉             | 389kB 6.2MB/s eta 0:00:01\r\u001b[K     |███████████████████▍            | 399kB 6.2MB/s eta 0:00:01\r\u001b[K     |███████████████████▉            | 409kB 6.2MB/s eta 0:00:01\r\u001b[K     |████████████████████▍           | 419kB 6.2MB/s eta 0:00:01\r\u001b[K     |████████████████████▉           | 430kB 6.2MB/s eta 0:00:01\r\u001b[K     |█████████████████████▍          | 440kB 6.2MB/s eta 0:00:01\r\u001b[K     |█████████████████████▉          | 450kB 6.2MB/s eta 0:00:01\r\u001b[K     |██████████████████████▍         | 460kB 6.2MB/s eta 0:00:01\r\u001b[K     |██████████████████████▉         | 471kB 6.2MB/s eta 0:00:01\r\u001b[K     |███████████████████████▎        | 481kB 6.2MB/s eta 0:00:01\r\u001b[K     |███████████████████████▉        | 491kB 6.2MB/s eta 0:00:01\r\u001b[K     |████████████████████████▎       | 501kB 6.2MB/s eta 0:00:01\r\u001b[K     |████████████████████████▉       | 512kB 6.2MB/s eta 0:00:01\r\u001b[K     |█████████████████████████▎      | 522kB 6.2MB/s eta 0:00:01\r\u001b[K     |█████████████████████████▉      | 532kB 6.2MB/s eta 0:00:01\r\u001b[K     |██████████████████████████▎     | 542kB 6.2MB/s eta 0:00:01\r\u001b[K     |██████████████████████████▉     | 552kB 6.2MB/s eta 0:00:01\r\u001b[K     |███████████████████████████▎    | 563kB 6.2MB/s eta 0:00:01\r\u001b[K     |███████████████████████████▉    | 573kB 6.2MB/s eta 0:00:01\r\u001b[K     |████████████████████████████▎   | 583kB 6.2MB/s eta 0:00:01\r\u001b[K     |████████████████████████████▉   | 593kB 6.2MB/s eta 0:00:01\r\u001b[K     |█████████████████████████████▎  | 604kB 6.2MB/s eta 0:00:01\r\u001b[K     |█████████████████████████████▉  | 614kB 6.2MB/s eta 0:00:01\r\u001b[K     |██████████████████████████████▎ | 624kB 6.2MB/s eta 0:00:01\r\u001b[K     |██████████████████████████████▊ | 634kB 6.2MB/s eta 0:00:01\r\u001b[K     |███████████████████████████████▎| 645kB 6.2MB/s eta 0:00:01\r\u001b[K     |███████████████████████████████▊| 655kB 6.2MB/s eta 0:00:01\r\u001b[K     |████████████████████████████████| 665kB 6.2MB/s \n",
            "\u001b[?25hRequirement already satisfied: regex!=2019.12.17 in /usr/local/lib/python3.6/dist-packages (from transformers) (2019.12.20)\n",
            "Collecting tokenizers==0.7.0\n",
            "\u001b[?25l  Downloading https://files.pythonhosted.org/packages/14/e5/a26eb4716523808bb0a799fcfdceb6ebf77a18169d9591b2f46a9adb87d9/tokenizers-0.7.0-cp36-cp36m-manylinux1_x86_64.whl (3.8MB)\n",
            "\u001b[K     |████████████████████████████████| 3.8MB 17.4MB/s \n",
            "\u001b[?25hRequirement already satisfied: numpy in /usr/local/lib/python3.6/dist-packages (from transformers) (1.18.4)\n",
            "Requirement already satisfied: dataclasses; python_version < \"3.7\" in /usr/local/lib/python3.6/dist-packages (from transformers) (0.7)\n",
            "Requirement already satisfied: tqdm>=4.27 in /usr/local/lib/python3.6/dist-packages (from transformers) (4.41.1)\n",
            "Requirement already satisfied: filelock in /usr/local/lib/python3.6/dist-packages (from transformers) (3.0.12)\n",
            "Requirement already satisfied: requests in /usr/local/lib/python3.6/dist-packages (from transformers) (2.23.0)\n",
            "Collecting sentencepiece\n",
            "\u001b[?25l  Downloading https://files.pythonhosted.org/packages/d4/a4/d0a884c4300004a78cca907a6ff9a5e9fe4f090f5d95ab341c53d28cbc58/sentencepiece-0.1.91-cp36-cp36m-manylinux1_x86_64.whl (1.1MB)\n",
            "\u001b[K     |████████████████████████████████| 1.1MB 45.3MB/s \n",
            "\u001b[?25hCollecting sacremoses\n",
            "\u001b[?25l  Downloading https://files.pythonhosted.org/packages/7d/34/09d19aff26edcc8eb2a01bed8e98f13a1537005d31e95233fd48216eed10/sacremoses-0.0.43.tar.gz (883kB)\n",
            "\u001b[K     |████████████████████████████████| 890kB 42.7MB/s \n",
            "\u001b[?25hRequirement already satisfied: certifi>=2017.4.17 in /usr/local/lib/python3.6/dist-packages (from requests->transformers) (2020.4.5.1)\n",
            "Requirement already satisfied: chardet<4,>=3.0.2 in /usr/local/lib/python3.6/dist-packages (from requests->transformers) (3.0.4)\n",
            "Requirement already satisfied: urllib3!=1.25.0,!=1.25.1,<1.26,>=1.21.1 in /usr/local/lib/python3.6/dist-packages (from requests->transformers) (1.24.3)\n",
            "Requirement already satisfied: idna<3,>=2.5 in /usr/local/lib/python3.6/dist-packages (from requests->transformers) (2.9)\n",
            "Requirement already satisfied: six in /usr/local/lib/python3.6/dist-packages (from sacremoses->transformers) (1.12.0)\n",
            "Requirement already satisfied: click in /usr/local/lib/python3.6/dist-packages (from sacremoses->transformers) (7.1.2)\n",
            "Requirement already satisfied: joblib in /usr/local/lib/python3.6/dist-packages (from sacremoses->transformers) (0.15.1)\n",
            "Building wheels for collected packages: sacremoses\n",
            "  Building wheel for sacremoses (setup.py) ... \u001b[?25l\u001b[?25hdone\n",
            "  Created wheel for sacremoses: filename=sacremoses-0.0.43-cp36-none-any.whl size=893260 sha256=e5f2304ce5f4c1a3154f4ff5fb86a2388760cecc10a074295135b804456a85cd\n",
            "  Stored in directory: /root/.cache/pip/wheels/29/3c/fd/7ce5c3f0666dab31a50123635e6fb5e19ceb42ce38d4e58f45\n",
            "Successfully built sacremoses\n",
            "Installing collected packages: tokenizers, sentencepiece, sacremoses, transformers\n",
            "Successfully installed sacremoses-0.0.43 sentencepiece-0.1.91 tokenizers-0.7.0 transformers-2.10.0\n"
          ],
          "name": "stdout"
        }
      ]
    },
    {
      "cell_type": "markdown",
      "metadata": {
        "colab_type": "text",
        "id": "dgr3EsNONMSG"
      },
      "source": [
        "## CUDA\n",
        "\n",
        "\n",
        "\n"
      ]
    },
    {
      "cell_type": "code",
      "metadata": {
        "colab_type": "code",
        "id": "zYYbXALmNMSH",
        "colab": {}
      },
      "source": [
        "import tensorflow as tf"
      ],
      "execution_count": 0,
      "outputs": []
    },
    {
      "cell_type": "code",
      "metadata": {
        "colab_type": "code",
        "id": "fchg0kQONMSJ",
        "colab": {}
      },
      "source": [
        "# Get the GPU device name.\n",
        "device_name = tf.test.gpu_device_name()"
      ],
      "execution_count": 0,
      "outputs": []
    },
    {
      "cell_type": "code",
      "metadata": {
        "id": "SpvSi8ClNZra",
        "colab_type": "code",
        "outputId": "a5eafe86-9ed2-477e-ac26-5faf4899c9f8",
        "colab": {
          "base_uri": "https://localhost:8080/",
          "height": 51
        }
      },
      "source": [
        "import torch\n",
        "\n",
        "# If there's a GPU available...\n",
        "if torch.cuda.is_available():    \n",
        "\n",
        "    # Tell PyTorch to use the GPU.    \n",
        "    device = torch.device(\"cuda\")\n",
        "\n",
        "    print('There are %d GPU(s) available.' % torch.cuda.device_count())\n",
        "\n",
        "    print('We will use the GPU:', torch.cuda.get_device_name(0))\n",
        "\n",
        "# If not...\n",
        "else:\n",
        "    print('No GPU available, using the CPU instead.')\n",
        "    device = torch.device(\"cpu\")"
      ],
      "execution_count": 5,
      "outputs": [
        {
          "output_type": "stream",
          "text": [
            "There are 1 GPU(s) available.\n",
            "We will use the GPU: Tesla K80\n"
          ],
          "name": "stdout"
        }
      ]
    },
    {
      "cell_type": "markdown",
      "metadata": {
        "id": "epWcPHhJ7v7j",
        "colab_type": "text"
      },
      "source": [
        "Instal apex if you want to do 16 bit training. You'll probably need to restart the notebook after installing apex"
      ]
    },
    {
      "cell_type": "markdown",
      "metadata": {
        "id": "HVxGfmEMCKs_",
        "colab_type": "text"
      },
      "source": [
        "## Import \n",
        "\n",
        "\n",
        "\n"
      ]
    },
    {
      "cell_type": "code",
      "metadata": {
        "id": "HS8mNXq6bdxq",
        "colab_type": "code",
        "outputId": "16008c4f-42d5-456b-a8ef-57c6db0fa3a5",
        "colab": {
          "base_uri": "https://localhost:8080/",
          "height": 51
        }
      },
      "source": [
        "import argparse\n",
        "import glob\n",
        "import os\n",
        "import json\n",
        "import time\n",
        "import logging\n",
        "import random\n",
        "import re\n",
        "from itertools import chain\n",
        "from string import punctuation\n",
        "\n",
        "import nltk\n",
        "nltk.download('punkt')\n",
        "from nltk.tokenize import sent_tokenize\n",
        "from nltk import word_tokenize\n",
        "\n",
        "import pandas as pd\n",
        "import numpy as np\n",
        "import torch\n",
        "from torch.utils.data import Dataset, DataLoader\n",
        "\n",
        "from sklearn.pipeline import make_pipeline\n",
        "from sklearn.feature_extraction.text import TfidfVectorizer, CountVectorizer\n",
        "from sklearn.linear_model import LogisticRegression, SGDClassifier\n",
        "from sklearn.metrics import accuracy_score, matthews_corrcoef\n",
        "from sklearn.metrics import classification_report\n"
      ],
      "execution_count": 6,
      "outputs": [
        {
          "output_type": "stream",
          "text": [
            "[nltk_data] Downloading package punkt to /root/nltk_data...\n",
            "[nltk_data]   Unzipping tokenizers/punkt.zip.\n"
          ],
          "name": "stdout"
        }
      ]
    },
    {
      "cell_type": "markdown",
      "metadata": {
        "colab_type": "text",
        "id": "o_jkB498L1kP"
      },
      "source": [
        "## Download data and classification"
      ]
    },
    {
      "cell_type": "markdown",
      "metadata": {
        "colab_type": "text",
        "id": "fyJBC0H_L1kR"
      },
      "source": [
        "### Download COLA Data"
      ]
    },
    {
      "cell_type": "code",
      "metadata": {
        "id": "OdVYJ86_yk9j",
        "colab_type": "code",
        "colab": {}
      },
      "source": [
        "label2hot = {\n",
        "  0: [1,0],\n",
        "  1: [0,1]\n",
        "}"
      ],
      "execution_count": 0,
      "outputs": []
    },
    {
      "cell_type": "code",
      "metadata": {
        "colab_type": "code",
        "id": "EwipLaoaL1kg",
        "outputId": "830e6084-9118-4c11-fb46-47d0404fd28d",
        "colab": {
          "base_uri": "https://localhost:8080/",
          "height": 51
        }
      },
      "source": [
        "!pip install wget\n",
        "import wget\n",
        "import os\n",
        "\n",
        "print('Downloading dataset...')\n",
        "\n",
        "# The URL for the dataset zip file.\n",
        "url = 'https://nyu-mll.github.io/CoLA/cola_public_1.1.zip'\n",
        "\n",
        "\n",
        "# Download the file (if we haven't already)\n",
        "if not os.path.exists('./cola_public_1.1.zip'):\n",
        "    wget.download(url, './cola_public_1.1.zip')"
      ],
      "execution_count": 469,
      "outputs": [
        {
          "output_type": "stream",
          "text": [
            "Requirement already satisfied: wget in /usr/local/lib/python3.6/dist-packages (3.2)\n",
            "Downloading dataset...\n"
          ],
          "name": "stdout"
        }
      ]
    },
    {
      "cell_type": "code",
      "metadata": {
        "id": "NLvBrV0uOcS7",
        "colab_type": "code",
        "colab": {}
      },
      "source": [
        "# Unzip the dataset (if we haven't already)\n",
        "if not os.path.exists('./cola_public/'):\n",
        "    !unzip cola_public_1.1.zip"
      ],
      "execution_count": 0,
      "outputs": []
    },
    {
      "cell_type": "code",
      "metadata": {
        "id": "379vLvuzOgFf",
        "colab_type": "code",
        "outputId": "4ae9e6f1-b1c9-4ce0-fe78-7f56a51e2a43",
        "colab": {
          "base_uri": "https://localhost:8080/",
          "height": 393
        }
      },
      "source": [
        "import pandas as pd\n",
        "\n",
        "# Load the dataset into a pandas dataframe.\n",
        "df = pd.read_csv(\"./cola_public/raw/in_domain_train.tsv\", delimiter='\\t', header=None, names=['label', 'label_notes', 'sentence'])\n",
        "\n",
        "# Report the number of sentences.\n",
        "print('Number of training sentences: {:,}\\n'.format(df.shape[0]))\n",
        "\n",
        "# Display 10 random rows from the data.\n",
        "df.sample(10)"
      ],
      "execution_count": 472,
      "outputs": [
        {
          "output_type": "stream",
          "text": [
            "Number of training sentences: 8,551\n",
            "\n"
          ],
          "name": "stdout"
        },
        {
          "output_type": "execute_result",
          "data": {
            "text/html": [
              "<div>\n",
              "<style scoped>\n",
              "    .dataframe tbody tr th:only-of-type {\n",
              "        vertical-align: middle;\n",
              "    }\n",
              "\n",
              "    .dataframe tbody tr th {\n",
              "        vertical-align: top;\n",
              "    }\n",
              "\n",
              "    .dataframe thead th {\n",
              "        text-align: right;\n",
              "    }\n",
              "</style>\n",
              "<table border=\"1\" class=\"dataframe\">\n",
              "  <thead>\n",
              "    <tr style=\"text-align: right;\">\n",
              "      <th></th>\n",
              "      <th>label</th>\n",
              "      <th>label_notes</th>\n",
              "      <th>sentence</th>\n",
              "    </tr>\n",
              "  </thead>\n",
              "  <tbody>\n",
              "    <tr>\n",
              "      <th>r-67</th>\n",
              "      <td>1</td>\n",
              "      <td>NaN</td>\n",
              "      <td>What exploded when?</td>\n",
              "    </tr>\n",
              "    <tr>\n",
              "      <th>ks08</th>\n",
              "      <td>1</td>\n",
              "      <td>NaN</td>\n",
              "      <td>John can be dancing.</td>\n",
              "    </tr>\n",
              "    <tr>\n",
              "      <th>c_13</th>\n",
              "      <td>1</td>\n",
              "      <td>NaN</td>\n",
              "      <td>The cats ate the spider.</td>\n",
              "    </tr>\n",
              "    <tr>\n",
              "      <th>cj99</th>\n",
              "      <td>1</td>\n",
              "      <td>NaN</td>\n",
              "      <td>His expectations are always lower than mine.</td>\n",
              "    </tr>\n",
              "    <tr>\n",
              "      <th>g_81</th>\n",
              "      <td>0</td>\n",
              "      <td>*</td>\n",
              "      <td>The man who Mary loves and Sally hates George ...</td>\n",
              "    </tr>\n",
              "    <tr>\n",
              "      <th>ks08</th>\n",
              "      <td>1</td>\n",
              "      <td>NaN</td>\n",
              "      <td>His second book came out earlier this year and...</td>\n",
              "    </tr>\n",
              "    <tr>\n",
              "      <th>r-67</th>\n",
              "      <td>0</td>\n",
              "      <td>*</td>\n",
              "      <td>How brave Mike is cowardly and Sam is!</td>\n",
              "    </tr>\n",
              "    <tr>\n",
              "      <th>b_73</th>\n",
              "      <td>0</td>\n",
              "      <td>*</td>\n",
              "      <td>The table is longer than the door's wide.</td>\n",
              "    </tr>\n",
              "    <tr>\n",
              "      <th>r-67</th>\n",
              "      <td>1</td>\n",
              "      <td>NaN</td>\n",
              "      <td>I brought John a razor to shave himself with.</td>\n",
              "    </tr>\n",
              "    <tr>\n",
              "      <th>ks08</th>\n",
              "      <td>1</td>\n",
              "      <td>NaN</td>\n",
              "      <td>Kim regrets not having seen the movie.</td>\n",
              "    </tr>\n",
              "  </tbody>\n",
              "</table>\n",
              "</div>"
            ],
            "text/plain": [
              "      label label_notes                                           sentence\n",
              "r-67      1         NaN                                What exploded when?\n",
              "ks08      1         NaN                               John can be dancing.\n",
              "c_13      1         NaN                           The cats ate the spider.\n",
              "cj99      1         NaN       His expectations are always lower than mine.\n",
              "g_81      0           *  The man who Mary loves and Sally hates George ...\n",
              "ks08      1         NaN  His second book came out earlier this year and...\n",
              "r-67      0           *             How brave Mike is cowardly and Sam is!\n",
              "b_73      0           *          The table is longer than the door's wide.\n",
              "r-67      1         NaN      I brought John a razor to shave himself with.\n",
              "ks08      1         NaN             Kim regrets not having seen the movie."
            ]
          },
          "metadata": {
            "tags": []
          },
          "execution_count": 472
        }
      ]
    },
    {
      "cell_type": "code",
      "metadata": {
        "id": "sBisC5ipOpCe",
        "colab_type": "code",
        "outputId": "dddb6482-976b-4b50-a9d8-25fe262dc275",
        "colab": {
          "base_uri": "https://localhost:8080/",
          "height": 204
        }
      },
      "source": [
        "df.loc[df.label == 0].sample(5)[['sentence', 'label']]"
      ],
      "execution_count": 447,
      "outputs": [
        {
          "output_type": "execute_result",
          "data": {
            "text/html": [
              "<div>\n",
              "<style scoped>\n",
              "    .dataframe tbody tr th:only-of-type {\n",
              "        vertical-align: middle;\n",
              "    }\n",
              "\n",
              "    .dataframe tbody tr th {\n",
              "        vertical-align: top;\n",
              "    }\n",
              "\n",
              "    .dataframe thead th {\n",
              "        text-align: right;\n",
              "    }\n",
              "</style>\n",
              "<table border=\"1\" class=\"dataframe\">\n",
              "  <thead>\n",
              "    <tr style=\"text-align: right;\">\n",
              "      <th></th>\n",
              "      <th>sentence</th>\n",
              "      <th>label</th>\n",
              "    </tr>\n",
              "  </thead>\n",
              "  <tbody>\n",
              "    <tr>\n",
              "      <th>bc01</th>\n",
              "      <td>I did not, as Bill had thought, go to the store.</td>\n",
              "      <td>0</td>\n",
              "    </tr>\n",
              "    <tr>\n",
              "      <th>ad03</th>\n",
              "      <td>Which the poem did Homer recite?</td>\n",
              "      <td>0</td>\n",
              "    </tr>\n",
              "    <tr>\n",
              "      <th>bc01</th>\n",
              "      <td>David is a great artist, and when he does, his...</td>\n",
              "      <td>0</td>\n",
              "    </tr>\n",
              "    <tr>\n",
              "      <th>r-67</th>\n",
              "      <td>Maxwell isn't half the doctor that I know an A...</td>\n",
              "      <td>0</td>\n",
              "    </tr>\n",
              "    <tr>\n",
              "      <th>rhl07</th>\n",
              "      <td>I lent the book halfway to Tony.</td>\n",
              "      <td>0</td>\n",
              "    </tr>\n",
              "  </tbody>\n",
              "</table>\n",
              "</div>"
            ],
            "text/plain": [
              "                                                sentence  label\n",
              "bc01    I did not, as Bill had thought, go to the store.      0\n",
              "ad03                    Which the poem did Homer recite?      0\n",
              "bc01   David is a great artist, and when he does, his...      0\n",
              "r-67   Maxwell isn't half the doctor that I know an A...      0\n",
              "rhl07                   I lent the book halfway to Tony.      0"
            ]
          },
          "metadata": {
            "tags": []
          },
          "execution_count": 447
        }
      ]
    },
    {
      "cell_type": "code",
      "metadata": {
        "id": "4GOpOqstOpnO",
        "colab_type": "code",
        "colab": {}
      },
      "source": [
        "# Get the lists of sentences and their labels.\n",
        "X_train = df.sentence.values\n",
        "y_train = df.label.values\n",
        "\n",
        "y_train_hotvec = [label2hot[l] for l in df.label.values]\n",
        "y_train_hotvec = np.array(y_train_hotvec)"
      ],
      "execution_count": 0,
      "outputs": []
    },
    {
      "cell_type": "code",
      "metadata": {
        "id": "DQ8CGwAFAfG0",
        "colab_type": "code",
        "outputId": "2e39a4f7-a89f-4bd0-e9e3-618cbd4ed721",
        "colab": {
          "base_uri": "https://localhost:8080/",
          "height": 51
        }
      },
      "source": [
        "# Load the dataset into a pandas dataframe.\n",
        "df = pd.read_csv(\"./cola_public/raw/out_of_domain_dev.tsv\", delimiter='\\t', header=None, names=['sentence_source', 'label', 'label_notes', 'sentence'])\n",
        "\n",
        "# Report the number of sentences.\n",
        "print('Number of test sentences: {:,}\\n'.format(df.shape[0]))\n",
        "\n",
        "# Create sentence and label lists\n",
        "X_test = df.sentence.values\n",
        "y_test = df.label.values\n",
        "\n",
        "y_test_hotvec = [label2hot[l] for l in df.label.values]\n",
        "y_test_hotvec = np.array(y_test_hotvec)"
      ],
      "execution_count": 474,
      "outputs": [
        {
          "output_type": "stream",
          "text": [
            "Number of test sentences: 516\n",
            "\n"
          ],
          "name": "stdout"
        }
      ]
    },
    {
      "cell_type": "markdown",
      "metadata": {
        "id": "hFKa5hFmu9WN",
        "colab_type": "text"
      },
      "source": [
        "Sanity check"
      ]
    },
    {
      "cell_type": "code",
      "metadata": {
        "id": "RWwtmcH5tU8z",
        "colab_type": "code",
        "colab": {}
      },
      "source": [
        "import pickle\n",
        "\n",
        "def load_from_pickle(directory):\n",
        "    return pickle.load(open(directory,\"rb\"))\n",
        "\n",
        "logits_train = load_from_pickle(\"/gdrive/My Drive/DataSet/BERT Models/BERTlogit_COLA_100p_Acc83_Mc50.pkl\")"
      ],
      "execution_count": 0,
      "outputs": []
    },
    {
      "cell_type": "code",
      "metadata": {
        "id": "Pe3F3xB-usSd",
        "colab_type": "code",
        "colab": {
          "base_uri": "https://localhost:8080/",
          "height": 187
        },
        "outputId": "fc19ddd4-0e9e-411f-9362-f98a6fb97263"
      },
      "source": [
        "flat_predictions = np.argmax(logits_train, axis=1).flatten()\n",
        "from sklearn.metrics import classification_report\n",
        "print(classification_report(y_train, flat_predictions))\n",
        "print(matthews_corrcoef(y_train, flat_predictions))"
      ],
      "execution_count": 451,
      "outputs": [
        {
          "output_type": "stream",
          "text": [
            "              precision    recall  f1-score   support\n",
            "\n",
            "           0       0.86      0.52      0.65      2528\n",
            "           1       0.83      0.96      0.89      6023\n",
            "\n",
            "    accuracy                           0.83      8551\n",
            "   macro avg       0.84      0.74      0.77      8551\n",
            "weighted avg       0.84      0.83      0.82      8551\n",
            "\n",
            "0.5778340438547784\n"
          ],
          "name": "stdout"
        }
      ]
    },
    {
      "cell_type": "code",
      "metadata": {
        "id": "kDjbK54tWc4Y",
        "colab_type": "code",
        "colab": {}
      },
      "source": [
        "y_train_psedu = np.array([label2hot[l] for l in flat_predictions])"
      ],
      "execution_count": 0,
      "outputs": []
    },
    {
      "cell_type": "markdown",
      "metadata": {
        "colab_type": "text",
        "id": "p6J6H5WQDHFV"
      },
      "source": [
        "### Download SST2 Data"
      ]
    },
    {
      "cell_type": "code",
      "metadata": {
        "id": "gohMd7x7nDiy",
        "colab_type": "code",
        "colab": {}
      },
      "source": [
        "label2hot = {\n",
        "  0: [1,0],\n",
        "  1: [0,1]\n",
        "}"
      ],
      "execution_count": 0,
      "outputs": []
    },
    {
      "cell_type": "code",
      "metadata": {
        "colab_type": "code",
        "id": "33RwcTlHDHFW",
        "outputId": "e47d2c67-aa2f-460f-c2b6-e76b58f0d0fc",
        "colab": {
          "base_uri": "https://localhost:8080/",
          "height": 393
        }
      },
      "source": [
        "import pandas as pd\n",
        "\n",
        "# Load the dataset into a pandas dataframe.\n",
        "\n",
        "df = pd.read_csv('https://github.com/clairett/pytorch-sentiment-classification/raw/master/data/SST2/train.tsv', delimiter='\\t', header=None)\n",
        "\n",
        "# Report the number of sentences.\n",
        "print('Number of training sentences: {:,}\\n'.format(df.shape[0]))\n",
        "\n",
        "# Display 10 random rows from the data.\n",
        "df.sample(10)"
      ],
      "execution_count": 8,
      "outputs": [
        {
          "output_type": "stream",
          "text": [
            "Number of training sentences: 6,920\n",
            "\n"
          ],
          "name": "stdout"
        },
        {
          "output_type": "execute_result",
          "data": {
            "text/html": [
              "<div>\n",
              "<style scoped>\n",
              "    .dataframe tbody tr th:only-of-type {\n",
              "        vertical-align: middle;\n",
              "    }\n",
              "\n",
              "    .dataframe tbody tr th {\n",
              "        vertical-align: top;\n",
              "    }\n",
              "\n",
              "    .dataframe thead th {\n",
              "        text-align: right;\n",
              "    }\n",
              "</style>\n",
              "<table border=\"1\" class=\"dataframe\">\n",
              "  <thead>\n",
              "    <tr style=\"text-align: right;\">\n",
              "      <th></th>\n",
              "      <th>0</th>\n",
              "      <th>1</th>\n",
              "    </tr>\n",
              "  </thead>\n",
              "  <tbody>\n",
              "    <tr>\n",
              "      <th>2529</th>\n",
              "      <td>psychologically revealing</td>\n",
              "      <td>1</td>\n",
              "    </tr>\n",
              "    <tr>\n",
              "      <th>1276</th>\n",
              "      <td>passionate , irrational , long suffering but c...</td>\n",
              "      <td>1</td>\n",
              "    </tr>\n",
              "    <tr>\n",
              "      <th>1166</th>\n",
              "      <td>do n't let the subtitles fool you the movie on...</td>\n",
              "      <td>0</td>\n",
              "    </tr>\n",
              "    <tr>\n",
              "      <th>949</th>\n",
              "      <td>but it 's hardly a necessary enterprise</td>\n",
              "      <td>0</td>\n",
              "    </tr>\n",
              "    <tr>\n",
              "      <th>1730</th>\n",
              "      <td>definitely worth 95 minutes of your time</td>\n",
              "      <td>1</td>\n",
              "    </tr>\n",
              "    <tr>\n",
              "      <th>6151</th>\n",
              "      <td>very predictable but still entertaining</td>\n",
              "      <td>1</td>\n",
              "    </tr>\n",
              "    <tr>\n",
              "      <th>2227</th>\n",
              "      <td>there 's real visual charge to the filmmaking ...</td>\n",
              "      <td>1</td>\n",
              "    </tr>\n",
              "    <tr>\n",
              "      <th>16</th>\n",
              "      <td>if the tuxedo actually were a suit , it would ...</td>\n",
              "      <td>0</td>\n",
              "    </tr>\n",
              "    <tr>\n",
              "      <th>1870</th>\n",
              "      <td>in addition to hoffman 's powerful acting clin...</td>\n",
              "      <td>1</td>\n",
              "    </tr>\n",
              "    <tr>\n",
              "      <th>1760</th>\n",
              "      <td>what ` blade runner ' would 've looked like as...</td>\n",
              "      <td>0</td>\n",
              "    </tr>\n",
              "  </tbody>\n",
              "</table>\n",
              "</div>"
            ],
            "text/plain": [
              "                                                      0  1\n",
              "2529                          psychologically revealing  1\n",
              "1276  passionate , irrational , long suffering but c...  1\n",
              "1166  do n't let the subtitles fool you the movie on...  0\n",
              "949             but it 's hardly a necessary enterprise  0\n",
              "1730           definitely worth 95 minutes of your time  1\n",
              "6151            very predictable but still entertaining  1\n",
              "2227  there 's real visual charge to the filmmaking ...  1\n",
              "16    if the tuxedo actually were a suit , it would ...  0\n",
              "1870  in addition to hoffman 's powerful acting clin...  1\n",
              "1760  what ` blade runner ' would 've looked like as...  0"
            ]
          },
          "metadata": {
            "tags": []
          },
          "execution_count": 8
        }
      ]
    },
    {
      "cell_type": "code",
      "metadata": {
        "colab_type": "code",
        "id": "TV-RydDnDHFY",
        "colab": {}
      },
      "source": [
        "text_col=df.columns.values[0] \n",
        "category_col=df.columns.values[1]\n",
        "\n",
        "# Get the lists of sentences and their labels.\n",
        "X_train = df[text_col]\n",
        "y_train = df[category_col]\n",
        "\n",
        "y_train_hotvec = [label2hot[l] for l in df[category_col].values]\n",
        "y_train_hotvec = np.array(y_train_hotvec)"
      ],
      "execution_count": 0,
      "outputs": []
    },
    {
      "cell_type": "code",
      "metadata": {
        "id": "zgb3lfhzDwgC",
        "colab_type": "code",
        "outputId": "4cd5a64a-8304-4b31-facc-4f5e401a980d",
        "colab": {
          "base_uri": "https://localhost:8080/",
          "height": 51
        }
      },
      "source": [
        "# Load the test dataset into a pandas dataframe.\n",
        "df = pd.read_csv('https://github.com/clairett/pytorch-sentiment-classification/raw/master/data/SST2/test.tsv', delimiter='\\t', header=None)\n",
        "\n",
        "# Report the number of sentences.\n",
        "print('Number of test sentences: {:,}\\n'.format(df.shape[0]))\n",
        "\n",
        "# Create sentence and label lists\n",
        "X_test = df[text_col]\n",
        "y_test = df[category_col]\n",
        "\n",
        "y_test_hotvec = [label2hot[l] for l in df[category_col].values]\n",
        "y_test_hotvec = np.array(y_test_hotvec)"
      ],
      "execution_count": 10,
      "outputs": [
        {
          "output_type": "stream",
          "text": [
            "Number of test sentences: 1,821\n",
            "\n"
          ],
          "name": "stdout"
        }
      ]
    },
    {
      "cell_type": "code",
      "metadata": {
        "id": "WNI78d6HjTV7",
        "colab_type": "code",
        "colab": {}
      },
      "source": [
        "import pickle\n",
        "\n",
        "def load_from_pickle(directory):\n",
        "    return pickle.load(open(directory,\"rb\"))\n",
        "\n",
        "logits_train = load_from_pickle(\"/gdrive/My Drive/DataSet/BERT Models/BERTlogit_STS2_100p_Acc91.pkl\")"
      ],
      "execution_count": 0,
      "outputs": []
    },
    {
      "cell_type": "code",
      "metadata": {
        "id": "pRudA6jXGnOW",
        "colab_type": "code",
        "colab": {
          "base_uri": "https://localhost:8080/",
          "height": 170
        },
        "outputId": "ef952dfe-24c6-46e6-c476-e7aa01a4de22"
      },
      "source": [
        "flat_predictions = np.argmax(logits_train, axis=1).flatten()\n",
        "from sklearn.metrics import classification_report\n",
        "print(classification_report(y_train, flat_predictions))"
      ],
      "execution_count": 294,
      "outputs": [
        {
          "output_type": "stream",
          "text": [
            "              precision    recall  f1-score   support\n",
            "\n",
            "           0       0.98      0.99      0.99      3310\n",
            "           1       0.99      0.98      0.99      3610\n",
            "\n",
            "    accuracy                           0.99      6920\n",
            "   macro avg       0.99      0.99      0.99      6920\n",
            "weighted avg       0.99      0.99      0.99      6920\n",
            "\n"
          ],
          "name": "stdout"
        }
      ]
    },
    {
      "cell_type": "code",
      "metadata": {
        "id": "ZtnOJyl9OMjx",
        "colab_type": "code",
        "colab": {}
      },
      "source": [
        "y_train_psedu = np.array([label2hot[l] for l in flat_predictions])"
      ],
      "execution_count": 0,
      "outputs": []
    },
    {
      "cell_type": "markdown",
      "metadata": {
        "colab_type": "text",
        "id": "TNNzICCIELUj"
      },
      "source": [
        "### Download IMDB Data"
      ]
    },
    {
      "cell_type": "code",
      "metadata": {
        "id": "Z37xWt26r_eY",
        "colab_type": "code",
        "colab": {}
      },
      "source": [
        "# https://towardsdatascience.com/building-a-sentiment-classifier-using-scikit-learn-54c8e7c5d2f0\n",
        "import pandas as pd\n",
        "import re\n",
        "from os import system, listdir\n",
        "from os.path import isfile, join\n",
        "from random import shuffle\n",
        "import random\n",
        "\n",
        "random.seed(42)\n",
        "\n",
        "system('wget \"http://ai.stanford.edu/~amaas/data/sentiment/aclImdb_v1.tar.gz\"')\n",
        "system('tar -xzf \"aclImdb_v1.tar.gz\"')\n",
        "\n",
        "def create_data_frame(folder: str) -> pd.DataFrame:\n",
        "    '''\n",
        "    folder - the root folder of train or test dataset\n",
        "    Returns: a DataFrame with the combined data from the input folder\n",
        "    '''\n",
        "    pos_folder = f'{folder}/pos' # positive reviews\n",
        "    neg_folder = f'{folder}/neg' # negative reviews\n",
        "    \n",
        "    def get_files(fld: str) -> list:\n",
        "        '''\n",
        "        fld - positive or negative reviews folder\n",
        "        Returns: a list with all files in input folder\n",
        "        '''\n",
        "        return [join(fld, f) for f in listdir(fld) if isfile(join(fld, f))]\n",
        "    \n",
        "    def append_files_data(data_list: list, files: list, label: int) -> None:\n",
        "        '''\n",
        "        Appends to 'data_list' tuples of form (file content, label)\n",
        "        for each file in 'files' input list\n",
        "        '''\n",
        "        for file_path in files:\n",
        "            with open(file_path, 'r') as f:\n",
        "                text = f.read()\n",
        "                data_list.append((text, label))\n",
        "    \n",
        "    pos_files = get_files(pos_folder)\n",
        "    neg_files = get_files(neg_folder)\n",
        "    \n",
        "    data_list = []\n",
        "    append_files_data(data_list, pos_files, 1)\n",
        "    append_files_data(data_list, neg_files, 0)\n",
        "    shuffle(data_list)\n",
        "    \n",
        "    text, label = tuple(zip(*data_list))\n",
        "    # replacing line breaks with spaces\n",
        "    text = list(map(lambda txt: re.sub('(<br\\s*/?>)+', ' ', txt), text))\n",
        "    \n",
        "    return pd.DataFrame({'text': text, 'label': label})\n",
        "\n",
        "imdb_train = create_data_frame('aclImdb/train')\n",
        "imdb_test = create_data_frame('aclImdb/test')\n",
        "\n",
        "system(\"mkdir 'csv'\")\n",
        "imdb_train.to_csv('csv/imdb_train.csv', index=False)\n",
        "imdb_test.to_csv('csv/imdb_test.csv', index=False)"
      ],
      "execution_count": 0,
      "outputs": []
    },
    {
      "cell_type": "code",
      "metadata": {
        "colab_type": "code",
        "id": "to2KEatAELUk",
        "outputId": "3ba6d54e-57bd-4b8b-95f9-631362ce4dc1",
        "colab": {
          "base_uri": "https://localhost:8080/",
          "height": 238
        }
      },
      "source": [
        "import pandas as pd\n",
        "\n",
        "# Load the dataset into a pandas dataframe.\n",
        "\n",
        "#df = pd.read_csv('/gdrive/My Drive/DataSet/IMDB/imdb_train.csv')\n",
        "df = pd.read_csv('csv/imdb_train.csv')\n",
        "\n",
        "# Report the number of sentences.\n",
        "print('Number of training sentences: {:,}\\n'.format(df.shape[0]))\n",
        "\n",
        "# Display first 10 rows from the data.\n",
        "df.head()"
      ],
      "execution_count": 85,
      "outputs": [
        {
          "output_type": "stream",
          "text": [
            "Number of training sentences: 25,000\n",
            "\n"
          ],
          "name": "stdout"
        },
        {
          "output_type": "execute_result",
          "data": {
            "text/html": [
              "<div>\n",
              "<style scoped>\n",
              "    .dataframe tbody tr th:only-of-type {\n",
              "        vertical-align: middle;\n",
              "    }\n",
              "\n",
              "    .dataframe tbody tr th {\n",
              "        vertical-align: top;\n",
              "    }\n",
              "\n",
              "    .dataframe thead th {\n",
              "        text-align: right;\n",
              "    }\n",
              "</style>\n",
              "<table border=\"1\" class=\"dataframe\">\n",
              "  <thead>\n",
              "    <tr style=\"text-align: right;\">\n",
              "      <th></th>\n",
              "      <th>text</th>\n",
              "      <th>label</th>\n",
              "    </tr>\n",
              "  </thead>\n",
              "  <tbody>\n",
              "    <tr>\n",
              "      <th>0</th>\n",
              "      <td>This is the worst movie I have ever seen. I wa...</td>\n",
              "      <td>0</td>\n",
              "    </tr>\n",
              "    <tr>\n",
              "      <th>1</th>\n",
              "      <td>This movie was excellent. It details the strug...</td>\n",
              "      <td>1</td>\n",
              "    </tr>\n",
              "    <tr>\n",
              "      <th>2</th>\n",
              "      <td>Back in 74 Eric Monte made the classic T.V sho...</td>\n",
              "      <td>1</td>\n",
              "    </tr>\n",
              "    <tr>\n",
              "      <th>3</th>\n",
              "      <td>Superficically, \"Brigadoon\" is a very promisin...</td>\n",
              "      <td>0</td>\n",
              "    </tr>\n",
              "    <tr>\n",
              "      <th>4</th>\n",
              "      <td>\"The Straight Story\" is a truly beautiful movi...</td>\n",
              "      <td>1</td>\n",
              "    </tr>\n",
              "  </tbody>\n",
              "</table>\n",
              "</div>"
            ],
            "text/plain": [
              "                                                text  label\n",
              "0  This is the worst movie I have ever seen. I wa...      0\n",
              "1  This movie was excellent. It details the strug...      1\n",
              "2  Back in 74 Eric Monte made the classic T.V sho...      1\n",
              "3  Superficically, \"Brigadoon\" is a very promisin...      0\n",
              "4  \"The Straight Story\" is a truly beautiful movi...      1"
            ]
          },
          "metadata": {
            "tags": []
          },
          "execution_count": 85
        }
      ]
    },
    {
      "cell_type": "code",
      "metadata": {
        "id": "iTg3FTxBixFR",
        "colab_type": "code",
        "colab": {}
      },
      "source": [
        "label2hot = {\n",
        "  0: [1,0],\n",
        "  1: [0,1]\n",
        "}"
      ],
      "execution_count": 0,
      "outputs": []
    },
    {
      "cell_type": "code",
      "metadata": {
        "colab_type": "code",
        "id": "J9qoZxRQELUm",
        "colab": {}
      },
      "source": [
        "X_train = df.text.values\n",
        "y_train = df.label.values\n",
        "\n",
        "y_train_hotvec = [label2hot[l] for l in df.label.values]\n",
        "y_train_hotvec = np.array(y_train_hotvec)"
      ],
      "execution_count": 0,
      "outputs": []
    },
    {
      "cell_type": "code",
      "metadata": {
        "id": "tvJRJZFkZ_Fp",
        "colab_type": "code",
        "colab": {
          "base_uri": "https://localhost:8080/",
          "height": 204
        },
        "outputId": "5b44dbb8-2763-477f-ef61-bf4648c342b9"
      },
      "source": [
        "# Load the test dataset into a pandas dataframe.\n",
        "\n",
        "#df = pd.read_csv('/gdrive/My Drive/DataSet/IMDB/imdb_test.csv')\n",
        "df = pd.read_csv('csv/imdb_test.csv')\n",
        "\n",
        "df.head()"
      ],
      "execution_count": 88,
      "outputs": [
        {
          "output_type": "execute_result",
          "data": {
            "text/html": [
              "<div>\n",
              "<style scoped>\n",
              "    .dataframe tbody tr th:only-of-type {\n",
              "        vertical-align: middle;\n",
              "    }\n",
              "\n",
              "    .dataframe tbody tr th {\n",
              "        vertical-align: top;\n",
              "    }\n",
              "\n",
              "    .dataframe thead th {\n",
              "        text-align: right;\n",
              "    }\n",
              "</style>\n",
              "<table border=\"1\" class=\"dataframe\">\n",
              "  <thead>\n",
              "    <tr style=\"text-align: right;\">\n",
              "      <th></th>\n",
              "      <th>text</th>\n",
              "      <th>label</th>\n",
              "    </tr>\n",
              "  </thead>\n",
              "  <tbody>\n",
              "    <tr>\n",
              "      <th>0</th>\n",
              "      <td>I am writing this with 10 minutes left before ...</td>\n",
              "      <td>0</td>\n",
              "    </tr>\n",
              "    <tr>\n",
              "      <th>1</th>\n",
              "      <td>I saw this Film one midnight and I can say tha...</td>\n",
              "      <td>0</td>\n",
              "    </tr>\n",
              "    <tr>\n",
              "      <th>2</th>\n",
              "      <td>I would say 'Bride of Chucky' is a \"return to ...</td>\n",
              "      <td>1</td>\n",
              "    </tr>\n",
              "    <tr>\n",
              "      <th>3</th>\n",
              "      <td>***SPOILERS*** ***SPOILERS*** Well, seeing as ...</td>\n",
              "      <td>1</td>\n",
              "    </tr>\n",
              "    <tr>\n",
              "      <th>4</th>\n",
              "      <td>MR. BASEBALL is a film of paradoxes. Written a...</td>\n",
              "      <td>1</td>\n",
              "    </tr>\n",
              "  </tbody>\n",
              "</table>\n",
              "</div>"
            ],
            "text/plain": [
              "                                                text  label\n",
              "0  I am writing this with 10 minutes left before ...      0\n",
              "1  I saw this Film one midnight and I can say tha...      0\n",
              "2  I would say 'Bride of Chucky' is a \"return to ...      1\n",
              "3  ***SPOILERS*** ***SPOILERS*** Well, seeing as ...      1\n",
              "4  MR. BASEBALL is a film of paradoxes. Written a...      1"
            ]
          },
          "metadata": {
            "tags": []
          },
          "execution_count": 88
        }
      ]
    },
    {
      "cell_type": "code",
      "metadata": {
        "id": "ewDCdiPWEhTu",
        "colab_type": "code",
        "outputId": "1ce79133-7b4a-42c8-cce2-d55aadba06b9",
        "colab": {
          "base_uri": "https://localhost:8080/",
          "height": 51
        }
      },
      "source": [
        "# Report the number of sentences.\n",
        "print('Number of test sentences: {:,}\\n'.format(df.shape[0]))\n",
        "\n",
        "# Create sentence and label lists\n",
        "X_test = df.text.values\n",
        "y_test = df.label.values\n",
        "\n",
        "y_test_hotvec = [label2hot[l] for l in df.label.values]\n",
        "y_test_hotvec = np.array(y_test_hotvec)"
      ],
      "execution_count": 89,
      "outputs": [
        {
          "output_type": "stream",
          "text": [
            "Number of test sentences: 25,000\n",
            "\n"
          ],
          "name": "stdout"
        }
      ]
    },
    {
      "cell_type": "code",
      "metadata": {
        "id": "tHcvnd1jlQVy",
        "colab_type": "code",
        "colab": {}
      },
      "source": [
        "import pickle\n",
        "\n",
        "def load_from_pickle(directory):\n",
        "    return pickle.load(open(directory,\"rb\"))\n",
        "\n",
        "logits_train = load_from_pickle(\"/gdrive/My Drive/DataSet/BERT Models/BERTlogit_IMDB_100p_Acc89.pkl\")"
      ],
      "execution_count": 0,
      "outputs": []
    },
    {
      "cell_type": "code",
      "metadata": {
        "id": "wCINLCvuCvHd",
        "colab_type": "code",
        "colab": {
          "base_uri": "https://localhost:8080/",
          "height": 187
        },
        "outputId": "711d3bcf-0439-4bbe-d7ff-d224dc283e5d"
      },
      "source": [
        "logits_train[0:10]"
      ],
      "execution_count": 15,
      "outputs": [
        {
          "output_type": "execute_result",
          "data": {
            "text/plain": [
              "array([[ 4.319991 , -3.7680566],\n",
              "       [-3.696197 ,  3.4553776],\n",
              "       [-3.8063266,  3.413912 ],\n",
              "       [ 3.0629084, -2.9434607],\n",
              "       [-3.9281726,  3.6189125],\n",
              "       [-2.8333375,  2.2253618],\n",
              "       [ 3.9994729, -3.4339283],\n",
              "       [-3.7564743,  3.4465153],\n",
              "       [ 4.330141 , -3.8781044],\n",
              "       [-3.659255 ,  3.5838134]], dtype=float32)"
            ]
          },
          "metadata": {
            "tags": []
          },
          "execution_count": 15
        }
      ]
    },
    {
      "cell_type": "markdown",
      "metadata": {
        "id": "TWz916qXyyAC",
        "colab_type": "text"
      },
      "source": [
        "Sanity check (must be same as acc attribute)"
      ]
    },
    {
      "cell_type": "code",
      "metadata": {
        "id": "oZZ8l1lvgMmM",
        "colab_type": "code",
        "colab": {
          "base_uri": "https://localhost:8080/",
          "height": 170
        },
        "outputId": "c9b31ea2-704b-4f0c-fe76-a9bbf8fa8bd1"
      },
      "source": [
        "flat_predictions = np.argmax(logits_train, axis=1).flatten()\n",
        "from sklearn.metrics import classification_report\n",
        "print(classification_report(y_train, flat_predictions))"
      ],
      "execution_count": 363,
      "outputs": [
        {
          "output_type": "stream",
          "text": [
            "              precision    recall  f1-score   support\n",
            "\n",
            "           0       0.92      0.90      0.91     12500\n",
            "           1       0.90      0.92      0.91     12500\n",
            "\n",
            "    accuracy                           0.91     25000\n",
            "   macro avg       0.91      0.91      0.91     25000\n",
            "weighted avg       0.91      0.91      0.91     25000\n",
            "\n"
          ],
          "name": "stdout"
        }
      ]
    },
    {
      "cell_type": "code",
      "metadata": {
        "id": "R_QvFRemRYhw",
        "colab_type": "code",
        "colab": {}
      },
      "source": [
        "y_train_psedu = np.array([label2hot[l] for l in flat_predictions])"
      ],
      "execution_count": 0,
      "outputs": []
    },
    {
      "cell_type": "markdown",
      "metadata": {
        "id": "Rlv8GQqihV3W",
        "colab_type": "text"
      },
      "source": [
        "Load BERT Logits"
      ]
    },
    {
      "cell_type": "markdown",
      "metadata": {
        "colab_type": "text",
        "id": "MN9okjW_PsXU"
      },
      "source": [
        "### Download MRPC Data"
      ]
    },
    {
      "cell_type": "code",
      "metadata": {
        "id": "YJP2GVUePzK3",
        "colab_type": "code",
        "outputId": "8e46d546-da14-4912-e307-e282ed43169d",
        "colab": {
          "base_uri": "https://localhost:8080/",
          "height": 408
        }
      },
      "source": [
        "!wget https://raw.githubusercontent.com/huggingface/transformers/master/utils/download_glue_data.py -qq\n",
        "!python download_glue_data.py"
      ],
      "execution_count": 0,
      "outputs": [
        {
          "output_type": "stream",
          "text": [
            "Downloading and extracting CoLA...\n",
            "\tCompleted!\n",
            "Downloading and extracting SST...\n",
            "\tCompleted!\n",
            "Processing MRPC...\n",
            "Local MRPC data not specified, downloading data from https://dl.fbaipublicfiles.com/senteval/senteval_data/msr_paraphrase_train.txt\n",
            "\tCompleted!\n",
            "Downloading and extracting QQP...\n",
            "\tCompleted!\n",
            "Downloading and extracting STS...\n",
            "\tCompleted!\n",
            "Downloading and extracting MNLI...\n",
            "\tCompleted!\n",
            "Downloading and extracting SNLI...\n",
            "\tCompleted!\n",
            "Downloading and extracting QNLI...\n",
            "\tCompleted!\n",
            "Downloading and extracting RTE...\n",
            "\tCompleted!\n",
            "Downloading and extracting WNLI...\n",
            "\tCompleted!\n",
            "Downloading and extracting diagnostic...\n",
            "\tCompleted!\n"
          ],
          "name": "stdout"
        }
      ]
    },
    {
      "cell_type": "markdown",
      "metadata": {
        "colab_type": "text",
        "id": "MAGY-H9mE6iY"
      },
      "source": [
        "### Download ED6 Data"
      ]
    },
    {
      "cell_type": "code",
      "metadata": {
        "colab_type": "code",
        "id": "vQwy-xNnE6iZ",
        "outputId": "2d29d8f2-506f-4672-d090-546e34b8f5a4",
        "colab": {
          "base_uri": "https://localhost:8080/",
          "height": 1000
        }
      },
      "source": [
        "!wget https://www.dropbox.com/s/ikkqxfdbdec3fuj/test.txt\n",
        "!wget https://www.dropbox.com/s/1pzkadrvffbqw6o/train.txt\n",
        "!wget https://www.dropbox.com/s/2mzialpsgf9k5l3/val.txt"
      ],
      "execution_count": 108,
      "outputs": [
        {
          "output_type": "stream",
          "text": [
            "--2020-05-29 11:03:29--  https://www.dropbox.com/s/ikkqxfdbdec3fuj/test.txt\n",
            "Resolving www.dropbox.com (www.dropbox.com)... 162.125.1.1, 2620:100:6016:1::a27d:101\n",
            "Connecting to www.dropbox.com (www.dropbox.com)|162.125.1.1|:443... connected.\n",
            "HTTP request sent, awaiting response... 301 Moved Permanently\n",
            "Location: /s/raw/ikkqxfdbdec3fuj/test.txt [following]\n",
            "--2020-05-29 11:03:29--  https://www.dropbox.com/s/raw/ikkqxfdbdec3fuj/test.txt\n",
            "Reusing existing connection to www.dropbox.com:443.\n",
            "HTTP request sent, awaiting response... 302 Found\n",
            "Location: https://uc06bbdb174b4c9681af092325a9.dl.dropboxusercontent.com/cd/0/inline/A4o5vZ00j07tjvRvcR0E05IeYDYecm6EcsMhas1SO5yJ4pgGy3gwTWOwQ2GOYeHOuQ4AdyWoWKgb5zHjU9PHk2G5RV9rExDBtWOXIjZS0tgStOob8ZOi5FNEBjn-Fra-TQU/file# [following]\n",
            "--2020-05-29 11:03:30--  https://uc06bbdb174b4c9681af092325a9.dl.dropboxusercontent.com/cd/0/inline/A4o5vZ00j07tjvRvcR0E05IeYDYecm6EcsMhas1SO5yJ4pgGy3gwTWOwQ2GOYeHOuQ4AdyWoWKgb5zHjU9PHk2G5RV9rExDBtWOXIjZS0tgStOob8ZOi5FNEBjn-Fra-TQU/file\n",
            "Resolving uc06bbdb174b4c9681af092325a9.dl.dropboxusercontent.com (uc06bbdb174b4c9681af092325a9.dl.dropboxusercontent.com)... 162.125.1.6, 2620:100:6016:6::a27d:106\n",
            "Connecting to uc06bbdb174b4c9681af092325a9.dl.dropboxusercontent.com (uc06bbdb174b4c9681af092325a9.dl.dropboxusercontent.com)|162.125.1.6|:443... connected.\n",
            "HTTP request sent, awaiting response... 200 OK\n",
            "Length: 206760 (202K) [text/plain]\n",
            "Saving to: ‘test.txt’\n",
            "\n",
            "test.txt            100%[===================>] 201.91K  --.-KB/s    in 0.06s   \n",
            "\n",
            "2020-05-29 11:03:30 (3.39 MB/s) - ‘test.txt’ saved [206760/206760]\n",
            "\n",
            "--2020-05-29 11:03:31--  https://www.dropbox.com/s/1pzkadrvffbqw6o/train.txt\n",
            "Resolving www.dropbox.com (www.dropbox.com)... 162.125.1.1, 2620:100:6016:1::a27d:101\n",
            "Connecting to www.dropbox.com (www.dropbox.com)|162.125.1.1|:443... connected.\n",
            "HTTP request sent, awaiting response... 301 Moved Permanently\n",
            "Location: /s/raw/1pzkadrvffbqw6o/train.txt [following]\n",
            "--2020-05-29 11:03:31--  https://www.dropbox.com/s/raw/1pzkadrvffbqw6o/train.txt\n",
            "Reusing existing connection to www.dropbox.com:443.\n",
            "HTTP request sent, awaiting response... 302 Found\n",
            "Location: https://uc54e896b07f971864919efeb50b.dl.dropboxusercontent.com/cd/0/inline/A4pH_goxoyenIMDgioU5TLEIZRYIWt0CmtkM2qCcitOmbF1AL5Q3bOeuUHu7gFFbKE0ESS7NjmFMWuOKcARCTCuE_mi8EMc6WjD8y_Cym1mZ71f5TfQnLlmgOpjzkTDM4l8/file# [following]\n",
            "--2020-05-29 11:03:31--  https://uc54e896b07f971864919efeb50b.dl.dropboxusercontent.com/cd/0/inline/A4pH_goxoyenIMDgioU5TLEIZRYIWt0CmtkM2qCcitOmbF1AL5Q3bOeuUHu7gFFbKE0ESS7NjmFMWuOKcARCTCuE_mi8EMc6WjD8y_Cym1mZ71f5TfQnLlmgOpjzkTDM4l8/file\n",
            "Resolving uc54e896b07f971864919efeb50b.dl.dropboxusercontent.com (uc54e896b07f971864919efeb50b.dl.dropboxusercontent.com)... 162.125.1.6, 2620:100:6016:6::a27d:106\n",
            "Connecting to uc54e896b07f971864919efeb50b.dl.dropboxusercontent.com (uc54e896b07f971864919efeb50b.dl.dropboxusercontent.com)|162.125.1.6|:443... connected.\n",
            "HTTP request sent, awaiting response... 200 OK\n",
            "Length: 1658616 (1.6M) [text/plain]\n",
            "Saving to: ‘train.txt’\n",
            "\n",
            "train.txt           100%[===================>]   1.58M  --.-KB/s    in 0.05s   \n",
            "\n",
            "2020-05-29 11:03:32 (33.9 MB/s) - ‘train.txt’ saved [1658616/1658616]\n",
            "\n",
            "--2020-05-29 11:03:33--  https://www.dropbox.com/s/2mzialpsgf9k5l3/val.txt\n",
            "Resolving www.dropbox.com (www.dropbox.com)... 162.125.1.1, 2620:100:6016:1::a27d:101\n",
            "Connecting to www.dropbox.com (www.dropbox.com)|162.125.1.1|:443... connected.\n",
            "HTTP request sent, awaiting response... 301 Moved Permanently\n",
            "Location: /s/raw/2mzialpsgf9k5l3/val.txt [following]\n",
            "--2020-05-29 11:03:33--  https://www.dropbox.com/s/raw/2mzialpsgf9k5l3/val.txt\n",
            "Reusing existing connection to www.dropbox.com:443.\n",
            "HTTP request sent, awaiting response... 302 Found\n",
            "Location: https://uc629885c09307f12195f3363959.dl.dropboxusercontent.com/cd/0/inline/A4o00t4YdxFUi-W1suBm5QwUuEtuUWukxf-M8tsRCLBOje2r6H9m3vPV6QwFT8ouk2bEiooNjd-7ulAgZbUia177Lk8D8XqdFkxmqCT0O5J8WrAwVfrxl24vJi3jZvdlJ_Y/file# [following]\n",
            "--2020-05-29 11:03:33--  https://uc629885c09307f12195f3363959.dl.dropboxusercontent.com/cd/0/inline/A4o00t4YdxFUi-W1suBm5QwUuEtuUWukxf-M8tsRCLBOje2r6H9m3vPV6QwFT8ouk2bEiooNjd-7ulAgZbUia177Lk8D8XqdFkxmqCT0O5J8WrAwVfrxl24vJi3jZvdlJ_Y/file\n",
            "Resolving uc629885c09307f12195f3363959.dl.dropboxusercontent.com (uc629885c09307f12195f3363959.dl.dropboxusercontent.com)... 162.125.1.6, 2620:100:6016:6::a27d:106\n",
            "Connecting to uc629885c09307f12195f3363959.dl.dropboxusercontent.com (uc629885c09307f12195f3363959.dl.dropboxusercontent.com)|162.125.1.6|:443... connected.\n",
            "HTTP request sent, awaiting response... 200 OK\n",
            "Length: 204240 (199K) [text/plain]\n",
            "Saving to: ‘val.txt’\n",
            "\n",
            "val.txt             100%[===================>] 199.45K  --.-KB/s    in 0.03s   \n",
            "\n",
            "2020-05-29 11:03:33 (7.66 MB/s) - ‘val.txt’ saved [204240/204240]\n",
            "\n"
          ],
          "name": "stdout"
        }
      ]
    },
    {
      "cell_type": "code",
      "metadata": {
        "colab_type": "code",
        "id": "75jfkYD7E6ib",
        "colab": {
          "base_uri": "https://localhost:8080/",
          "height": 34
        },
        "outputId": "be858cba-5677-4648-be32-ddd4a4e9c5a3"
      },
      "source": [
        "!mkdir emotion_data\n",
        "!mv *.txt emotion_data"
      ],
      "execution_count": 109,
      "outputs": [
        {
          "output_type": "stream",
          "text": [
            "mkdir: cannot create directory ‘emotion_data’: File exists\n"
          ],
          "name": "stdout"
        }
      ]
    },
    {
      "cell_type": "code",
      "metadata": {
        "colab_type": "code",
        "id": "L1k-DmRmE6id",
        "colab": {}
      },
      "source": [
        "train_path = \"emotion_data/train.txt\"\n",
        "test_path = \"emotion_data/test.txt\"\n",
        "val_path = \"emotion_data/val.txt\"\n",
        "\n",
        "## emotion labels\n",
        "label2int = {\n",
        "  \"sadness\": 0,\n",
        "  \"joy\": 1,\n",
        "  \"love\": 2,\n",
        "  \"anger\": 3,\n",
        "  \"fear\": 4,\n",
        "  \"surprise\": 5\n",
        "}"
      ],
      "execution_count": 0,
      "outputs": []
    },
    {
      "cell_type": "code",
      "metadata": {
        "id": "fQzIAV7CiHhM",
        "colab_type": "code",
        "colab": {}
      },
      "source": [
        "label2hot = {\n",
        "  \"sadness\": [1,0,0,0,0,0],\n",
        "  \"joy\": [0,1,0,0,0,0],\n",
        "  \"love\": [0,0,1,0,0,0],\n",
        "  \"anger\": [0,0,0,1,0,0],\n",
        "  \"fear\": [0,0,0,0,1,0],\n",
        "  \"surprise\": [0,0,0,0,0,1]\n",
        "}\n",
        "\n",
        "value2hot = {\n",
        "  0: [1,0,0,0,0,0],\n",
        "  1: [0,1,0,0,0,0],\n",
        "  2: [0,0,1,0,0,0],\n",
        "  3: [0,0,0,1,0,0],\n",
        "  4: [0,0,0,0,1,0],\n",
        "  5: [0,0,0,0,0,1]\n",
        "}\n"
      ],
      "execution_count": 0,
      "outputs": []
    },
    {
      "cell_type": "code",
      "metadata": {
        "id": "jSNkyGFbixnq",
        "colab_type": "code",
        "outputId": "6876a100-8843-442b-b7c9-0b13d69cbce1",
        "colab": {
          "base_uri": "https://localhost:8080/",
          "height": 34
        }
      },
      "source": [
        "label2int['surprise']"
      ],
      "execution_count": 0,
      "outputs": [
        {
          "output_type": "execute_result",
          "data": {
            "text/plain": [
              "5"
            ]
          },
          "metadata": {
            "tags": []
          },
          "execution_count": 110
        }
      ]
    },
    {
      "cell_type": "code",
      "metadata": {
        "id": "N-7EL-9cFJSa",
        "colab_type": "code",
        "outputId": "265f8d37-4439-4278-c185-c1567674d3a4",
        "colab": {
          "base_uri": "https://localhost:8080/",
          "height": 313
        }
      },
      "source": [
        "import pandas as pd\n",
        "data = pd.read_csv(train_path, sep=\";\", header=None, names=['text', 'emotion'],\n",
        "                               engine=\"python\")\n",
        "data.emotion.value_counts().plot.bar()"
      ],
      "execution_count": 112,
      "outputs": [
        {
          "output_type": "execute_result",
          "data": {
            "text/plain": [
              "<matplotlib.axes._subplots.AxesSubplot at 0x7ff193f84550>"
            ]
          },
          "metadata": {
            "tags": []
          },
          "execution_count": 112
        },
        {
          "output_type": "display_data",
          "data": {
            "image/png": "[encoded data removed]",
            "text/plain": [
              "<Figure size 432x288 with 1 Axes>"
            ]
          },
          "metadata": {
            "tags": [],
            "needs_background": "light"
          }
        }
      ]
    },
    {
      "cell_type": "code",
      "metadata": {
        "id": "6Cxxxr5nFPAd",
        "colab_type": "code",
        "outputId": "48d245bc-1489-4e57-9f53-36750a651ebe",
        "colab": {
          "base_uri": "https://localhost:8080/",
          "height": 393
        }
      },
      "source": [
        "# Report the number of sentences.\n",
        "print('Number of training sentences: {:,}\\n'.format(data.shape[0]))\n",
        "\n",
        "# Display 10 random rows from the data.\n",
        "data.sample(10)"
      ],
      "execution_count": 382,
      "outputs": [
        {
          "output_type": "stream",
          "text": [
            "Number of training sentences: 16,000\n",
            "\n"
          ],
          "name": "stdout"
        },
        {
          "output_type": "execute_result",
          "data": {
            "text/html": [
              "<div>\n",
              "<style scoped>\n",
              "    .dataframe tbody tr th:only-of-type {\n",
              "        vertical-align: middle;\n",
              "    }\n",
              "\n",
              "    .dataframe tbody tr th {\n",
              "        vertical-align: top;\n",
              "    }\n",
              "\n",
              "    .dataframe thead th {\n",
              "        text-align: right;\n",
              "    }\n",
              "</style>\n",
              "<table border=\"1\" class=\"dataframe\">\n",
              "  <thead>\n",
              "    <tr style=\"text-align: right;\">\n",
              "      <th></th>\n",
              "      <th>text</th>\n",
              "      <th>emotion</th>\n",
              "    </tr>\n",
              "  </thead>\n",
              "  <tbody>\n",
              "    <tr>\n",
              "      <th>228</th>\n",
              "      <td>i can feel that she smiled i love you even mor...</td>\n",
              "      <td>joy</td>\n",
              "    </tr>\n",
              "    <tr>\n",
              "      <th>9928</th>\n",
              "      <td>im feeling pressured because it is crunch time...</td>\n",
              "      <td>fear</td>\n",
              "    </tr>\n",
              "    <tr>\n",
              "      <th>3672</th>\n",
              "      <td>ive been feeling really caring towards jt</td>\n",
              "      <td>love</td>\n",
              "    </tr>\n",
              "    <tr>\n",
              "      <th>997</th>\n",
              "      <td>i get home i laze around in my pajamas feeling...</td>\n",
              "      <td>anger</td>\n",
              "    </tr>\n",
              "    <tr>\n",
              "      <th>1936</th>\n",
              "      <td>i feel i would be ungrateful to god and unduti...</td>\n",
              "      <td>sadness</td>\n",
              "    </tr>\n",
              "    <tr>\n",
              "      <th>5670</th>\n",
              "      <td>i just feel so amazingly appreciative of my lj...</td>\n",
              "      <td>joy</td>\n",
              "    </tr>\n",
              "    <tr>\n",
              "      <th>8965</th>\n",
              "      <td>i go back to that day however and hear jesus w...</td>\n",
              "      <td>fear</td>\n",
              "    </tr>\n",
              "    <tr>\n",
              "      <th>3440</th>\n",
              "      <td>i was reluctant but hey i was feeling so lousy...</td>\n",
              "      <td>sadness</td>\n",
              "    </tr>\n",
              "    <tr>\n",
              "      <th>2339</th>\n",
              "      <td>i had thought but i feel scared and somewhat t...</td>\n",
              "      <td>fear</td>\n",
              "    </tr>\n",
              "    <tr>\n",
              "      <th>14431</th>\n",
              "      <td>i feel like there s a possibility that stateme...</td>\n",
              "      <td>joy</td>\n",
              "    </tr>\n",
              "  </tbody>\n",
              "</table>\n",
              "</div>"
            ],
            "text/plain": [
              "                                                    text  emotion\n",
              "228    i can feel that she smiled i love you even mor...      joy\n",
              "9928   im feeling pressured because it is crunch time...     fear\n",
              "3672           ive been feeling really caring towards jt     love\n",
              "997    i get home i laze around in my pajamas feeling...    anger\n",
              "1936   i feel i would be ungrateful to god and unduti...  sadness\n",
              "5670   i just feel so amazingly appreciative of my lj...      joy\n",
              "8965   i go back to that day however and hear jesus w...     fear\n",
              "3440   i was reluctant but hey i was feeling so lousy...  sadness\n",
              "2339   i had thought but i feel scared and somewhat t...     fear\n",
              "14431  i feel like there s a possibility that stateme...      joy"
            ]
          },
          "metadata": {
            "tags": []
          },
          "execution_count": 382
        }
      ]
    },
    {
      "cell_type": "code",
      "metadata": {
        "id": "pe5MQEXUFP6W",
        "colab_type": "code",
        "colab": {}
      },
      "source": [
        "import numpy as np\n",
        "X_train = data.text.values\n",
        "labels = [label2int[l] for l in data.emotion]\n",
        "y_train = np.array(labels)"
      ],
      "execution_count": 0,
      "outputs": []
    },
    {
      "cell_type": "code",
      "metadata": {
        "id": "s2vVrlwHO3Bf",
        "colab_type": "code",
        "colab": {}
      },
      "source": [
        "from sklearn import preprocessing\n",
        "# Binarization\n",
        "### convert targets to one-hot encoding vectors\n",
        "#emotions = list(set(data.emotion.unique()))\n",
        "#num_emotions = len(emotions)\n",
        "#mlb = preprocessing.MultiLabelBinarizer()\n",
        "\n",
        "#train_labels =  [set(emos) & set(emotions) for emos in data[['emotion']].values]\n",
        "#bin_emotions = mlb.fit_transform(train_labels)\n",
        "#y_train_mlb = np.array(bin_emotions.tolist())"
      ],
      "execution_count": 0,
      "outputs": []
    },
    {
      "cell_type": "code",
      "metadata": {
        "id": "0oJdgTUbk105",
        "colab_type": "code",
        "colab": {}
      },
      "source": [
        "y_train_hotvec = [label2hot[l] for l in data.emotion.values]\n",
        "y_train_hotvec = np.array(y_train_hotvec)"
      ],
      "execution_count": 0,
      "outputs": []
    },
    {
      "cell_type": "code",
      "metadata": {
        "id": "14N4HSiKFfbT",
        "colab_type": "code",
        "outputId": "7d52019c-6705-44c6-ce2f-0854c4a06699",
        "colab": {
          "base_uri": "https://localhost:8080/",
          "height": 313
        }
      },
      "source": [
        "#Load test dataset\n",
        "data = pd.read_csv(test_path, sep=\";\", header=None, names=['text', 'emotion'],\n",
        "                               engine=\"python\")\n",
        "data.emotion.value_counts().plot.bar()"
      ],
      "execution_count": 115,
      "outputs": [
        {
          "output_type": "execute_result",
          "data": {
            "text/plain": [
              "<matplotlib.axes._subplots.AxesSubplot at 0x7ff1944be588>"
            ]
          },
          "metadata": {
            "tags": []
          },
          "execution_count": 115
        },
        {
          "output_type": "display_data",
          "data": {
            "image/png": "[encoded data removed]",
            "text/plain": [
              "<Figure size 432x288 with 1 Axes>"
            ]
          },
          "metadata": {
            "tags": [],
            "needs_background": "light"
          }
        }
      ]
    },
    {
      "cell_type": "code",
      "metadata": {
        "id": "QLuViALiFjD8",
        "colab_type": "code",
        "outputId": "24b9fa2c-5edd-4d85-ed3c-be4af552e217",
        "colab": {
          "base_uri": "https://localhost:8080/",
          "height": 51
        }
      },
      "source": [
        "# Report the number of sentences.\n",
        "print('Number of test sentences: {:,}\\n'.format(data.shape[0]))\n",
        "\n",
        "# Create sentence and label lists\n",
        "X_test = data.text.values\n",
        "labels = [label2int[l] for l in data.emotion]\n",
        "y_test = np.array(labels)"
      ],
      "execution_count": 116,
      "outputs": [
        {
          "output_type": "stream",
          "text": [
            "Number of test sentences: 2,000\n",
            "\n"
          ],
          "name": "stdout"
        }
      ]
    },
    {
      "cell_type": "code",
      "metadata": {
        "id": "sBhSRpB7F5Hf",
        "colab_type": "code",
        "colab": {}
      },
      "source": [
        "from sklearn import preprocessing\n",
        "# Binarization\n",
        "### convert targets to one-hot encoding vectors\n",
        "#emotions = list(set(data.emotion.unique()))\n",
        "#num_emotions = len(emotions)\n",
        "#mlb = preprocessing.MultiLabelBinarizer()\n",
        "\n",
        "#test_labels =  [set(emos) & set(emotions) for emos in data[['emotion']].values]\n",
        "#bin_emotions = mlb.fit_transform(test_labels)\n",
        "#y_test_mlb = np.array(bin_emotions.tolist())"
      ],
      "execution_count": 0,
      "outputs": []
    },
    {
      "cell_type": "code",
      "metadata": {
        "id": "KYFhlqOwjVWc",
        "colab_type": "code",
        "colab": {}
      },
      "source": [
        "y_test_hotvec = [label2hot[l] for l in data.emotion.values]\n",
        "y_test_hotvec = np.array(y_test_hotvec)"
      ],
      "execution_count": 0,
      "outputs": []
    },
    {
      "cell_type": "code",
      "metadata": {
        "id": "Y0qaTLVzPmZ_",
        "colab_type": "code",
        "colab": {}
      },
      "source": [
        "import pickle\n",
        "\n",
        "def load_from_pickle(directory):\n",
        "    return pickle.load(open(directory,\"rb\"))\n",
        "\n",
        "logits_train = load_from_pickle(\"/gdrive/My Drive/DataSet/BERT Models/BERTlogit_ED6_100p_Acc93.pkl\")"
      ],
      "execution_count": 0,
      "outputs": []
    },
    {
      "cell_type": "code",
      "metadata": {
        "id": "75yU6jQUGUAb",
        "colab_type": "code",
        "colab": {
          "base_uri": "https://localhost:8080/",
          "height": 238
        },
        "outputId": "2f99fd90-a07c-4789-8437-23d6ed4d2f48"
      },
      "source": [
        "flat_predictions = np.argmax(logits_train, axis=1).flatten()\n",
        "from sklearn.metrics import classification_report\n",
        "print(classification_report(y_train, flat_predictions))"
      ],
      "execution_count": 429,
      "outputs": [
        {
          "output_type": "stream",
          "text": [
            "              precision    recall  f1-score   support\n",
            "\n",
            "           0       0.99      0.99      0.99      4666\n",
            "           1       0.99      0.97      0.98      5362\n",
            "           2       0.89      0.95      0.92      1304\n",
            "           3       0.98      0.97      0.97      2159\n",
            "           4       0.93      0.96      0.95      1937\n",
            "           5       0.89      0.86      0.88       572\n",
            "\n",
            "    accuracy                           0.97     16000\n",
            "   macro avg       0.94      0.95      0.95     16000\n",
            "weighted avg       0.97      0.97      0.97     16000\n",
            "\n"
          ],
          "name": "stdout"
        }
      ]
    },
    {
      "cell_type": "code",
      "metadata": {
        "id": "FfoZNU9TQpps",
        "colab_type": "code",
        "colab": {}
      },
      "source": [
        "y_train_psedu = np.array([value2hot[l] for l in flat_predictions])"
      ],
      "execution_count": 0,
      "outputs": []
    },
    {
      "cell_type": "markdown",
      "metadata": {
        "id": "IFZ6DXBIGt-y",
        "colab_type": "text"
      },
      "source": [
        "Data Augmentation"
      ]
    },
    {
      "cell_type": "code",
      "metadata": {
        "id": "7yRGeM_VGw3H",
        "colab_type": "code",
        "colab": {}
      },
      "source": [
        "import pickle\n",
        "\n",
        "def load_from_pickle(directory):\n",
        "    return pickle.load(open(directory,\"rb\"))\n",
        "\n",
        "logits_train = load_from_pickle(\"/gdrive/My Drive/DataSet/BERT Models/BERTlogit_ED6_Aug_Acc93.pkl\")"
      ],
      "execution_count": 0,
      "outputs": []
    },
    {
      "cell_type": "code",
      "metadata": {
        "id": "JoVyUqAFHEuV",
        "colab_type": "code",
        "colab": {}
      },
      "source": [
        "data = pd.read_csv('/gdrive/My Drive/DataSet/ED6/data_augmentation_ED6.csv')\n",
        "\n",
        "# Create sentence and label lists\n",
        "X_train = data.text.values\n",
        "labels = [label2int[l] for l in data.emotions]\n",
        "y_aug = np.array(labels)"
      ],
      "execution_count": 0,
      "outputs": []
    },
    {
      "cell_type": "code",
      "metadata": {
        "id": "3efVDgp1G37j",
        "colab_type": "code",
        "colab": {
          "base_uri": "https://localhost:8080/",
          "height": 238
        },
        "outputId": "9c8ce219-310e-477b-9439-5c88a21818bf"
      },
      "source": [
        "flat_predictions = np.argmax(logits_train, axis=1).flatten()\n",
        "from sklearn.metrics import classification_report\n",
        "print(classification_report(y_aug, flat_predictions))"
      ],
      "execution_count": 123,
      "outputs": [
        {
          "output_type": "stream",
          "text": [
            "              precision    recall  f1-score   support\n",
            "\n",
            "           0       0.96      0.97      0.96     14513\n",
            "           1       0.96      0.94      0.95     17063\n",
            "           2       0.82      0.86      0.84      4123\n",
            "           3       0.93      0.94      0.93      6782\n",
            "           4       0.89      0.89      0.89      5707\n",
            "           5       0.83      0.77      0.80      1812\n",
            "\n",
            "    accuracy                           0.93     50000\n",
            "   macro avg       0.90      0.89      0.90     50000\n",
            "weighted avg       0.93      0.93      0.93     50000\n",
            "\n"
          ],
          "name": "stdout"
        }
      ]
    },
    {
      "cell_type": "code",
      "metadata": {
        "id": "7PpwMrtQK9ml",
        "colab_type": "code",
        "colab": {}
      },
      "source": [
        "y_train_psedu = np.array([value2hot[l] for l in flat_predictions])"
      ],
      "execution_count": 0,
      "outputs": []
    },
    {
      "cell_type": "markdown",
      "metadata": {
        "colab_type": "text",
        "id": "2rIYZ4hAlqGQ"
      },
      "source": [
        "### Download IPS Data"
      ]
    },
    {
      "cell_type": "code",
      "metadata": {
        "colab_type": "code",
        "id": "yFUNr4sRlqGR",
        "colab": {}
      },
      "source": [
        "label2hot = {\n",
        "  \"Acceleration\":               [1,0,0,0,0,0,0,0,0,0,0,0,0,0,0,0,0,0,0],\n",
        "  \"DesignTools\":                [0,1,0,0,0,0,0,0,0,0,0,0,0,0,0,0,0,0,0],\n",
        "  \"DevelopmentKits\":            [0,0,1,0,0,0,0,0,0,0,0,0,0,0,0,0,0,0,0],\n",
        "  \"Devices\":                    [0,0,0,1,0,0,0,0,0,0,0,0,0,0,0,0,0,0,0],\n",
        "  \"Embedded\":                   [0,0,0,0,1,0,0,0,0,0,0,0,0,0,0,0,0,0,0],\n",
        "  \"Firmware/BIOS\":              [0,0,0,0,0,1,0,0,0,0,0,0,0,0,0,0,0,0,0],\n",
        "  \"Hardware/Platform\":          [0,0,0,0,0,0,1,0,0,0,0,0,0,0,0,0,0,0,0],\n",
        "  \"IP-Interface Protocols\":     [0,0,0,0,0,0,0,1,0,0,0,0,0,0,0,0,0,0,0],\n",
        "  \"IP-MemoryInterfaces\":        [0,0,0,0,0,0,0,0,1,0,0,0,0,0,0,0,0,0,0],\n",
        "  \"Media/Perceptual/UI\":        [0,0,0,0,0,0,0,0,0,1,0,0,0,0,0,0,0,0,0],\n",
        "  \"Networking/Connectivity\":    [0,0,0,0,0,0,0,0,0,0,1,0,0,0,0,0,0,0,0],\n",
        "  \"Other\":                      [0,0,0,0,0,0,0,0,0,0,0,1,0,0,0,0,0,0,0],\n",
        "  \"Power/Thermal/Mechanical\":   [0,0,0,0,0,0,0,0,0,0,0,0,1,0,0,0,0,0,0],\n",
        "  \"Quality/Reliability/Package\":[0,0,0,0,0,0,0,0,0,0,0,0,0,1,0,0,0,0,0],\n",
        "  \"Software/Driver/OS\":         [0,0,0,0,0,0,0,0,0,0,0,0,0,0,1,0,0,0,0],\n",
        "  \"System/Platform\":            [0,0,0,0,0,0,0,0,0,0,0,0,0,0,0,1,0,0,0],\n",
        "  \"Technology/Initiative\":      [0,0,0,0,0,0,0,0,0,0,0,0,0,0,0,0,1,0,0],\n",
        "  \"IP-BasicfunctionsQsysDSP\":   [0,0,0,0,0,0,0,0,0,0,0,0,0,0,0,0,0,1,0],\n",
        "  \"Storage\":                    [0,0,0,0,0,0,0,0,0,0,0,0,0,0,0,0,0,0,1],\n",
        "}"
      ],
      "execution_count": 0,
      "outputs": []
    },
    {
      "cell_type": "code",
      "metadata": {
        "colab_type": "code",
        "outputId": "76255a94-e51b-410a-a45b-d37d81dfa105",
        "id": "InjbtKBClqGT",
        "colab": {
          "base_uri": "https://localhost:8080/",
          "height": 563
        }
      },
      "source": [
        "import pandas as pd\n",
        "\n",
        "# Load the dataset into a pandas dataframe.\n",
        "\n",
        "df = pd.read_csv('/gdrive/My Drive/DataSet/IPS/report1585718073300_v6_train.csv')\n",
        "\n",
        "# Report the number of sentences.\n",
        "print('Number of training sentences: {:,}\\n'.format(df.shape[0]))\n",
        "\n",
        "# Display 10 random rows from the data.\n",
        "df.sample(10)"
      ],
      "execution_count": 0,
      "outputs": [
        {
          "output_type": "stream",
          "text": [
            "Number of training sentences: 100,944\n",
            "\n"
          ],
          "name": "stdout"
        },
        {
          "output_type": "execute_result",
          "data": {
            "text/html": [
              "<div>\n",
              "<style scoped>\n",
              "    .dataframe tbody tr th:only-of-type {\n",
              "        vertical-align: middle;\n",
              "    }\n",
              "\n",
              "    .dataframe tbody tr th {\n",
              "        vertical-align: top;\n",
              "    }\n",
              "\n",
              "    .dataframe thead th {\n",
              "        text-align: right;\n",
              "    }\n",
              "</style>\n",
              "<table border=\"1\" class=\"dataframe\">\n",
              "  <thead>\n",
              "    <tr style=\"text-align: right;\">\n",
              "      <th></th>\n",
              "      <th>”Id\"</th>\n",
              "      <th>Subject</th>\n",
              "      <th>Description</th>\n",
              "      <th>Category</th>\n",
              "      <th>Subcategory</th>\n",
              "    </tr>\n",
              "  </thead>\n",
              "  <tbody>\n",
              "    <tr>\n",
              "      <th>76367</th>\n",
              "      <td>NTAwMUowMDAwMGtDbWZm</td>\n",
              "      <td>[ Lenovo - IdeaPad ] [ CML ] [ S 540 - 13 ] [ ...</td>\n",
              "      <td>resume from s 4 , ping ap fail Observed sympto...</td>\n",
              "      <td>Networking/Connectivity</td>\n",
              "      <td>WiFi Windows</td>\n",
              "    </tr>\n",
              "    <tr>\n",
              "      <th>47590</th>\n",
              "      <td>NTAwbzAwMDAwMEd0WDFy</td>\n",
              "      <td>AET trace is not supported for Skylake Purley ...</td>\n",
              "      <td>Hi , I was surprised to find out that the AET ...</td>\n",
              "      <td>Software/Driver/OS</td>\n",
              "      <td>Tool</td>\n",
              "    </tr>\n",
              "    <tr>\n",
              "      <th>39262</th>\n",
              "      <td>NTAwMUowMDAwMGNnSTBB</td>\n",
              "      <td>Can ' t create Namespace on Intel SSD DC P 460...</td>\n",
              "      <td>After install Intel ® SSD Data Center Tool , t...</td>\n",
              "      <td>Firmware/BIOS</td>\n",
              "      <td>BIOS</td>\n",
              "    </tr>\n",
              "    <tr>\n",
              "      <th>95132</th>\n",
              "      <td>NTAwbzAwMDAwMENJOXFl</td>\n",
              "      <td>Can CE 2604 support 2 ETH ports ( with RTL 821...</td>\n",
              "      <td>Hi INTEL team , Netgear has a new project - CM...</td>\n",
              "      <td>System/Platform</td>\n",
              "      <td>Other</td>\n",
              "    </tr>\n",
              "    <tr>\n",
              "      <th>17075</th>\n",
              "      <td>NTAwMUowMDAwMGNnSEtC</td>\n",
              "      <td>MIL - STD 810 E reliability report for Arria 10</td>\n",
              "      <td>Error Msg : Customer Name : Nextwill Location ...</td>\n",
              "      <td>Quality/Reliability/Package</td>\n",
              "      <td>Quality / Reliability Process</td>\n",
              "    </tr>\n",
              "    <tr>\n",
              "      <th>91467</th>\n",
              "      <td>NTAwMUowMDAwMGNnc2ta</td>\n",
              "      <td>PCIe Multifunction with AvalonMM in CycloneV</td>\n",
              "      <td>Error Msg : Hello , this is coming from Siemen...</td>\n",
              "      <td>IP-Interface Protocols</td>\n",
              "      <td>PCIe - Avalon-ST</td>\n",
              "    </tr>\n",
              "    <tr>\n",
              "      <th>13573</th>\n",
              "      <td>NTAwMUowMDAwMFZjdGs5</td>\n",
              "      <td>Can ' t get onboard share nic IP after DC .</td>\n",
              "      <td>[ Re - produce steps ] 1 . Link network to onb...</td>\n",
              "      <td>Networking/Connectivity</td>\n",
              "      <td>Ethernet/Wired LAN</td>\n",
              "    </tr>\n",
              "    <tr>\n",
              "      <th>62429</th>\n",
              "      <td>NTAwMUowMDAwMGFDMEtl</td>\n",
              "      <td>deliverables for AN - 695</td>\n",
              "      <td>Error Msg : You have published a great app not...</td>\n",
              "      <td>Devices</td>\n",
              "      <td>PLL/Clock Management</td>\n",
              "    </tr>\n",
              "    <tr>\n",
              "      <th>91022</th>\n",
              "      <td>NTAwMUowMDAwMGNoUVZu</td>\n",
              "      <td>[ Merion _ WHL ] AMT _ SUT will hang on deskto...</td>\n",
              "      <td>Provision SUT in MEBx . Connect with a console...</td>\n",
              "      <td>Firmware/BIOS</td>\n",
              "      <td>Intel® Management Engine Firmware (Intel® ME FW)</td>\n",
              "    </tr>\n",
              "    <tr>\n",
              "      <th>76904</th>\n",
              "      <td>NTAwbzAwMDAwMEd0c1N0</td>\n",
              "      <td>Unable to Power on with ME FW 11 . 6 . 0 . 1096</td>\n",
              "      <td>After shutting down the system by holding the ...</td>\n",
              "      <td>Firmware/BIOS</td>\n",
              "      <td>Intel® Management Engine Firmware (Intel® ME FW)</td>\n",
              "    </tr>\n",
              "  </tbody>\n",
              "</table>\n",
              "</div>"
            ],
            "text/plain": [
              "                       ”Id\"  ...                                       Subcategory\n",
              "76367  NTAwMUowMDAwMGtDbWZm  ...                                      WiFi Windows\n",
              "47590  NTAwbzAwMDAwMEd0WDFy  ...                                              Tool\n",
              "39262  NTAwMUowMDAwMGNnSTBB  ...                                              BIOS\n",
              "95132  NTAwbzAwMDAwMENJOXFl  ...                                             Other\n",
              "17075  NTAwMUowMDAwMGNnSEtC  ...                     Quality / Reliability Process\n",
              "91467  NTAwMUowMDAwMGNnc2ta  ...                                  PCIe - Avalon-ST\n",
              "13573  NTAwMUowMDAwMFZjdGs5  ...                                Ethernet/Wired LAN\n",
              "62429  NTAwMUowMDAwMGFDMEtl  ...                              PLL/Clock Management\n",
              "91022  NTAwMUowMDAwMGNoUVZu  ...  Intel® Management Engine Firmware (Intel® ME FW)\n",
              "76904  NTAwbzAwMDAwMEd0c1N0  ...  Intel® Management Engine Firmware (Intel® ME FW)\n",
              "\n",
              "[10 rows x 5 columns]"
            ]
          },
          "metadata": {
            "tags": []
          },
          "execution_count": 10
        }
      ]
    },
    {
      "cell_type": "code",
      "metadata": {
        "id": "r72EFyyi5oSU",
        "colab_type": "code",
        "colab": {}
      },
      "source": [
        "cat = list(set(df.Category.unique()))"
      ],
      "execution_count": 0,
      "outputs": []
    },
    {
      "cell_type": "code",
      "metadata": {
        "colab_type": "code",
        "id": "DAD-CWzWlqGU",
        "colab": {}
      },
      "source": [
        "\n",
        "# Get the lists of sentences and their labels.\n",
        "X_train = df.Description.values\n",
        "y_train = df.Category.values\n",
        "\n",
        "y_train_hotvec = [label2hot[l] for l in df.Category.values]\n",
        "y_train_hotvec = np.array(y_train_hotvec)"
      ],
      "execution_count": 0,
      "outputs": []
    },
    {
      "cell_type": "code",
      "metadata": {
        "colab_type": "code",
        "outputId": "f3bc7484-af04-471f-942e-f19029f77733",
        "id": "gfue4ym7lqGW",
        "colab": {
          "base_uri": "https://localhost:8080/",
          "height": 51
        }
      },
      "source": [
        "# Load the test dataset into a pandas dataframe.\n",
        "df = pd.read_csv('/gdrive/My Drive/DataSet/IPS/report1585718073300_v6_val.csv')\n",
        "\n",
        "# Report the number of sentences.\n",
        "print('Number of test sentences: {:,}\\n'.format(df.shape[0]))\n",
        "\n",
        "# Create sentence and label lists\n",
        "X_test = df.Description.values\n",
        "y_test = df.Category.values\n",
        "\n",
        "y_test_hotvec = [label2hot[l] for l in df.Category.values]\n",
        "y_test_hotvec = np.array(y_test_hotvec)"
      ],
      "execution_count": 0,
      "outputs": [
        {
          "output_type": "stream",
          "text": [
            "Number of test sentences: 40,378\n",
            "\n"
          ],
          "name": "stdout"
        }
      ]
    },
    {
      "cell_type": "markdown",
      "metadata": {
        "colab_type": "text",
        "id": "N-zHpaORL1kr"
      },
      "source": [
        "### TfIdf Logistic, SGDClassifier, Average Glove"
      ]
    },
    {
      "cell_type": "code",
      "metadata": {
        "id": "ZswJXrKfcLhi",
        "colab_type": "code",
        "colab": {}
      },
      "source": [
        "np.random.seed(42)\n",
        "new_train_size=int(0.05 * len(X_train))\n",
        "X_train_new = np.random.choice(X_train,new_train_size )\n",
        "np.random.seed(42)\n",
        "y_train_new = np.random.choice(y_train,new_train_size )"
      ],
      "execution_count": 0,
      "outputs": []
    },
    {
      "cell_type": "markdown",
      "metadata": {
        "id": "wSmMVFZpSdFv",
        "colab_type": "text"
      },
      "source": [
        "1. TfIdf"
      ]
    },
    {
      "cell_type": "code",
      "metadata": {
        "id": "QdA2ol_CSjbj",
        "colab_type": "code",
        "colab": {
          "base_uri": "https://localhost:8080/",
          "height": 408
        },
        "outputId": "1f3331cb-bd1b-451e-f13c-c84759b5fbac"
      },
      "source": [
        "\n",
        "#model = make_pipeline(TfidfVectorizer(ngram_range=(1,2)), LogisticRegression(C=50)).fit(X_train, y_train)\n",
        "model = make_pipeline(TfidfVectorizer(ngram_range=(1,2)), LogisticRegression()).fit(X_train_new, y_train_new)\n",
        "#model = make_pipeline(CountVectorizer(ngram_range=(1,2),stop_words=\"english\",max_features=10000, max_df=0.75), LogisticRegression()).fit(X_train, y_train)\n",
        "predicted = model.predict(X_test)\n",
        "print(accuracy_score(y_test, predicted))\n",
        "print(matthews_corrcoef(y_test, predicted))\n",
        "print(classification_report(y_test, predicted))"
      ],
      "execution_count": 82,
      "outputs": [
        {
          "output_type": "stream",
          "text": [
            "0.774\n",
            "0.6985489623478179\n",
            "              precision    recall  f1-score   support\n",
            "\n",
            "           0       0.82      0.88      0.84       581\n",
            "           1       0.71      0.97      0.82       695\n",
            "           2       0.85      0.26      0.40       159\n",
            "           3       0.88      0.63      0.73       275\n",
            "           4       0.86      0.63      0.73       224\n",
            "           5       0.92      0.17      0.28        66\n",
            "\n",
            "    accuracy                           0.77      2000\n",
            "   macro avg       0.84      0.59      0.63      2000\n",
            "weighted avg       0.80      0.77      0.75      2000\n",
            "\n"
          ],
          "name": "stdout"
        },
        {
          "output_type": "stream",
          "text": [
            "/usr/local/lib/python3.6/dist-packages/sklearn/linear_model/_logistic.py:940: ConvergenceWarning: lbfgs failed to converge (status=1):\n",
            "STOP: TOTAL NO. of ITERATIONS REACHED LIMIT.\n",
            "\n",
            "Increase the number of iterations (max_iter) or scale the data as shown in:\n",
            "    https://scikit-learn.org/stable/modules/preprocessing.html\n",
            "Please also refer to the documentation for alternative solver options:\n",
            "    https://scikit-learn.org/stable/modules/linear_model.html#logistic-regression\n",
            "  extra_warning_msg=_LOGISTIC_SOLVER_CONVERGENCE_MSG)\n"
          ],
          "name": "stderr"
        }
      ]
    },
    {
      "cell_type": "markdown",
      "metadata": {
        "id": "zIlMbLQWJYuA",
        "colab_type": "text"
      },
      "source": [
        "2. SGDClassifier"
      ]
    },
    {
      "cell_type": "code",
      "metadata": {
        "id": "YUx_hhLXJdUF",
        "colab_type": "code",
        "outputId": "c1b48353-c17d-4f35-8790-a0c8bb1903df",
        "colab": {
          "base_uri": "https://localhost:8080/",
          "height": 204
        }
      },
      "source": [
        "model = make_pipeline(TfidfVectorizer(ngram_range=(1,2)), SGDClassifier(loss = 'log')).fit(X_train_new, y_train_new)\n",
        "predicted = model.predict(X_test)\n",
        "print(accuracy_score(y_test, predicted))\n",
        "print(matthews_corrcoef(y_test, predicted))\n",
        "print(classification_report(y_test, predicted))"
      ],
      "execution_count": 95,
      "outputs": [
        {
          "output_type": "stream",
          "text": [
            "0.8266\n",
            "0.65651728046799\n",
            "              precision    recall  f1-score   support\n",
            "\n",
            "           0       0.86      0.78      0.82     12500\n",
            "           1       0.80      0.88      0.83     12500\n",
            "\n",
            "    accuracy                           0.83     25000\n",
            "   macro avg       0.83      0.83      0.83     25000\n",
            "weighted avg       0.83      0.83      0.83     25000\n",
            "\n"
          ],
          "name": "stdout"
        }
      ]
    },
    {
      "cell_type": "markdown",
      "metadata": {
        "id": "hLSclkLleevF",
        "colab_type": "text"
      },
      "source": [
        "3. Average Glove"
      ]
    },
    {
      "cell_type": "code",
      "metadata": {
        "id": "GnBTZr9wegiQ",
        "colab_type": "code",
        "outputId": "30ddd44f-93bd-4b9d-fecc-b1794e2f6e5b",
        "colab": {
          "base_uri": "https://localhost:8080/",
          "height": 34
        }
      },
      "source": [
        "# define dict to hold a word and its vector\n",
        "glove = {}\n",
        "# read the word embeddings file ~820MB\n",
        "f = open('/gdrive/My Drive/Colab Notebooks/DAIR/EmotionDataSet/glove.6B.100d.txt', encoding='utf-8')\n",
        "\n",
        "for line in f:\n",
        "    values = line.split()\n",
        "    word = values[0]\n",
        "    coefs = np.asarray(values[1:], dtype='float32')\n",
        "    glove[word] = coefs\n",
        "f.close()\n",
        "# check the length\n",
        "len(glove) # 400000"
      ],
      "execution_count": 0,
      "outputs": [
        {
          "output_type": "execute_result",
          "data": {
            "text/plain": [
              "400000"
            ]
          },
          "metadata": {
            "tags": []
          },
          "execution_count": 234
        }
      ]
    },
    {
      "cell_type": "code",
      "metadata": {
        "id": "euSfKvW5ekRM",
        "colab_type": "code",
        "colab": {}
      },
      "source": [
        "def MeanSentenceGlove(texts):\n",
        "# create vector for each sentences\n",
        "# list to hold vector \n",
        "  sentence_vectors = []\n",
        "# create vector for each clean normalized sentence\n",
        "  for i in texts:\n",
        "      if len(i) != 0:\n",
        "          v = sum([glove.get(w, np.zeros((100,))) for w in i.split()])/(len(i.split())+0.001)\n",
        "          #print(len(i))\n",
        "      else:\n",
        "          v = np.zeros((100,))\n",
        "      sentence_vectors.append(v)\n",
        "  #print('Total vectors created:',len(sentence_vectors))\n",
        "  return(sentence_vectors)"
      ],
      "execution_count": 0,
      "outputs": []
    },
    {
      "cell_type": "code",
      "metadata": {
        "id": "S_cQlZbqel_g",
        "colab_type": "code",
        "colab": {}
      },
      "source": [
        "train_glove = MeanSentenceGlove(X_train)\n",
        "test_glove = MeanSentenceGlove(X_test)\n",
        "\n",
        "model=LogisticRegression()\n",
        "model.fit(train_glove, y_train)\n",
        "predicted = model.predict(test_glove)\n",
        "print(classification_report(y_test, predicted))"
      ],
      "execution_count": 0,
      "outputs": []
    },
    {
      "cell_type": "markdown",
      "metadata": {
        "colab_type": "text",
        "id": "1fQBgT_bGq9t"
      },
      "source": [
        "### Internal Embedding + Average (KERAS Binary)\n",
        "https://towardsdatascience.com/machine-learning-sentiment-analysis-and-word-embeddings-python-keras-example-4dfb93c5a6cf"
      ]
    },
    {
      "cell_type": "code",
      "metadata": {
        "colab_type": "code",
        "id": "Goq27DoFGq9u",
        "colab": {}
      },
      "source": [
        "import numpy as np\n",
        "from matplotlib import pyplot as plt\n",
        "plt.style.use('dark_background')\n",
        "from keras.datasets import imdb\n",
        "from keras.models import Sequential\n",
        "from keras.preprocessing.sequence import pad_sequences\n",
        "from keras.layers import Embedding, GlobalAveragePooling1D, GlobalMaxPool1D, Dense\n",
        "from keras.preprocessing.text import Tokenizer"
      ],
      "execution_count": 0,
      "outputs": []
    },
    {
      "cell_type": "markdown",
      "metadata": {
        "id": "5Y9qFFnMutdi",
        "colab_type": "text"
      },
      "source": [
        "Tokenizer and padding"
      ]
    },
    {
      "cell_type": "code",
      "metadata": {
        "id": "HTeGjjQHue83",
        "colab_type": "code",
        "colab": {}
      },
      "source": [
        "# KERAS Tokenization\n",
        "# https://machinelearningmastery.com/prepare-text-data-deep-learning-keras/\n",
        "#https://www.kdnuggets.com/2020/03/tensorflow-keras-tokenization-text-data-prep.html\n",
        "\n",
        "num_words = 5000\n",
        "oov_token = '<UNK>'\n",
        "pad_type = 'post'\n",
        "trunc_type = 'post'\n",
        "\n",
        "\n",
        "# Tokenize our training data\n",
        "tokenizer = Tokenizer(num_words=num_words, oov_token=oov_token)\n",
        "tokenizer.fit_on_texts(X_train)\n",
        "\n",
        "# Get our training data word index\n",
        "word_index = tokenizer.word_index\n",
        "\n",
        "# Encode training data sentences into sequences\n",
        "train_sequences = tokenizer.texts_to_sequences(X_train)\n",
        "\n",
        "# Get max training sequence length\n",
        "maxlen = max([len(x) for x in train_sequences])\n",
        "#maxlen = 256\n",
        "\n",
        "# Pad the training sequences\n",
        "train_padded = pad_sequences(train_sequences, padding=pad_type, truncating=trunc_type, maxlen=maxlen)\n",
        "\n",
        "# Output the results of our work\n",
        "#print(\"Word index:\\n\", word_index)\n",
        "#print(\"\\nTraining sequences:\\n\", train_sequences)\n",
        "#print(\"\\nPadded training sequences:\\n\", train_padded)\n",
        "#print(\"\\nPadded training shape:\", train_padded.shape)\n",
        "#print(\"Training sequences data type:\", type(train_sequences))\n",
        "#print(\"Padded Training sequences data type:\", type(train_padded))\n",
        "\n",
        "test_sequences = tokenizer.texts_to_sequences(X_test)\n",
        "test_padded = pad_sequences(test_sequences, padding=pad_type, truncating=trunc_type, maxlen=maxlen)\n",
        "\n",
        "#print(\"Testing sequences:\\n\", test_sequences)\n",
        "#print(\"\\nPadded testing sequences:\\n\", test_padded)\n",
        "#print(\"\\nPadded testing shape:\",test_padded.shape)\n",
        "\n",
        "#for x, y in zip(test_data, test_padded):\n",
        "#  print('{} -> {}'.format(x, y))\n",
        "\n",
        "#print(\"\\nWord index (for reference):\", word_index)\n"
      ],
      "execution_count": 0,
      "outputs": []
    },
    {
      "cell_type": "code",
      "metadata": {
        "id": "zARW3eTGMmt4",
        "colab_type": "code",
        "colab": {}
      },
      "source": [
        "# KERAS Tokenization\n",
        "# https://machinelearningmastery.com/prepare-text-data-deep-learning-keras/\n",
        "#https://www.kdnuggets.com/2020/03/tensorflow-keras-tokenization-text-data-prep.html\n",
        "from keras.preprocessing.text import Tokenizer\n",
        "\n",
        "# Init all Hyperparameters\n",
        "MAX_NUM_WORDS = 5000\n",
        "MAX_LEN = 64\n",
        "oov_token = '<UNK>' # Required only if test is not given \n",
        "pad_type = 'post'\n",
        "trunc_type = 'post'\n",
        "\n",
        "# Avoid UNK words \n",
        "X = np.concatenate((X_train, X_test), axis=0)\n",
        "\n",
        "# Tokenize our training data\n",
        "tokenizer = Tokenizer(num_words=MAX_NUM_WORDS)\n",
        "tokenizer.fit_on_texts(X)\n",
        "\n",
        "# Get our training data word index\n",
        "word_index = tokenizer.word_index\n",
        "\n",
        "# Encode training data sentences into sequences\n",
        "train_sequences = tokenizer.texts_to_sequences(X_train)\n",
        "\n",
        "# Get max training sequence length\n",
        "maxlen = min(MAX_LEN, max([len(x) for x in train_sequences]))\n",
        "\n",
        "# Pad the training sequences\n",
        "train_padded = pad_sequences(train_sequences, padding=pad_type, truncating=trunc_type, maxlen=maxlen)\n",
        "\n",
        "# Encode test data sentences into sequences\n",
        "test_sequences = tokenizer.texts_to_sequences(X_test)\n",
        "test_padded = pad_sequences(test_sequences, padding=pad_type, truncating=trunc_type, maxlen=maxlen)\n",
        "\n",
        "num_words = min(MAX_NUM_WORDS, len(word_index) + 1)\n"
      ],
      "execution_count": 0,
      "outputs": []
    },
    {
      "cell_type": "code",
      "metadata": {
        "id": "LLvYLSO6NvgA",
        "colab_type": "code",
        "outputId": "b659b728-b706-4bed-a61f-13649d3add68",
        "colab": {
          "base_uri": "https://localhost:8080/",
          "height": 34
        }
      },
      "source": [
        "maxlen"
      ],
      "execution_count": 0,
      "outputs": [
        {
          "output_type": "execute_result",
          "data": {
            "text/plain": [
              "49"
            ]
          },
          "metadata": {
            "tags": []
          },
          "execution_count": 58
        }
      ]
    },
    {
      "cell_type": "markdown",
      "metadata": {
        "id": "60yuBpswuw9R",
        "colab_type": "text"
      },
      "source": [
        "DL Arch"
      ]
    },
    {
      "cell_type": "code",
      "metadata": {
        "id": "21KWiWwWKGRE",
        "colab_type": "code",
        "outputId": "ba2bc23e-c5a4-4fa8-8c7f-cb78485892f3",
        "colab": {
          "base_uri": "https://localhost:8080/",
          "height": 289
        }
      },
      "source": [
        "# KERAS Architecture \n",
        "# Nice refrence to use embedding vectors in KERAS https://realpython.com/python-keras-text-classification/\n",
        "model = Sequential()\n",
        "model.add(Embedding(input_dim=num_words, output_dim=16, input_length=maxlen))\n",
        "model.add(GlobalAveragePooling1D())\n",
        "model.add(Dense(16, activation='relu'))\n",
        "model.add(Dense(1, activation='sigmoid'))\n",
        "model.summary()\n"
      ],
      "execution_count": 0,
      "outputs": [
        {
          "output_type": "stream",
          "text": [
            "Model: \"sequential_15\"\n",
            "_________________________________________________________________\n",
            "Layer (type)                 Output Shape              Param #   \n",
            "=================================================================\n",
            "embedding_15 (Embedding)     (None, 1024, 16)          80000     \n",
            "_________________________________________________________________\n",
            "global_average_pooling1d_15  (None, 16)                0         \n",
            "_________________________________________________________________\n",
            "dense_29 (Dense)             (None, 16)                272       \n",
            "_________________________________________________________________\n",
            "dense_30 (Dense)             (None, 1)                 17        \n",
            "=================================================================\n",
            "Total params: 80,289\n",
            "Trainable params: 80,289\n",
            "Non-trainable params: 0\n",
            "_________________________________________________________________\n"
          ],
          "name": "stdout"
        }
      ]
    },
    {
      "cell_type": "code",
      "metadata": {
        "id": "GCltCvpHK_-X",
        "colab_type": "code",
        "colab": {}
      },
      "source": [
        "model.compile(\n",
        "    optimizer='adam',\n",
        "    loss='binary_crossentropy',\n",
        "    metrics=['accuracy']\n",
        ")"
      ],
      "execution_count": 0,
      "outputs": []
    },
    {
      "cell_type": "code",
      "metadata": {
        "id": "9EhOGfIALXEO",
        "colab_type": "code",
        "colab": {}
      },
      "source": [
        "history = model.fit(\n",
        "    train_padded,\n",
        "    y_train,\n",
        "    epochs=20,\n",
        "    batch_size=512,\n",
        "    validation_split=0.1,\n",
        "    shuffle=True\n",
        ")"
      ],
      "execution_count": 0,
      "outputs": []
    },
    {
      "cell_type": "code",
      "metadata": {
        "id": "dh6dGqSqLY_q",
        "colab_type": "code",
        "outputId": "5c6c50f3-1978-4150-f0b5-b1c071f2b3ab",
        "colab": {
          "base_uri": "https://localhost:8080/",
          "height": 295
        }
      },
      "source": [
        "# Plot the training and validation accuracu and loss at each epoch\n",
        "loss = history.history['loss']\n",
        "val_loss = history.history['val_loss']\n",
        "epochs = range(1, len(loss) + 1)\n",
        "plt.plot(epochs, loss, 'y', label='Training loss')\n",
        "plt.plot(epochs, val_loss, 'r', label='Validation loss')\n",
        "plt.title('Training and validation loss')\n",
        "plt.xlabel('Epochs')\n",
        "plt.ylabel('Loss')\n",
        "plt.legend()\n",
        "plt.show()"
      ],
      "execution_count": 0,
      "outputs": [
        {
          "output_type": "display_data",
          "data": {
            "image/png": "[encoded data removed]",
            "text/plain": [
              "<Figure size 432x288 with 1 Axes>"
            ]
          },
          "metadata": {
            "tags": []
          }
        }
      ]
    },
    {
      "cell_type": "code",
      "metadata": {
        "id": "oIaLeWG0Lfqu",
        "colab_type": "code",
        "outputId": "0f273b92-95b1-46a2-a126-8e993bace677",
        "colab": {
          "base_uri": "https://localhost:8080/",
          "height": 295
        }
      },
      "source": [
        "acc = history.history['accuracy']\n",
        "val_acc = history.history['val_accuracy']\n",
        "plt.plot(epochs, acc, 'y', label='Training acc')\n",
        "plt.plot(epochs, val_acc, 'r', label='Validation acc')\n",
        "plt.title('Training and validation accuracy')\n",
        "plt.xlabel('Epochs')\n",
        "plt.ylabel('Accuracy')\n",
        "plt.legend()\n",
        "plt.show()"
      ],
      "execution_count": 0,
      "outputs": [
        {
          "output_type": "display_data",
          "data": {
            "image/png": "[encoded data removed]",
            "text/plain": [
              "<Figure size 432x288 with 1 Axes>"
            ]
          },
          "metadata": {
            "tags": []
          }
        }
      ]
    },
    {
      "cell_type": "code",
      "metadata": {
        "id": "bdnbDvj2Luo4",
        "colab_type": "code",
        "outputId": "88007ae4-0bb3-45dd-b8cc-f18a9045860b",
        "colab": {
          "base_uri": "https://localhost:8080/",
          "height": 51
        }
      },
      "source": [
        "test_loss, test_acc = model.evaluate(test_padded, y_test)\n",
        "print(test_acc)"
      ],
      "execution_count": 0,
      "outputs": [
        {
          "output_type": "stream",
          "text": [
            "25000/25000 [==============================] - 1s 35us/step\n",
            "0.8842800259590149\n"
          ],
          "name": "stdout"
        }
      ]
    },
    {
      "cell_type": "markdown",
      "metadata": {
        "colab_type": "text",
        "id": "MHgQdZGgUwTt"
      },
      "source": [
        "### Internal Embedding + Average (KERAS Multiclass)\n",
        "https://towardsdatascience.com/machine-learning-sentiment-analysis-and-word-embeddings-python-keras-example-4dfb93c5a6cf"
      ]
    },
    {
      "cell_type": "code",
      "metadata": {
        "colab_type": "code",
        "id": "ZRp1VQilUwTt",
        "colab": {}
      },
      "source": [
        "import numpy as np\n",
        "from matplotlib import pyplot as plt\n",
        "plt.style.use('dark_background')\n",
        "from keras.datasets import imdb\n",
        "from keras.models import Sequential\n",
        "from keras.preprocessing.sequence import pad_sequences\n",
        "from keras.layers import Embedding, GlobalAveragePooling1D, GlobalMaxPool1D, Dense\n",
        "from keras.preprocessing.text import Tokenizer"
      ],
      "execution_count": 0,
      "outputs": []
    },
    {
      "cell_type": "markdown",
      "metadata": {
        "colab_type": "text",
        "id": "yw8DsgyJUwTv"
      },
      "source": [
        "Tokenizer and padding"
      ]
    },
    {
      "cell_type": "code",
      "metadata": {
        "colab_type": "code",
        "id": "6x3gRzDJUwTw",
        "colab": {}
      },
      "source": [
        "# KERAS Tokenization\n",
        "# https://machinelearningmastery.com/prepare-text-data-deep-learning-keras/\n",
        "#https://www.kdnuggets.com/2020/03/tensorflow-keras-tokenization-text-data-prep.html\n",
        "from keras.preprocessing.text import Tokenizer\n",
        "\n",
        "# Init all Hyperparameters\n",
        "OUTPUT_DIM = len(y_train_hotvec[0])\n",
        "MAX_NUM_WORDS = 5000\n",
        "MAX_LEN = 128\n",
        "oov_token = '<UNK>' # Required only if test is not given \n",
        "pad_type = 'post'\n",
        "trunc_type = 'post'\n",
        "\n",
        "# Avoid UNK words \n",
        "X = np.concatenate((X_train, X_test), axis=0)\n",
        "\n",
        "# Tokenize our training data\n",
        "tokenizer = Tokenizer(num_words=MAX_NUM_WORDS)\n",
        "tokenizer.fit_on_texts(X)\n",
        "\n",
        "# Get our training data word index\n",
        "word_index = tokenizer.word_index\n",
        "\n",
        "# Encode training data sentences into sequences\n",
        "train_sequences = tokenizer.texts_to_sequences(X_train)\n",
        "\n",
        "# Get max training sequence length\n",
        "maxlen = min(MAX_LEN, max([len(x) for x in train_sequences]))\n",
        "\n",
        "# Pad the training sequences\n",
        "train_padded = pad_sequences(train_sequences, padding=pad_type, truncating=trunc_type, maxlen=maxlen)\n",
        "\n",
        "# Encode test data sentences into sequences\n",
        "test_sequences = tokenizer.texts_to_sequences(X_test)\n",
        "test_padded = pad_sequences(test_sequences, padding=pad_type, truncating=trunc_type, maxlen=maxlen)\n",
        "\n",
        "num_words = min(MAX_NUM_WORDS, len(word_index) + 1)\n"
      ],
      "execution_count": 0,
      "outputs": []
    },
    {
      "cell_type": "code",
      "metadata": {
        "id": "8pwt77lM7oJP",
        "colab_type": "code",
        "outputId": "d3c8bd30-9cbe-457d-ebb4-dd6a03cf53b7",
        "colab": {
          "base_uri": "https://localhost:8080/",
          "height": 34
        }
      },
      "source": [
        "num_words"
      ],
      "execution_count": 0,
      "outputs": [
        {
          "output_type": "execute_result",
          "data": {
            "text/plain": [
              "5000"
            ]
          },
          "metadata": {
            "tags": []
          },
          "execution_count": 431
        }
      ]
    },
    {
      "cell_type": "code",
      "metadata": {
        "colab_type": "code",
        "outputId": "ff008bd3-cd38-4b46-957f-a5b6158cfea3",
        "id": "rcwdPi86UwTy",
        "colab": {
          "base_uri": "https://localhost:8080/",
          "height": 34
        }
      },
      "source": [
        "maxlen"
      ],
      "execution_count": 138,
      "outputs": [
        {
          "output_type": "execute_result",
          "data": {
            "text/plain": [
              "63"
            ]
          },
          "metadata": {
            "tags": []
          },
          "execution_count": 138
        }
      ]
    },
    {
      "cell_type": "markdown",
      "metadata": {
        "colab_type": "text",
        "id": "-xFWpsLgUwTz"
      },
      "source": [
        "DL Arch"
      ]
    },
    {
      "cell_type": "code",
      "metadata": {
        "colab_type": "code",
        "outputId": "f21def54-5acd-41ed-a7eb-63612e0fe25b",
        "id": "ngg9pORaUwT0",
        "colab": {
          "base_uri": "https://localhost:8080/",
          "height": 289
        }
      },
      "source": [
        "# KERAS Architecture \n",
        "# Nice refrence to use embedding vectors in KERAS https://realpython.com/python-keras-text-classification/\n",
        "model = Sequential()\n",
        "model.add(Embedding(input_dim=num_words, output_dim=16, input_length=maxlen))\n",
        "model.add(GlobalAveragePooling1D())\n",
        "model.add(Dense(16, activation='relu'))\n",
        "model.add(Dense(OUTPUT_DIM, activation='sigmoid'))\n",
        "model.summary()\n"
      ],
      "execution_count": 139,
      "outputs": [
        {
          "output_type": "stream",
          "text": [
            "Model: \"sequential_14\"\n",
            "_________________________________________________________________\n",
            "Layer (type)                 Output Shape              Param #   \n",
            "=================================================================\n",
            "embedding_14 (Embedding)     (None, 63, 16)            80000     \n",
            "_________________________________________________________________\n",
            "global_average_pooling1d_14  (None, 16)                0         \n",
            "_________________________________________________________________\n",
            "dense_27 (Dense)             (None, 16)                272       \n",
            "_________________________________________________________________\n",
            "dense_28 (Dense)             (None, 6)                 102       \n",
            "=================================================================\n",
            "Total params: 80,374\n",
            "Trainable params: 80,374\n",
            "Non-trainable params: 0\n",
            "_________________________________________________________________\n"
          ],
          "name": "stdout"
        }
      ]
    },
    {
      "cell_type": "code",
      "metadata": {
        "colab_type": "code",
        "id": "d2OvwEmlUwT4",
        "colab": {}
      },
      "source": [
        "model.compile(\n",
        "    optimizer='adam',\n",
        "    loss='categorical_crossentropy',\n",
        "    metrics=['accuracy']\n",
        ")"
      ],
      "execution_count": 0,
      "outputs": []
    },
    {
      "cell_type": "code",
      "metadata": {
        "colab_type": "code",
        "id": "lueV-NmRUwT6",
        "colab": {}
      },
      "source": [
        "history = model.fit(\n",
        "    train_padded,\n",
        "    y_train_hotvec,\n",
        "    epochs=50,\n",
        "    batch_size=512,\n",
        "    validation_split=0.1,\n",
        "    shuffle=True\n",
        ")"
      ],
      "execution_count": 0,
      "outputs": []
    },
    {
      "cell_type": "code",
      "metadata": {
        "colab_type": "code",
        "outputId": "b8a194b4-1189-4ba7-b0ab-566c60377ee7",
        "id": "S_ONO_F3UwT7",
        "colab": {
          "base_uri": "https://localhost:8080/",
          "height": 295
        }
      },
      "source": [
        "# Plot the training and validation accuracu and loss at each epoch\n",
        "loss = history.history['loss']\n",
        "val_loss = history.history['val_loss']\n",
        "epochs = range(1, len(loss) + 1)\n",
        "plt.plot(epochs, loss, 'y', label='Training loss')\n",
        "plt.plot(epochs, val_loss, 'r', label='Validation loss')\n",
        "plt.title('Training and validation loss')\n",
        "plt.xlabel('Epochs')\n",
        "plt.ylabel('Loss')\n",
        "plt.legend()\n",
        "plt.show()"
      ],
      "execution_count": 142,
      "outputs": [
        {
          "output_type": "display_data",
          "data": {
            "image/png": "[encoded data removed]",
            "text/plain": [
              "<Figure size 432x288 with 1 Axes>"
            ]
          },
          "metadata": {
            "tags": []
          }
        }
      ]
    },
    {
      "cell_type": "code",
      "metadata": {
        "colab_type": "code",
        "outputId": "f9bd59be-ca89-41fa-e81f-aaf6a64528a9",
        "id": "biGjVy4oUwT9",
        "colab": {
          "base_uri": "https://localhost:8080/",
          "height": 295
        }
      },
      "source": [
        "acc = history.history['accuracy']\n",
        "val_acc = history.history['val_accuracy']\n",
        "plt.plot(epochs, acc, 'y', label='Training acc')\n",
        "plt.plot(epochs, val_acc, 'r', label='Validation acc')\n",
        "plt.title('Training and validation accuracy')\n",
        "plt.xlabel('Epochs')\n",
        "plt.ylabel('Accuracy')\n",
        "plt.legend()\n",
        "plt.show()"
      ],
      "execution_count": 143,
      "outputs": [
        {
          "output_type": "display_data",
          "data": {
            "image/png": "[encoded data removed]",
            "text/plain": [
              "<Figure size 432x288 with 1 Axes>"
            ]
          },
          "metadata": {
            "tags": []
          }
        }
      ]
    },
    {
      "cell_type": "code",
      "metadata": {
        "colab_type": "code",
        "outputId": "b97fe282-fdfe-4aab-a5ed-6aae5a03f8b9",
        "id": "TO8iw9BOUwUA",
        "colab": {
          "base_uri": "https://localhost:8080/",
          "height": 324
        }
      },
      "source": [
        "test_loss, test_acc = model.evaluate(test_padded, y_test_hotvec)\n",
        "print(test_acc)"
      ],
      "execution_count": 144,
      "outputs": [
        {
          "output_type": "error",
          "ename": "ValueError",
          "evalue": "ignored",
          "traceback": [
            "\u001b[0;31m---------------------------------------------------------------------------\u001b[0m",
            "\u001b[0;31mValueError\u001b[0m                                Traceback (most recent call last)",
            "\u001b[0;32m<ipython-input-144-bba685d47b97>\u001b[0m in \u001b[0;36m<module>\u001b[0;34m()\u001b[0m\n\u001b[0;32m----> 1\u001b[0;31m \u001b[0mtest_loss\u001b[0m\u001b[0;34m,\u001b[0m \u001b[0mtest_acc\u001b[0m \u001b[0;34m=\u001b[0m \u001b[0mmodel\u001b[0m\u001b[0;34m.\u001b[0m\u001b[0mevaluate\u001b[0m\u001b[0;34m(\u001b[0m\u001b[0mtest_padded\u001b[0m\u001b[0;34m,\u001b[0m \u001b[0my_test_hotvec\u001b[0m\u001b[0;34m)\u001b[0m\u001b[0;34m\u001b[0m\u001b[0;34m\u001b[0m\u001b[0m\n\u001b[0m\u001b[1;32m      2\u001b[0m \u001b[0mprint\u001b[0m\u001b[0;34m(\u001b[0m\u001b[0mtest_acc\u001b[0m\u001b[0;34m)\u001b[0m\u001b[0;34m\u001b[0m\u001b[0;34m\u001b[0m\u001b[0m\n",
            "\u001b[0;32m/usr/local/lib/python3.6/dist-packages/keras/engine/training.py\u001b[0m in \u001b[0;36mevaluate\u001b[0;34m(self, x, y, batch_size, verbose, sample_weight, steps, callbacks, max_queue_size, workers, use_multiprocessing)\u001b[0m\n\u001b[1;32m   1347\u001b[0m             \u001b[0mx\u001b[0m\u001b[0;34m,\u001b[0m \u001b[0my\u001b[0m\u001b[0;34m,\u001b[0m\u001b[0;34m\u001b[0m\u001b[0;34m\u001b[0m\u001b[0m\n\u001b[1;32m   1348\u001b[0m             \u001b[0msample_weight\u001b[0m\u001b[0;34m=\u001b[0m\u001b[0msample_weight\u001b[0m\u001b[0;34m,\u001b[0m\u001b[0;34m\u001b[0m\u001b[0;34m\u001b[0m\u001b[0m\n\u001b[0;32m-> 1349\u001b[0;31m             batch_size=batch_size)\n\u001b[0m\u001b[1;32m   1350\u001b[0m         \u001b[0;31m# Prepare inputs, delegate logic to `test_loop`.\u001b[0m\u001b[0;34m\u001b[0m\u001b[0;34m\u001b[0m\u001b[0;34m\u001b[0m\u001b[0m\n\u001b[1;32m   1351\u001b[0m         \u001b[0;32mif\u001b[0m \u001b[0mself\u001b[0m\u001b[0;34m.\u001b[0m\u001b[0m_uses_dynamic_learning_phase\u001b[0m\u001b[0;34m(\u001b[0m\u001b[0;34m)\u001b[0m\u001b[0;34m:\u001b[0m\u001b[0;34m\u001b[0m\u001b[0;34m\u001b[0m\u001b[0m\n",
            "\u001b[0;32m/usr/local/lib/python3.6/dist-packages/keras/engine/training.py\u001b[0m in \u001b[0;36m_standardize_user_data\u001b[0;34m(self, x, y, sample_weight, class_weight, check_array_lengths, batch_size)\u001b[0m\n\u001b[1;32m    619\u001b[0m                 \u001b[0mfeed_output_shapes\u001b[0m\u001b[0;34m,\u001b[0m\u001b[0;34m\u001b[0m\u001b[0;34m\u001b[0m\u001b[0m\n\u001b[1;32m    620\u001b[0m                 \u001b[0mcheck_batch_axis\u001b[0m\u001b[0;34m=\u001b[0m\u001b[0;32mFalse\u001b[0m\u001b[0;34m,\u001b[0m  \u001b[0;31m# Don't enforce the batch size.\u001b[0m\u001b[0;34m\u001b[0m\u001b[0;34m\u001b[0m\u001b[0m\n\u001b[0;32m--> 621\u001b[0;31m                 exception_prefix='target')\n\u001b[0m\u001b[1;32m    622\u001b[0m \u001b[0;34m\u001b[0m\u001b[0m\n\u001b[1;32m    623\u001b[0m             \u001b[0;31m# Generate sample-wise weight values given the `sample_weight` and\u001b[0m\u001b[0;34m\u001b[0m\u001b[0;34m\u001b[0m\u001b[0;34m\u001b[0m\u001b[0m\n",
            "\u001b[0;32m/usr/local/lib/python3.6/dist-packages/keras/engine/training_utils.py\u001b[0m in \u001b[0;36mstandardize_input_data\u001b[0;34m(data, names, shapes, check_batch_axis, exception_prefix)\u001b[0m\n\u001b[1;32m    143\u001b[0m                             \u001b[0;34m': expected '\u001b[0m \u001b[0;34m+\u001b[0m \u001b[0mnames\u001b[0m\u001b[0;34m[\u001b[0m\u001b[0mi\u001b[0m\u001b[0;34m]\u001b[0m \u001b[0;34m+\u001b[0m \u001b[0;34m' to have shape '\u001b[0m \u001b[0;34m+\u001b[0m\u001b[0;34m\u001b[0m\u001b[0;34m\u001b[0m\u001b[0m\n\u001b[1;32m    144\u001b[0m                             \u001b[0mstr\u001b[0m\u001b[0;34m(\u001b[0m\u001b[0mshape\u001b[0m\u001b[0;34m)\u001b[0m \u001b[0;34m+\u001b[0m \u001b[0;34m' but got array with shape '\u001b[0m \u001b[0;34m+\u001b[0m\u001b[0;34m\u001b[0m\u001b[0;34m\u001b[0m\u001b[0m\n\u001b[0;32m--> 145\u001b[0;31m                             str(data_shape))\n\u001b[0m\u001b[1;32m    146\u001b[0m     \u001b[0;32mreturn\u001b[0m \u001b[0mdata\u001b[0m\u001b[0;34m\u001b[0m\u001b[0;34m\u001b[0m\u001b[0m\n\u001b[1;32m    147\u001b[0m \u001b[0;34m\u001b[0m\u001b[0m\n",
            "\u001b[0;31mValueError\u001b[0m: Error when checking target: expected dense_28 to have shape (6,) but got array with shape (2,)"
          ]
        }
      ]
    },
    {
      "cell_type": "code",
      "metadata": {
        "id": "2mq_zIqCbXGT",
        "colab_type": "code",
        "outputId": "4a4f22c9-7dfd-4777-8eb8-ac3464c83780",
        "colab": {
          "base_uri": "https://localhost:8080/",
          "height": 309
        }
      },
      "source": [
        "y_pred = model.predict(test_padded, batch_size=64, verbose=1)\n",
        "y_pred_bool = np.argmax(y_pred, axis=1)\n",
        "print(classification_report(y_test, y_pred_bool))\n"
      ],
      "execution_count": 145,
      "outputs": [
        {
          "output_type": "stream",
          "text": [
            "2000/2000 [==============================] - 0s 20us/step\n",
            "              precision    recall  f1-score   support\n",
            "\n",
            "           0       0.93      0.80      0.86       581\n",
            "           1       0.72      0.90      0.80       695\n",
            "           2       0.64      0.06      0.10       159\n",
            "           3       0.77      0.78      0.78       275\n",
            "           4       0.49      0.74      0.59       224\n",
            "           5       0.00      0.00      0.00        66\n",
            "\n",
            "    accuracy                           0.74      2000\n",
            "   macro avg       0.59      0.55      0.52      2000\n",
            "weighted avg       0.73      0.74      0.71      2000\n",
            "\n"
          ],
          "name": "stdout"
        },
        {
          "output_type": "stream",
          "text": [
            "/usr/local/lib/python3.6/dist-packages/sklearn/metrics/_classification.py:1272: UndefinedMetricWarning: Precision and F-score are ill-defined and being set to 0.0 in labels with no predicted samples. Use `zero_division` parameter to control this behavior.\n",
            "  _warn_prf(average, modifier, msg_start, len(result))\n"
          ],
          "name": "stderr"
        }
      ]
    },
    {
      "cell_type": "code",
      "metadata": {
        "id": "x4optOZ4cU0m",
        "colab_type": "code",
        "colab": {}
      },
      "source": [
        "y_pred_bool = np.argmax(y_pred, axis=1)"
      ],
      "execution_count": 0,
      "outputs": []
    },
    {
      "cell_type": "code",
      "metadata": {
        "id": "SUj1c-Cobj45",
        "colab_type": "code",
        "outputId": "9394d4fc-b7af-454b-b46b-960ce5c0d29d",
        "colab": {
          "base_uri": "https://localhost:8080/",
          "height": 102
        }
      },
      "source": [
        ""
      ],
      "execution_count": 0,
      "outputs": [
        {
          "output_type": "execute_result",
          "data": {
            "text/plain": [
              "array([0, 0, 0, 1, 0, 1, 1, 1, 1, 3, 2, 0, 0, 1, 2, 0, 1, 0, 3, 1, 0, 1,\n",
              "       1, 0, 0, 4, 3, 0, 4, 0, 4, 3, 0, 3, 0, 1, 5, 0, 1, 1, 0, 0, 1, 0,\n",
              "       1, 3, 1, 1, 4, 4, 0, 4, 1, 1, 1, 0, 0, 1, 0, 3, 0, 0, 2, 1, 3, 2,\n",
              "       0, 0, 4, 5, 1, 2, 3, 1, 2, 3, 1, 0, 1, 2, 1, 3, 0, 1, 0, 0, 1, 1,\n",
              "       1, 0, 1, 4, 3, 4, 2, 3, 2, 0, 4, 0])"
            ]
          },
          "metadata": {
            "tags": []
          },
          "execution_count": 261
        }
      ]
    },
    {
      "cell_type": "markdown",
      "metadata": {
        "colab_type": "text",
        "id": "akhvGe3OfwQJ"
      },
      "source": [
        "### Tokenizers . (Can replace the KERAS tokenizer but missing vocab sise limitation)\n"
      ]
    },
    {
      "cell_type": "markdown",
      "metadata": {
        "colab_type": "text",
        "id": "EfW_VwR7fwQL"
      },
      "source": [
        "1. Uni-Gram Tokenizations "
      ]
    },
    {
      "cell_type": "code",
      "metadata": {
        "id": "G0qg8SMSNx_F",
        "colab_type": "code",
        "outputId": "1e538463-b458-44e7-d58b-f204077425ad",
        "colab": {
          "base_uri": "https://localhost:8080/",
          "height": 34
        }
      },
      "source": [
        "from keras.preprocessing.sequence import pad_sequences"
      ],
      "execution_count": 0,
      "outputs": [
        {
          "output_type": "stream",
          "text": [
            "Using TensorFlow backend.\n"
          ],
          "name": "stderr"
        }
      ]
    },
    {
      "cell_type": "code",
      "metadata": {
        "colab_type": "code",
        "id": "KBUGUZ7ofwQN",
        "colab": {}
      },
      "source": [
        "# This class creates a word -> index mapping (e.g,. \"dad\" -> 5) and vice-versa \n",
        "# (e.g., 5 -> \"dad\") for the dataset\n",
        "class ConstructVocab():\n",
        "    def __init__(self, sentences):\n",
        "        self.sentences = sentences\n",
        "        self.word2idx = {}\n",
        "        self.idx2word = {}\n",
        "        self.vocab = set()\n",
        "        self.create_index()\n",
        "        \n",
        "    def create_index(self):\n",
        "        for s in self.sentences:\n",
        "            # update with individual tokens\n",
        "            self.vocab.update(s.split(' '))\n",
        "            #self.vocab.update(generate_bigrams(s.split(' ')))\n",
        "            \n",
        "        # sort the vocab\n",
        "        self.vocab = sorted(self.vocab)\n",
        "\n",
        "        # add a padding token with index 0\n",
        "        self.word2idx['<pad>'] = 0\n",
        "        \n",
        "        # word to index mapping\n",
        "        for index, word in enumerate(self.vocab):\n",
        "            self.word2idx[word] = index + 1 # +1 because of pad token\n",
        "        \n",
        "        # index to word mapping\n",
        "        for word, index in self.word2idx.items():\n",
        "            self.idx2word[index] = word "
      ],
      "execution_count": 0,
      "outputs": []
    },
    {
      "cell_type": "code",
      "metadata": {
        "id": "OxRfF5ylMyxh",
        "colab_type": "code",
        "colab": {}
      },
      "source": [
        "X = np.concatenate((X_train, X_test), axis=0)"
      ],
      "execution_count": 0,
      "outputs": []
    },
    {
      "cell_type": "code",
      "metadata": {
        "colab_type": "code",
        "id": "0sFTIz-VfwQR",
        "colab": {}
      },
      "source": [
        "# construct vocab and indexing\n",
        "inputs = ConstructVocab(X)\n",
        "\n",
        "\n",
        "num_words = len(inputs.vocab)"
      ],
      "execution_count": 0,
      "outputs": []
    },
    {
      "cell_type": "code",
      "metadata": {
        "colab_type": "code",
        "id": "dsq79p6NfwQS",
        "colab": {}
      },
      "source": [
        "# vectorize to tensor\n",
        "train_sequences = [[inputs.word2idx[s] for s in es.split(' ')]  for es in X_train]"
      ],
      "execution_count": 0,
      "outputs": []
    },
    {
      "cell_type": "code",
      "metadata": {
        "colab_type": "code",
        "id": "yFxOohjMfwQU",
        "colab": {}
      },
      "source": [
        "maxlen = max([len(x) for x in train_sequences])"
      ],
      "execution_count": 0,
      "outputs": []
    },
    {
      "cell_type": "code",
      "metadata": {
        "colab_type": "code",
        "id": "WKxmyzE2fwQV",
        "colab": {}
      },
      "source": [
        "# Pad the training sequences\n",
        "train_padded = pad_sequences(train_sequences, padding='post', truncating='post', maxlen=maxlen)"
      ],
      "execution_count": 0,
      "outputs": []
    },
    {
      "cell_type": "code",
      "metadata": {
        "id": "hn30Em48NySy",
        "colab_type": "code",
        "colab": {}
      },
      "source": [
        "# vectorize to tensor\n",
        "test_sequences = [[inputs.word2idx[s] for s in es.split(' ')]  for es in X_test]\n",
        "# Pad the training sequences\n",
        "test_padded = pad_sequences(test_sequences, padding='post', truncating='post', maxlen=maxlen)"
      ],
      "execution_count": 0,
      "outputs": []
    },
    {
      "cell_type": "markdown",
      "metadata": {
        "id": "ByqU3c_s-3o_",
        "colab_type": "text"
      },
      "source": [
        "1.1 KERAS Tokenization"
      ]
    },
    {
      "cell_type": "code",
      "metadata": {
        "id": "YL4L5XVw-7XK",
        "colab_type": "code",
        "colab": {}
      },
      "source": [
        "# KERAS Tokenization\n",
        "# https://machinelearningmastery.com/prepare-text-data-deep-learning-keras/\n",
        "#https://www.kdnuggets.com/2020/03/tensorflow-keras-tokenization-text-data-prep.html\n",
        "\n",
        "num_words = 5000\n",
        "oov_token = '<UNK>'\n",
        "pad_type = 'post'\n",
        "trunc_type = 'post'\n",
        "\n",
        "\n",
        "# Tokenize our training data\n",
        "tokenizer = Tokenizer(num_words=num_words, oov_token=oov_token)\n",
        "tokenizer.fit_on_texts(X_train)\n",
        "\n",
        "# Get our training data word index\n",
        "word_index = tokenizer.word_index\n",
        "\n",
        "# Encode training data sentences into sequences\n",
        "train_sequences = tokenizer.texts_to_sequences(X_train)\n",
        "\n",
        "# Get max training sequence length\n",
        "maxlen = max([len(x) for x in train_sequences])\n",
        "maxlen = 256\n",
        "\n",
        "# Pad the training sequences\n",
        "train_padded = pad_sequences(train_sequences, padding=pad_type, truncating=trunc_type, maxlen=maxlen)\n",
        "\n",
        "# Output the results of our work\n",
        "#print(\"Word index:\\n\", word_index)\n",
        "#print(\"\\nTraining sequences:\\n\", train_sequences)\n",
        "#print(\"\\nPadded training sequences:\\n\", train_padded)\n",
        "#print(\"\\nPadded training shape:\", train_padded.shape)\n",
        "#print(\"Training sequences data type:\", type(train_sequences))\n",
        "#print(\"Padded Training sequences data type:\", type(train_padded))\n",
        "\n",
        "test_sequences = tokenizer.texts_to_sequences(X_test)\n",
        "test_padded = pad_sequences(test_sequences, padding=pad_type, truncating=trunc_type, maxlen=maxlen)\n",
        "\n",
        "#print(\"Testing sequences:\\n\", test_sequences)\n",
        "#print(\"\\nPadded testing sequences:\\n\", test_padded)\n",
        "#print(\"\\nPadded testing shape:\",test_padded.shape)\n",
        "\n",
        "#for x, y in zip(test_data, test_padded):\n",
        "#  print('{} -> {}'.format(x, y))\n",
        "\n",
        "#print(\"\\nWord index (for reference):\", word_index)\n"
      ],
      "execution_count": 0,
      "outputs": []
    },
    {
      "cell_type": "markdown",
      "metadata": {
        "id": "ppO9IQHORZaU",
        "colab_type": "text"
      },
      "source": [
        "2. Bigram tokenization"
      ]
    },
    {
      "cell_type": "code",
      "metadata": {
        "id": "tKC1ZW7jRlRu",
        "colab_type": "code",
        "colab": {}
      },
      "source": [
        "from keras.preprocessing.sequence import pad_sequences"
      ],
      "execution_count": 0,
      "outputs": []
    },
    {
      "cell_type": "code",
      "metadata": {
        "id": "YGDI0IsqReIj",
        "colab_type": "code",
        "colab": {}
      },
      "source": [
        "    def generate_bigrams(x):\n",
        "      n_grams = set(zip(*[x[i:] for i in range(2)]))\n",
        "      for n_gram in n_grams:\n",
        "          x.append(' '.join(n_gram))\n",
        "      return x"
      ],
      "execution_count": 0,
      "outputs": []
    },
    {
      "cell_type": "code",
      "metadata": {
        "id": "xiNv5jDARpvP",
        "colab_type": "code",
        "colab": {}
      },
      "source": [
        "# This class creates a word -> index mapping (e.g,. \"dad\" -> 5) and vice-versa \n",
        "# (e.g., 5 -> \"dad\") for the dataset\n",
        "class ConstructVocab():\n",
        "    def __init__(self, sentences):\n",
        "        self.sentences = sentences\n",
        "        self.word2idx = {}\n",
        "        self.idx2word = {}\n",
        "        self.vocab = set()\n",
        "        self.create_index()\n",
        "        \n",
        "    def create_index(self):\n",
        "        for s in self.sentences:\n",
        "            # update with individual tokens\n",
        "            self.vocab.update(generate_bigrams(s.split(' ')))\n",
        "            \n",
        "        # sort the vocab\n",
        "        self.vocab = sorted(self.vocab)\n",
        "\n",
        "        # add a padding token with index 0\n",
        "        self.word2idx['<pad>'] = 0\n",
        "        \n",
        "        # word to index mapping\n",
        "        for index, word in enumerate(self.vocab):\n",
        "            self.word2idx[word] = index + 1 # +1 because of pad token\n",
        "        \n",
        "        # index to word mapping\n",
        "        for word, index in self.word2idx.items():\n",
        "            self.idx2word[index] = word "
      ],
      "execution_count": 0,
      "outputs": []
    },
    {
      "cell_type": "code",
      "metadata": {
        "colab_type": "code",
        "id": "M3ssD6P0RuhD",
        "colab": {}
      },
      "source": [
        "X = np.concatenate((X_train, X_test), axis=0)"
      ],
      "execution_count": 0,
      "outputs": []
    },
    {
      "cell_type": "code",
      "metadata": {
        "colab_type": "code",
        "id": "CFVFEe4NRuhF",
        "colab": {}
      },
      "source": [
        "# construct vocab and indexing\n",
        "inputs = ConstructVocab(X)\n",
        "num_words = len(inputs.vocab)"
      ],
      "execution_count": 0,
      "outputs": []
    },
    {
      "cell_type": "code",
      "metadata": {
        "colab_type": "code",
        "id": "jmk9DTDcRuhH",
        "colab": {}
      },
      "source": [
        "# vectorize to tensor\n",
        "train_sequences = [[inputs.word2idx[s] for s in generate_bigrams(es.split(' '))]  for es in X_train]"
      ],
      "execution_count": 0,
      "outputs": []
    },
    {
      "cell_type": "code",
      "metadata": {
        "colab_type": "code",
        "id": "g0OUue_YRuhK",
        "colab": {}
      },
      "source": [
        "maxlen = max([len(x) for x in train_sequences])"
      ],
      "execution_count": 0,
      "outputs": []
    },
    {
      "cell_type": "code",
      "metadata": {
        "colab_type": "code",
        "id": "nn8kztF-RuhQ",
        "colab": {}
      },
      "source": [
        "# Pad the training sequences\n",
        "train_padded = pad_sequences(train_sequences, padding='post', truncating='post', maxlen=maxlen)"
      ],
      "execution_count": 0,
      "outputs": []
    },
    {
      "cell_type": "code",
      "metadata": {
        "colab_type": "code",
        "id": "2SRuB-4dRuhU",
        "colab": {}
      },
      "source": [
        "# vectorize to tensor\n",
        "test_sequences = [[inputs.word2idx[s] for s in generate_bigrams(es.split(' '))]  for es in X_test]\n",
        "# Pad the training sequences\n",
        "test_padded = pad_sequences(test_sequences, padding='post', truncating='post', maxlen=maxlen)"
      ],
      "execution_count": 0,
      "outputs": []
    },
    {
      "cell_type": "markdown",
      "metadata": {
        "colab_type": "text",
        "id": "S55JwU_4r2AS"
      },
      "source": [
        "### GRU + GLOVE\n"
      ]
    },
    {
      "cell_type": "markdown",
      "metadata": {
        "colab_type": "text",
        "id": "QGeAKr4Xr2AT"
      },
      "source": [
        "1. Uni-Gram Tokenizations & Padding"
      ]
    },
    {
      "cell_type": "code",
      "metadata": {
        "colab_type": "code",
        "id": "Tlgy6cpRr2AT",
        "colab": {}
      },
      "source": [
        "def pad_sequences(x, max_len):\n",
        "    padded = np.zeros((max_len), dtype=np.int64)\n",
        "    if len(x) > max_len: padded[:] = x[:max_len]\n",
        "    else: padded[:len(x)] = x\n",
        "    return padded"
      ],
      "execution_count": 0,
      "outputs": []
    },
    {
      "cell_type": "code",
      "metadata": {
        "colab_type": "code",
        "id": "rc1i7dnWr2AX",
        "colab": {}
      },
      "source": [
        "# This class creates a word -> index mapping (e.g,. \"dad\" -> 5) and vice-versa \n",
        "# (e.g., 5 -> \"dad\") for the dataset\n",
        "class ConstructVocab():\n",
        "    def __init__(self, sentences):\n",
        "        self.sentences = sentences\n",
        "        self.word2idx = {}\n",
        "        self.idx2word = {}\n",
        "        self.vocab = set()\n",
        "        self.create_index()\n",
        "        \n",
        "    def create_index(self):\n",
        "        for s in self.sentences:\n",
        "            # update with individual tokens\n",
        "            self.vocab.update(s.split(' '))\n",
        "            #self.vocab.update(generate_bigrams(s.split(' ')))\n",
        "            \n",
        "        # sort the vocab\n",
        "        self.vocab = sorted(self.vocab)\n",
        "\n",
        "        # add a padding token with index 0\n",
        "        self.word2idx['<pad>'] = 0\n",
        "        \n",
        "        # word to index mapping\n",
        "        for index, word in enumerate(self.vocab):\n",
        "            self.word2idx[word] = index + 1 # +1 because of pad token\n",
        "        \n",
        "        # index to word mapping\n",
        "        for word, index in self.word2idx.items():\n",
        "            self.idx2word[index] = word "
      ],
      "execution_count": 0,
      "outputs": []
    },
    {
      "cell_type": "code",
      "metadata": {
        "colab_type": "code",
        "id": "1dHaWW_Lr2AZ",
        "colab": {}
      },
      "source": [
        "X = np.concatenate((X_train, X_test), axis=0)\n",
        "\n",
        "# construct vocab and indexing\n",
        "inputs = ConstructVocab(X)\n",
        "num_words = len(inputs.vocab)\n",
        "\n",
        "# vectorize to tensor\n",
        "train_sequences = [[inputs.word2idx[s] for s in es.split(' ')]  for es in X_train]\n",
        "\n",
        "maxlen = max([len(x) for x in train_sequences])\n",
        "\n",
        "# Pad the training sequences\n",
        "#train_padded = pad_sequences(train_sequences, padding='post', truncating='post', maxlen=maxlen)\n",
        "train_padded = [pad_sequences(x, maxlen) for x in train_sequences]"
      ],
      "execution_count": 0,
      "outputs": []
    },
    {
      "cell_type": "code",
      "metadata": {
        "colab_type": "code",
        "id": "RT04cvalr2Ak",
        "colab": {}
      },
      "source": [
        "\n",
        "# vectorize to tensor\n",
        "test_sequences = [[inputs.word2idx[s] for s in es.split(' ')]  for es in X_test]\n",
        "# Pad the training sequences\n",
        "test_padded = [pad_sequences(x, maxlen) for x in test_sequences]"
      ],
      "execution_count": 0,
      "outputs": []
    },
    {
      "cell_type": "markdown",
      "metadata": {
        "id": "3SUhSar6zQLH",
        "colab_type": "text"
      },
      "source": [
        "3. Data Loader"
      ]
    },
    {
      "cell_type": "code",
      "metadata": {
        "id": "7e4vnIp92eyy",
        "colab_type": "code",
        "colab": {}
      },
      "source": [
        "# convert the data to tensors and pass to the Dataloader \n",
        "# to create an batch iterator\n",
        "\n",
        "class MyData(Dataset):\n",
        "    def __init__(self, X, y):\n",
        "        self.data = X\n",
        "        self.target = y\n",
        "        self.length = [ np.sum(1 - np.equal(x, 0)) for x in X]\n",
        "        \n",
        "    def __getitem__(self, index):\n",
        "        x = self.data[index]\n",
        "        y = self.target[index]\n",
        "        x_len = self.length[index]\n",
        "        return x, y, x_len\n",
        "    \n",
        "    def __len__(self):\n",
        "        return len(self.data)"
      ],
      "execution_count": 0,
      "outputs": []
    },
    {
      "cell_type": "code",
      "metadata": {
        "id": "abNOhfAm2hVh",
        "colab_type": "code",
        "outputId": "2602ba50-3b1c-4a3e-d4da-ab3595f91621",
        "colab": {
          "base_uri": "https://localhost:8080/",
          "height": 51
        }
      },
      "source": [
        "from torch.utils.data import TensorDataset, random_split\n",
        "\n",
        "# Combine the training inputs into a TensorDataset.\n",
        "dataset = MyData(train_padded, y_train_hotvec)\n",
        "\n",
        "# Create a 90-10 train-validation split.\n",
        "\n",
        "# Calculate the number of samples to include in each set.\n",
        "train_size = int(0.9 * len(dataset))\n",
        "val_size = len(dataset) - train_size\n",
        "\n",
        "# Divide the dataset by randomly selecting samples.\n",
        "train_dataset, val_dataset = random_split(dataset, [train_size, val_size])\n",
        "\n",
        "print('{:>5,} training samples'.format(train_size))\n",
        "print('{:>5,} validation samples'.format(val_size))\n"
      ],
      "execution_count": 0,
      "outputs": [
        {
          "output_type": "stream",
          "text": [
            "14,400 training samples\n",
            "1,600 validation samples\n"
          ],
          "name": "stdout"
        }
      ]
    },
    {
      "cell_type": "code",
      "metadata": {
        "id": "NP32wyFQq4RV",
        "colab_type": "code",
        "outputId": "bd140e79-fce2-4ed7-df0d-4064e1ae442e",
        "colab": {
          "base_uri": "https://localhost:8080/",
          "height": 119
        }
      },
      "source": [
        "train_dataset[0]"
      ],
      "execution_count": 0,
      "outputs": [
        {
          "output_type": "execute_result",
          "data": {
            "text/plain": [
              "(array([13185,  7367,  9426,   542,  7379,  4801,  3414,    23,   669,\n",
              "        15447,    13,  6329,   184,   172,  8743,    23,  5509, 12999,\n",
              "         8976,     0,     0,     0,     0,     0,     0,     0,     0,\n",
              "            0,     0,     0,     0,     0,     0,     0,     0,     0,\n",
              "            0,     0,     0,     0,     0,     0,     0,     0,     0,\n",
              "            0,     0,     0,     0,     0,     0]), array([0, 1]), 19)"
            ]
          },
          "metadata": {
            "tags": []
          },
          "execution_count": 87
        }
      ]
    },
    {
      "cell_type": "code",
      "metadata": {
        "id": "QTZJW_8N4QR7",
        "colab_type": "code",
        "colab": {}
      },
      "source": [
        "from torch.utils.data import DataLoader, RandomSampler, SequentialSampler\n",
        "\n",
        "# The DataLoader needs to know our batch size for training, so we specify it \n",
        "# here. For fine-tuning BERT on a specific task, the authors recommend a batch \n",
        "# size of 16 or 32.\n",
        "batch_size = 32\n",
        "\n",
        "# Create the DataLoaders for our training and validation sets.\n",
        "# We'll take training samples in random order. \n",
        "train_dataloader = DataLoader(\n",
        "            train_dataset,  # The training samples.\n",
        "            sampler = RandomSampler(train_dataset), # Select batches randomly\n",
        "            batch_size = batch_size # Trains with this batch size.\n",
        "        )\n",
        "\n",
        "# For validation the order doesn't matter, so we'll just read them sequentially.\n",
        "validation_dataloader = DataLoader(\n",
        "            val_dataset, # The validation samples.\n",
        "            sampler = SequentialSampler(val_dataset), # Pull out batches sequentially.\n",
        "            batch_size = batch_size # Evaluate with this batch size.\n",
        "        )"
      ],
      "execution_count": 0,
      "outputs": []
    },
    {
      "cell_type": "code",
      "metadata": {
        "id": "IxRL8puJEbwy",
        "colab_type": "code",
        "colab": {}
      },
      "source": [
        "TRAIN_N_BATCH = train_size // batch_size\n",
        "VAL_N_BATCH = val_size // batch_size"
      ],
      "execution_count": 0,
      "outputs": []
    },
    {
      "cell_type": "code",
      "metadata": {
        "id": "_STB2rP_pkak",
        "colab_type": "code",
        "outputId": "35239fa0-f147-4920-9cce-a1fa150b2cb8",
        "colab": {
          "base_uri": "https://localhost:8080/",
          "height": 34
        }
      },
      "source": [
        "train_size"
      ],
      "execution_count": 0,
      "outputs": [
        {
          "output_type": "execute_result",
          "data": {
            "text/plain": [
              "6228"
            ]
          },
          "metadata": {
            "tags": []
          },
          "execution_count": 96
        }
      ]
    },
    {
      "cell_type": "code",
      "metadata": {
        "id": "98lXDZhd69L2",
        "colab_type": "code",
        "colab": {}
      },
      "source": [
        "# define dict to hold a word and its vector\n",
        "glove = {}\n",
        "# read the word embeddings file ~820MB\n",
        "f = open('/gdrive/My Drive/Colab Notebooks/DAIR/EmotionDataSet/glove.6B.100d.txt', encoding='utf-8')\n",
        "\n",
        "for line in f:\n",
        "    values = line.split()\n",
        "    word = values[0]\n",
        "    coefs = np.asarray(values[1:], dtype='float32')\n",
        "    glove[word] = coefs\n",
        "f.close()\n",
        "# check the length\n",
        "len(glove) # 400000\n",
        "\n",
        "# Build pre-trained embeddings \n",
        "emb_dim = 100\n",
        "matrix_len = len(inputs.vocab)+1\n",
        "weights_matrix = np.zeros((matrix_len, emb_dim))\n",
        "words_found = 0\n",
        "s=[]\n",
        "\n",
        "weights_matrix[0] = np.zeros((emb_dim,))   # <pad> \n",
        "for i, word in enumerate(inputs.vocab):\n",
        "    try: \n",
        "        weights_matrix[i+1] = glove[word]\n",
        "        words_found += 1\n",
        "    except KeyError:\n",
        "        weights_matrix[i+1] = np.zeros((emb_dim,))\n",
        "\n",
        "pretrained_embeddings = weights_matrix\n"
      ],
      "execution_count": 0,
      "outputs": []
    },
    {
      "cell_type": "markdown",
      "metadata": {
        "id": "rTJzMIwOzUp4",
        "colab_type": "text"
      },
      "source": [
        "4. Model\n",
        "\n",
        "After the data has been preprocessed, transformed and prepared it is now time to construct the model or the so-called computation graph that will be used to train our classification models. We are going to use a gated recurrent neural network (GRU), which is considered a more efficient version of a basic RNN. The figure below shows a high-level overview of the model details. \n",
        "\n",
        "![alt txt](https://github.com/omarsar/nlp_pytorch_tensorflow_notebooks/blob/master/img/gru-model.png?raw=true)"
      ]
    },
    {
      "cell_type": "code",
      "metadata": {
        "id": "jsgJI237ztH1",
        "colab_type": "code",
        "colab": {}
      },
      "source": [
        "import torch.nn as nn\n",
        "class EmoGRU(nn.Module):\n",
        "    def __init__(self, vocab_size, embedding_dim, hidden_units, batch_sz, output_size):\n",
        "        super(EmoGRU, self).__init__()\n",
        "        self.batch_sz = batch_sz\n",
        "        self.hidden_units = hidden_units\n",
        "        self.embedding_dim = embedding_dim\n",
        "        self.vocab_size = vocab_size\n",
        "        self.output_size = output_size\n",
        "        \n",
        "        # layers\n",
        "        self.embedding = nn.Embedding(self.vocab_size, self.embedding_dim)\n",
        "        #self.embeddings = nn.Embedding.from_pretrained(glove_vectors, freeze=True).\n",
        "        self.dropout = nn.Dropout(p=0.5)\n",
        "        self.gru = nn.GRU(self.embedding_dim, self.hidden_units)\n",
        "        self.fc = nn.Linear(self.hidden_units, self.output_size)\n",
        "    \n",
        "    def initialize_hidden_state(self, device):\n",
        "        return torch.zeros((1, self.batch_sz, self.hidden_units)).to(device)\n",
        "    \n",
        "    def forward(self, x, lens, device):\n",
        "        x = self.embedding(x)\n",
        "        self.hidden = self.initialize_hidden_state(device)\n",
        "        output, self.hidden = self.gru(x, self.hidden) # max_len X batch_size X hidden_units\n",
        "        out = output[-1, :, :] \n",
        "        out = self.dropout(out)\n",
        "        out = self.fc(out)\n",
        "        return out, self.hidden  "
      ],
      "execution_count": 0,
      "outputs": []
    },
    {
      "cell_type": "markdown",
      "metadata": {
        "id": "nxPI0qpw8KbU",
        "colab_type": "text"
      },
      "source": [
        "5. Pretesting model"
      ]
    },
    {
      "cell_type": "code",
      "metadata": {
        "id": "jOMDha6O8ODG",
        "colab_type": "code",
        "colab": {}
      },
      "source": [
        "### sort batch function to be able to use with pad_packed_sequence\n",
        "def sort_batch(X, y, lengths):\n",
        "    lengths, indx = lengths.sort(dim=0, descending=True)\n",
        "    X = X[indx]\n",
        "    y = y[indx]\n",
        "    return X.transpose(0,1), y, lengths # transpose (batch x seq) to (seq x batch)"
      ],
      "execution_count": 0,
      "outputs": []
    },
    {
      "cell_type": "code",
      "metadata": {
        "id": "OGo7_Sxn_Urb",
        "colab_type": "code",
        "colab": {}
      },
      "source": [
        "device = torch.device(\"cuda:0\" if torch.cuda.is_available() else \"cpu\")\n",
        "model = EmoGRU(vocab_size=len(inputs.word2idx), embedding_dim=100, hidden_units=1024, batch_sz=batch_size, output_size=6)\n",
        "# Load Glove parameters \n",
        "model.embedding.weight.data.copy_(torch.tensor(pretrained_embeddings))\n",
        "\n",
        "# obtain one sample from the data iterator\n",
        "it = iter(train_dataloader)\n",
        "x, y, x_len = next(it)\n",
        "\n",
        "# sort the batch first to be able to use with pac_pack sequence\n",
        "xs, ys, lens = sort_batch(x, y, x_len)\n",
        "\n",
        "print(\"Input size: \", xs.size())\n",
        "\n",
        "output, _ = model(xs.to(device), lens, device)\n",
        "print(output.size())"
      ],
      "execution_count": 0,
      "outputs": []
    },
    {
      "cell_type": "code",
      "metadata": {
        "id": "L4ijUfPJ-UUh",
        "colab_type": "code",
        "outputId": "2a0c9795-49c5-42e7-e491-e7f04d7837f8",
        "colab": {
          "base_uri": "https://localhost:8080/",
          "height": 34
        }
      },
      "source": [
        "type(xs)"
      ],
      "execution_count": 0,
      "outputs": [
        {
          "output_type": "execute_result",
          "data": {
            "text/plain": [
              "torch.Tensor"
            ]
          },
          "metadata": {
            "tags": []
          },
          "execution_count": 51
        }
      ]
    },
    {
      "cell_type": "code",
      "metadata": {
        "id": "lW34b8_8-czI",
        "colab_type": "code",
        "outputId": "b5e25615-8d36-46d0-eb28-6665840ef042",
        "colab": {
          "base_uri": "https://localhost:8080/",
          "height": 34
        }
      },
      "source": [
        "type(lens)"
      ],
      "execution_count": 0,
      "outputs": [
        {
          "output_type": "execute_result",
          "data": {
            "text/plain": [
              "torch.Tensor"
            ]
          },
          "metadata": {
            "tags": []
          },
          "execution_count": 52
        }
      ]
    },
    {
      "cell_type": "code",
      "metadata": {
        "id": "nM1-cheq9zhb",
        "colab_type": "code",
        "outputId": "1440d16d-9f4c-4c88-e458-faefd5be49b2",
        "colab": {
          "base_uri": "https://localhost:8080/",
          "height": 34
        }
      },
      "source": [
        "num_words"
      ],
      "execution_count": 0,
      "outputs": [
        {
          "output_type": "execute_result",
          "data": {
            "text/plain": [
              "16184"
            ]
          },
          "metadata": {
            "tags": []
          },
          "execution_count": 48
        }
      ]
    },
    {
      "cell_type": "code",
      "metadata": {
        "id": "RP8l48Ah3gHs",
        "colab_type": "code",
        "outputId": "3dc1a21b-d7f0-4cc4-fa81-355e68e9b3bd",
        "colab": {
          "base_uri": "https://localhost:8080/",
          "height": 34
        }
      },
      "source": [
        "type(xs)"
      ],
      "execution_count": 0,
      "outputs": [
        {
          "output_type": "execute_result",
          "data": {
            "text/plain": [
              "torch.Tensor"
            ]
          },
          "metadata": {
            "tags": []
          },
          "execution_count": 36
        }
      ]
    },
    {
      "cell_type": "code",
      "metadata": {
        "id": "auQ41eWk25ec",
        "colab_type": "code",
        "outputId": "b78c4772-727c-427e-dd73-03dcffa954c6",
        "colab": {
          "base_uri": "https://localhost:8080/",
          "height": 51
        }
      },
      "source": [
        "lens"
      ],
      "execution_count": 0,
      "outputs": [
        {
          "output_type": "execute_result",
          "data": {
            "text/plain": [
              "tensor([42, 40, 35, 34, 29, 28, 27, 24, 21, 20, 20, 19, 18, 17, 17, 16, 15, 15,\n",
              "        14, 14, 14, 14, 14, 12, 12, 11,  8,  8,  7,  7,  6,  5])"
            ]
          },
          "metadata": {
            "tags": []
          },
          "execution_count": 31
        }
      ]
    },
    {
      "cell_type": "code",
      "metadata": {
        "id": "eNrghWFamh0G",
        "colab_type": "code",
        "outputId": "3e07bd79-44a9-4e4a-da1d-d2928f1d082f",
        "colab": {
          "base_uri": "https://localhost:8080/",
          "height": 51
        }
      },
      "source": [
        "lens"
      ],
      "execution_count": 0,
      "outputs": [
        {
          "output_type": "execute_result",
          "data": {
            "text/plain": [
              "tensor([34, 29, 28, 26, 25, 25, 23, 23, 22, 20, 17, 17, 14, 13, 12, 11, 11,  9,\n",
              "         9,  8,  8,  8,  8,  7,  7,  7,  6,  6,  6,  6,  4,  4])"
            ]
          },
          "metadata": {
            "tags": []
          },
          "execution_count": 135
        }
      ]
    },
    {
      "cell_type": "code",
      "metadata": {
        "id": "I3eOLLTyWPhP",
        "colab_type": "code",
        "outputId": "7accafe2-9411-4ef6-8172-2a84f61e43a3",
        "colab": {
          "base_uri": "https://localhost:8080/",
          "height": 34
        }
      },
      "source": [
        ""
      ],
      "execution_count": 0,
      "outputs": [
        {
          "output_type": "execute_result",
          "data": {
            "text/plain": [
              "device(type='cuda', index=0)"
            ]
          },
          "metadata": {
            "tags": []
          },
          "execution_count": 116
        }
      ]
    },
    {
      "cell_type": "markdown",
      "metadata": {
        "id": "53SFiZeU0UFR",
        "colab_type": "text"
      },
      "source": [
        "5. Training the model"
      ]
    },
    {
      "cell_type": "markdown",
      "metadata": {
        "id": "DgoiDUuhCGNu",
        "colab_type": "text"
      },
      "source": [
        "5.1 Model"
      ]
    },
    {
      "cell_type": "code",
      "metadata": {
        "id": "8Cm7C_CLCJet",
        "colab_type": "code",
        "outputId": "9bf2f2fd-685d-45eb-f590-db86781730c5",
        "colab": {
          "base_uri": "https://localhost:8080/",
          "height": 119
        }
      },
      "source": [
        "### Enabling cuda\n",
        "use_cuda = True if torch.cuda.is_available() else False\n",
        "device = torch.device(\"cuda\" if use_cuda else \"cpu\")\n",
        "model = EmoGRU(vocab_size=len(inputs.word2idx), embedding_dim=100, hidden_units=1024, batch_sz=batch_size, output_size=6)\n",
        "# Load Glove parameters \n",
        "model.embedding.weight.data.copy_(torch.tensor(pretrained_embeddings))\n",
        "#model.embedding.weight.requires_grad = False\n",
        "model.to(device)"
      ],
      "execution_count": 0,
      "outputs": [
        {
          "output_type": "execute_result",
          "data": {
            "text/plain": [
              "EmoGRU(\n",
              "  (embedding): Embedding(16185, 100)\n",
              "  (dropout): Dropout(p=0.5, inplace=False)\n",
              "  (gru): GRU(100, 1024)\n",
              "  (fc): Linear(in_features=1024, out_features=6, bias=True)\n",
              ")"
            ]
          },
          "metadata": {
            "tags": []
          },
          "execution_count": 129
        }
      ]
    },
    {
      "cell_type": "markdown",
      "metadata": {
        "id": "PDwgrn3mCMme",
        "colab_type": "text"
      },
      "source": [
        "5.2 Optimizer"
      ]
    },
    {
      "cell_type": "code",
      "metadata": {
        "id": "NtFpm9r00X-e",
        "colab_type": "code",
        "colab": {}
      },
      "source": [
        "### loss criterion and optimizer for training\n",
        "criterion = nn.CrossEntropyLoss() # the same as log_softmax + NLLLoss\n",
        "#optimizer = torch.optim.Adam(model.parameters())\n",
        "optimizer = torch.optim.Adam(param for param in model.parameters() if param.requires_grad == True)\n",
        "\n",
        "def loss_function(y, prediction):\n",
        "    \"\"\" CrossEntropyLoss expects outputs and class indices as target \"\"\"\n",
        "    # convert from one-hot encoding to class indices\n",
        "    target = torch.max(y, 1)[1]\n",
        "    loss = criterion(prediction, target) \n",
        "    return loss   #TODO: refer the parameter of these functions as the same\n",
        "    \n",
        "def accuracy(target, logit):\n",
        "    ''' Obtain accuracy for training round '''\n",
        "    target = torch.max(target, 1)[1] # convert from one-hot encoding to class indices\n",
        "    corrects = (torch.max(logit, 1)[1].data == target).sum()\n",
        "    accuracy = 100.0 * corrects / len(logit)\n",
        "    return accuracy\n",
        "\n",
        "\n",
        "# Here is code for freezing the embedding layer weights\n",
        "# 1.model.embeddings.weight.requires_grad = False\n",
        "# 2. optimizer = torch.optim.Adam(param for param in model.parameters() if param.requires_grad == True)"
      ],
      "execution_count": 0,
      "outputs": []
    },
    {
      "cell_type": "markdown",
      "metadata": {
        "id": "sVy1HK4F0jCJ",
        "colab_type": "text"
      },
      "source": [
        "5.3 Training loop"
      ]
    },
    {
      "cell_type": "code",
      "metadata": {
        "id": "RVm-A1TF0mzx",
        "colab_type": "code",
        "colab": {}
      },
      "source": [
        "EPOCHS = 5\n",
        "\n",
        "for epoch in range(EPOCHS):\n",
        "    start = time.time()\n",
        "    \n",
        "    ### Initialize hidden state\n",
        "    # TODO: do initialization here.\n",
        "    total_loss = 0\n",
        "    train_accuracy, val_accuracy = 0, 0\n",
        "    \n",
        "    ### Training\n",
        "    for (batch, (inp, targ, lens)) in enumerate(train_dataloader):\n",
        "        loss = 0\n",
        "        predictions, _ = model(inp.permute(1 ,0).to(device), lens, device) # TODO:don't need _   \n",
        "              \n",
        "        loss += loss_function(targ.to(device), predictions)\n",
        "        batch_loss = (loss / int(targ.shape[1]))        \n",
        "        total_loss += batch_loss\n",
        "        \n",
        "        optimizer.zero_grad()\n",
        "        loss.backward()\n",
        "        optimizer.step()\n",
        "        \n",
        "        batch_accuracy = accuracy(targ.to(device), predictions)\n",
        "        train_accuracy += batch_accuracy\n",
        "        \n",
        "        if batch % 100 == 0:\n",
        "            print('Epoch {} Batch {} Val. Loss {:.4f}'.format(epoch + 1,\n",
        "                                                         batch,\n",
        "                                                         batch_loss.cpu().detach().numpy()))\n",
        "            \n",
        "    ### Validating\n",
        "    for (batch, (inp, targ, lens)) in enumerate(validation_dataloader):        \n",
        "        predictions,_ = model(inp.permute(1, 0).to(device), lens, device)        \n",
        "        batch_accuracy = accuracy(targ.to(device), predictions)\n",
        "        val_accuracy += batch_accuracy\n",
        "    \n",
        "    print('Epoch {} Loss {:.4f} -- Train Acc. {:.4f} -- Val Acc. {:.4f}'.format(epoch + 1, \n",
        "                                                             total_loss / TRAIN_N_BATCH, \n",
        "                                                             train_accuracy / TRAIN_N_BATCH,\n",
        "                                                             val_accuracy / VAL_N_BATCH))\n",
        "    print('Time taken for 1 epoch {} sec\\n'.format(time.time() - start))"
      ],
      "execution_count": 0,
      "outputs": []
    },
    {
      "cell_type": "code",
      "metadata": {
        "id": "h4LNN4NkHhvf",
        "colab_type": "code",
        "outputId": "96573ff2-a992-4625-b0e8-4ae8823c3a1f",
        "colab": {
          "base_uri": "https://localhost:8080/",
          "height": 119
        }
      },
      "source": [
        "model.parameters"
      ],
      "execution_count": 0,
      "outputs": [
        {
          "output_type": "execute_result",
          "data": {
            "text/plain": [
              "<bound method Module.parameters of EmoGRU(\n",
              "  (embedding): Embedding(16185, 100)\n",
              "  (dropout): Dropout(p=0.5, inplace=False)\n",
              "  (gru): GRU(100, 1024)\n",
              "  (fc): Linear(in_features=1024, out_features=6, bias=True)\n",
              ")>"
            ]
          },
          "metadata": {
            "tags": []
          },
          "execution_count": 68
        }
      ]
    },
    {
      "cell_type": "markdown",
      "metadata": {
        "id": "tiQgjajfH2az",
        "colab_type": "text"
      },
      "source": [
        "Evaluation"
      ]
    },
    {
      "cell_type": "code",
      "metadata": {
        "id": "PKVIXllhH6bP",
        "colab_type": "code",
        "colab": {}
      },
      "source": [
        "test_accuracy = 0\n",
        "all_predictions = []\n",
        "x_raw = []\n",
        "y_raw = []\n",
        "\n",
        "device = \"cuda\" # we don't need GPU to do testing\n",
        "model.to(\"cuda\")\n",
        "\n",
        "for (batch, (inp, targ, lens)) in enumerate(test_dataset):          \n",
        "    predictions,_ = model(inp.permute(1, 0).to(device), lens, device)        \n",
        "    batch_accuracy = accuracy(targ.to(device), predictions)\n",
        "    test_accuracy += batch_accuracy\n",
        "    \n",
        "    x_raw = x_raw + [x for x in inp]\n",
        "    y_raw = y_raw + [y for y in targ]\n",
        "    \n",
        "    all_predictions.append(predictions)\n",
        "    \n",
        "print(\"Test Accuracy: \", test_accuracy.cpu().detach().numpy() / TEST_N_BATCH)"
      ],
      "execution_count": 0,
      "outputs": []
    },
    {
      "cell_type": "markdown",
      "metadata": {
        "colab_type": "text",
        "id": "hz7Pqt0lrrKE"
      },
      "source": [
        "### GRU + GLOVE Primary\n"
      ]
    },
    {
      "cell_type": "markdown",
      "metadata": {
        "id": "YX3DGIbrNR2K",
        "colab_type": "text"
      },
      "source": [
        "Load Glove"
      ]
    },
    {
      "cell_type": "code",
      "metadata": {
        "id": "wtK19IUdNTKQ",
        "colab_type": "code",
        "outputId": "eab4cb4e-b4d1-41f2-f245-99cb76cdb545",
        "colab": {
          "base_uri": "https://localhost:8080/",
          "height": 34
        }
      },
      "source": [
        "# define dict to hold a word and its vector\n",
        "glove = {}\n",
        "# read the word embeddings file ~820MB\n",
        "f = open('/gdrive/My Drive/DataSet/Glove/glove.6B.100d.txt', encoding='utf-8')\n",
        "\n",
        "for line in f:\n",
        "    values = line.split()\n",
        "    word = values[0]\n",
        "    coefs = np.asarray(values[1:], dtype='float32')\n",
        "    glove[word] = coefs\n",
        "f.close()\n",
        "# check the length\n",
        "len(glove) # 400000"
      ],
      "execution_count": 27,
      "outputs": [
        {
          "output_type": "execute_result",
          "data": {
            "text/plain": [
              "400000"
            ]
          },
          "metadata": {
            "tags": []
          },
          "execution_count": 27
        }
      ]
    },
    {
      "cell_type": "markdown",
      "metadata": {
        "colab_type": "text",
        "id": "Y7lE-jWArrKF"
      },
      "source": [
        "1. My Tokenization, padding and Glove"
      ]
    },
    {
      "cell_type": "code",
      "metadata": {
        "colab_type": "code",
        "id": "aE783XpcrrKF",
        "colab": {}
      },
      "source": [
        "def my_pad_sequences(x, max_len):\n",
        "    padded = np.zeros((max_len), dtype=np.int64)\n",
        "    if len(x) > max_len: padded[:] = x[:max_len]\n",
        "    else: padded[:len(x)] = x\n",
        "    return padded"
      ],
      "execution_count": 0,
      "outputs": []
    },
    {
      "cell_type": "code",
      "metadata": {
        "colab_type": "code",
        "id": "H4MTMsosrrKH",
        "colab": {}
      },
      "source": [
        "# This class creates a word -> index mapping (e.g,. \"dad\" -> 5) and vice-versa \n",
        "# (e.g., 5 -> \"dad\") for the dataset\n",
        "class ConstructVocab():\n",
        "    def __init__(self, sentences):\n",
        "        self.sentences = sentences\n",
        "        self.word2idx = {}\n",
        "        self.idx2word = {}\n",
        "        self.vocab = set()\n",
        "        self.create_index()\n",
        "        \n",
        "    def create_index(self):\n",
        "        for s in self.sentences:\n",
        "            # update with individual tokens\n",
        "            self.vocab.update(s.split(' '))\n",
        "            #self.vocab.update(generate_bigrams(s.split(' ')))\n",
        "            \n",
        "        # sort the vocab\n",
        "        self.vocab = sorted(self.vocab)\n",
        "\n",
        "        # add a padding token with index 0\n",
        "        self.word2idx['<pad>'] = 0\n",
        "        \n",
        "        # word to index mapping\n",
        "        for index, word in enumerate(self.vocab):\n",
        "            self.word2idx[word] = index + 1 # +1 because of pad token\n",
        "        \n",
        "        # index to word mapping\n",
        "        for word, index in self.word2idx.items():\n",
        "            self.idx2word[index] = word "
      ],
      "execution_count": 0,
      "outputs": []
    },
    {
      "cell_type": "code",
      "metadata": {
        "colab_type": "code",
        "id": "2h9gXcd0rrKJ",
        "colab": {}
      },
      "source": [
        "X = np.concatenate((X_train, X_test), axis=0)\n",
        "\n",
        "# construct vocab and indexing\n",
        "inputs = ConstructVocab(X)\n",
        "num_words = len(inputs.vocab)\n",
        "\n",
        "# vectorize to tensor\n",
        "train_sequences = [[inputs.word2idx[s] for s in es.split(' ')]  for es in X_train]\n",
        "\n",
        "maxlen = max([len(x) for x in train_sequences])\n",
        "\n",
        "# Pad the training sequences\n",
        "#train_padded = pad_sequences(train_sequences, padding='post', truncating='post', maxlen=maxlen)\n",
        "train_padded = [my_pad_sequences(x, maxlen) for x in train_sequences]\n",
        "\n",
        "# vectorize to tensor\n",
        "test_sequences = [[inputs.word2idx[s] for s in es.split(' ')]  for es in X_test]\n",
        "# Pad the training sequences\n",
        "test_padded = [my_pad_sequences(x, maxlen) for x in test_sequences]\n",
        "\n",
        "num_words = len(inputs.word2idx)"
      ],
      "execution_count": 0,
      "outputs": []
    },
    {
      "cell_type": "code",
      "metadata": {
        "id": "RkO7QHyeS2Yw",
        "colab_type": "code",
        "colab": {}
      },
      "source": [
        "# Build pre-trained embeddings from KERAS tokenization\n",
        "emb_dim = 100\n",
        "matrix_len = len(inputs.vocab)+1\n",
        "weights_matrix = np.zeros((matrix_len, emb_dim))\n",
        "words_found = 0\n",
        "s=[]\n",
        "\n",
        "weights_matrix[0] = np.zeros((emb_dim,))   # <pad> \n",
        "for i, word in enumerate(inputs.vocab):\n",
        "    try: \n",
        "        weights_matrix[i+1] = glove[word]\n",
        "        words_found += 1\n",
        "    except KeyError:\n",
        "        weights_matrix[i+1] = np.zeros((emb_dim,))\n",
        "\n",
        "pretrained_embeddings = weights_matrix"
      ],
      "execution_count": 0,
      "outputs": []
    },
    {
      "cell_type": "code",
      "metadata": {
        "id": "oMiPBNYBmL9_",
        "colab_type": "code",
        "outputId": "ffec9803-2105-402a-a9e5-a42d532576b2",
        "colab": {
          "base_uri": "https://localhost:8080/",
          "height": 34
        }
      },
      "source": [
        "num_words"
      ],
      "execution_count": 0,
      "outputs": [
        {
          "output_type": "execute_result",
          "data": {
            "text/plain": [
              "15502"
            ]
          },
          "metadata": {
            "tags": []
          },
          "execution_count": 274
        }
      ]
    },
    {
      "cell_type": "markdown",
      "metadata": {
        "id": "F5JRat7c_b1W",
        "colab_type": "text"
      },
      "source": [
        "1.1 KERAS Tokenization, padding and Glove"
      ]
    },
    {
      "cell_type": "markdown",
      "metadata": {
        "id": "fWm2pRE6rrqb",
        "colab_type": "text"
      },
      "source": [
        "Elegant option: https://keras.io/examples/pretrained_word_embeddings/"
      ]
    },
    {
      "cell_type": "code",
      "metadata": {
        "colab_type": "code",
        "id": "_yLkqp_jsQJp",
        "colab": {}
      },
      "source": [
        "def my_pad_sequences(x, max_len):\n",
        "    padded = np.zeros((max_len), dtype=np.int64)\n",
        "    if len(x) > max_len: padded[:] = x[:max_len]\n",
        "    else: padded[:len(x)] = x\n",
        "    return padded"
      ],
      "execution_count": 0,
      "outputs": []
    },
    {
      "cell_type": "code",
      "metadata": {
        "id": "IcIDdqer6uqL",
        "colab_type": "code",
        "outputId": "7d011078-8d55-4f1e-f0e2-6818da276c4c",
        "colab": {
          "base_uri": "https://localhost:8080/",
          "height": 34
        }
      },
      "source": [
        "len(y_test_hotvec[0])"
      ],
      "execution_count": 0,
      "outputs": [
        {
          "output_type": "execute_result",
          "data": {
            "text/plain": [
              "2"
            ]
          },
          "metadata": {
            "tags": []
          },
          "execution_count": 92
        }
      ]
    },
    {
      "cell_type": "code",
      "metadata": {
        "id": "F44VjnjnpkGK",
        "colab_type": "code",
        "colab": {}
      },
      "source": [
        "# KERAS Tokenization\n",
        "# https://machinelearningmastery.com/prepare-text-data-deep-learning-keras/\n",
        "#https://www.kdnuggets.com/2020/03/tensorflow-keras-tokenization-text-data-prep.html\n",
        "from keras.preprocessing.text import Tokenizer\n",
        "\n",
        "# Init all Hyperparameters\n",
        "OUTPUT_DIM = len(y_train_hotvec[0])\n",
        "MAX_NUM_WORDS = 2000\n",
        "EMBEDDING_DIM = 100 # Glove\n",
        "MAX_LEN = 128 \n",
        "HIDDEN_DIM = 1024\n",
        "BATCH_SIZE = 32\n",
        "oov_token = '<UNK>' # Required only if test is not given \n",
        "\n",
        "# Avoid UNK words \n",
        "X = np.concatenate((X_train, X_test), axis=0)\n",
        "\n",
        "# Tokenize our training data\n",
        "tokenizer = Tokenizer(num_words=MAX_NUM_WORDS)\n",
        "tokenizer.fit_on_texts(X)\n",
        "\n",
        "# Get our training data word index\n",
        "word_index = tokenizer.word_index\n",
        "\n",
        "# Encode training data sentences into sequences\n",
        "train_sequences = tokenizer.texts_to_sequences(X_train)\n",
        "\n",
        "# Get max training sequence length\n",
        "maxlen = min(MAX_LEN, max([len(x) for x in train_sequences]))\n",
        "\n",
        "# Pad the training sequences\n",
        "train_padded = [my_pad_sequences(x, maxlen) for x in train_sequences]\n",
        "\n",
        "# Encode test data sentences into sequences\n",
        "test_sequences = tokenizer.texts_to_sequences(X_test)\n",
        "test_padded = [my_pad_sequences(x, maxlen) for x in test_sequences]\n"
      ],
      "execution_count": 0,
      "outputs": []
    },
    {
      "cell_type": "code",
      "metadata": {
        "id": "KGdyIKVStF3w",
        "colab_type": "code",
        "outputId": "51a625d9-5306-48a7-cb8a-666e3c68aa12",
        "colab": {
          "base_uri": "https://localhost:8080/",
          "height": 34
        }
      },
      "source": [
        "maxlen\n"
      ],
      "execution_count": 0,
      "outputs": [
        {
          "output_type": "execute_result",
          "data": {
            "text/plain": [
              "64"
            ]
          },
          "metadata": {
            "tags": []
          },
          "execution_count": 157
        }
      ]
    },
    {
      "cell_type": "code",
      "metadata": {
        "id": "F2x_HYOHob6V",
        "colab_type": "code",
        "colab": {}
      },
      "source": [
        "# From KERAS documentation\n",
        "# prepare embedding matrix\n",
        "words_not_found = 0\n",
        "num_words = min(MAX_NUM_WORDS, len(word_index) + 1)\n",
        "embedding_matrix = np.zeros((num_words, EMBEDDING_DIM))\n",
        "for word, i in word_index.items():\n",
        "    if i >= MAX_NUM_WORDS:\n",
        "        continue\n",
        "    try:     \n",
        "      embedding_vector = glove[word]\n",
        "    except KeyError:\n",
        "        # words not found in embedding index will be all-zeros.\n",
        "      words_not_found += 1\n"
      ],
      "execution_count": 0,
      "outputs": []
    },
    {
      "cell_type": "code",
      "metadata": {
        "id": "1poSPtLMD7Mh",
        "colab_type": "code",
        "outputId": "490e65c4-b823-4f80-b66e-65e1e9dfce29",
        "colab": {
          "base_uri": "https://localhost:8080/",
          "height": 34
        }
      },
      "source": [
        "words_not_found"
      ],
      "execution_count": 0,
      "outputs": [
        {
          "output_type": "execute_result",
          "data": {
            "text/plain": [
              "447"
            ]
          },
          "metadata": {
            "tags": []
          },
          "execution_count": 482
        }
      ]
    },
    {
      "cell_type": "markdown",
      "metadata": {
        "colab_type": "text",
        "id": "M4D7v_CjrrKM"
      },
      "source": [
        "2. Data Loader"
      ]
    },
    {
      "cell_type": "code",
      "metadata": {
        "colab_type": "code",
        "id": "ctzWoxS0rrKN",
        "colab": {}
      },
      "source": [
        "# convert the data to tensors and pass to the Dataloader \n",
        "# to create an batch iterator\n",
        "\n",
        "class MyData(Dataset):\n",
        "    def __init__(self, X, y):\n",
        "        self.data = X\n",
        "        self.target = y\n",
        "        self.length = [ np.sum(1 - np.equal(x, 0)) for x in X]\n",
        "        \n",
        "    def __getitem__(self, index):\n",
        "        x = self.data[index]\n",
        "        y = self.target[index]\n",
        "        x_len = self.length[index]\n",
        "        return x, y, x_len\n",
        "    \n",
        "    def __len__(self):\n",
        "        return len(self.data)"
      ],
      "execution_count": 0,
      "outputs": []
    },
    {
      "cell_type": "code",
      "metadata": {
        "colab_type": "code",
        "outputId": "066f5f73-0c42-4720-b291-42f75024b461",
        "id": "3eeeGJw7rrKQ",
        "colab": {
          "base_uri": "https://localhost:8080/",
          "height": 68
        }
      },
      "source": [
        "from torch.utils.data import TensorDataset, random_split\n",
        "\n",
        "# Combine the training inputs into a TensorDataset.\n",
        "dataset = MyData(train_padded, y_train_hotvec)\n",
        "\n",
        "# Create a 90-10 train-validation split.\n",
        "\n",
        "# Calculate the number of samples to include in each set.\n",
        "train_size = int(0.9 * len(dataset))\n",
        "val_size = len(dataset) - train_size\n",
        "\n",
        "# Divide the dataset by randomly selecting samples.\n",
        "train_dataset, val_dataset = random_split(dataset, [train_size, val_size])\n",
        "\n",
        "#Combine the test inputs into a TensorDataset.\n",
        "test_dataset = MyData(test_padded, y_test_hotvec)\n",
        "test_size=len(test_dataset)\n",
        "\n",
        "TRAIN_N_BATCH = train_size // BATCH_SIZE\n",
        "VAL_N_BATCH = val_size // BATCH_SIZE\n",
        "TEST_N_BATCH = test_size // BATCH_SIZE\n",
        "\n",
        "print('{:>5,} training samples'.format(train_size))\n",
        "print('{:>5,} validation samples'.format(val_size))\n",
        "print('{:>5,} test samples'.format(test_size))"
      ],
      "execution_count": 0,
      "outputs": [
        {
          "output_type": "stream",
          "text": [
            "90,849 training samples\n",
            "10,095 validation samples\n",
            "40,378 test samples\n"
          ],
          "name": "stdout"
        }
      ]
    },
    {
      "cell_type": "code",
      "metadata": {
        "colab_type": "code",
        "id": "5Uq6NKBFrrKS",
        "colab": {}
      },
      "source": [
        "test_dataset[0]"
      ],
      "execution_count": 0,
      "outputs": []
    },
    {
      "cell_type": "code",
      "metadata": {
        "id": "f29OyVwTk3n5",
        "colab_type": "code",
        "outputId": "0896b8b2-16d9-4919-e6be-057fd3ae675c",
        "colab": {
          "base_uri": "https://localhost:8080/",
          "height": 34
        }
      },
      "source": [
        "X_test[0]"
      ],
      "execution_count": 0,
      "outputs": [
        {
          "output_type": "execute_result",
          "data": {
            "text/plain": [
              "'no movement , no yuks , not much of anything'"
            ]
          },
          "metadata": {
            "tags": []
          },
          "execution_count": 231
        }
      ]
    },
    {
      "cell_type": "code",
      "metadata": {
        "colab_type": "code",
        "id": "ndOMw_qFrrKU",
        "colab": {}
      },
      "source": [
        "from torch.utils.data import DataLoader, RandomSampler, SequentialSampler\n",
        "\n",
        "# Create the DataLoaders for our training and validation sets.\n",
        "# We'll take training samples in random order. \n",
        "train_dataloader = DataLoader(\n",
        "            train_dataset,  # The training samples.\n",
        "            sampler = RandomSampler(train_dataset), # Select batches randomly\n",
        "            batch_size = BATCH_SIZE # Trains with this batch size.\n",
        "        )\n",
        "\n",
        "# For validation the order doesn't matter, so we'll just read them sequentially.\n",
        "validation_dataloader = DataLoader(\n",
        "            val_dataset, # The validation samples.\n",
        "            sampler = SequentialSampler(val_dataset), # Pull out batches sequentially.\n",
        "            batch_size = BATCH_SIZE # Evaluate with this batch size.\n",
        "        )\n",
        "\n",
        "# For test the order doesn't matter, so we'll just read them sequentially.\n",
        "test_dataloader = DataLoader(\n",
        "            test_dataset, # The validation samples.\n",
        "            sampler = SequentialSampler(test_dataset), # Pull out batches sequentially.\n",
        "            batch_size = BATCH_SIZE # Evaluate with this batch size.\n",
        "        )\n"
      ],
      "execution_count": 0,
      "outputs": []
    },
    {
      "cell_type": "markdown",
      "metadata": {
        "colab_type": "text",
        "id": "A7WJ-UXorrKc"
      },
      "source": [
        "3. Model\n",
        "\n",
        "After the data has been preprocessed, transformed and prepared it is now time to construct the model or the so-called computation graph that will be used to train our classification models. We are going to use a gated recurrent neural network (GRU), which is considered a more efficient version of a basic RNN. The figure below shows a high-level overview of the model details. \n",
        "\n",
        "![alt txt](https://github.com/omarsar/nlp_pytorch_tensorflow_notebooks/blob/master/img/gru-model.png?raw=true)"
      ]
    },
    {
      "cell_type": "code",
      "metadata": {
        "colab_type": "code",
        "id": "DZRn6G3yrrKd",
        "colab": {}
      },
      "source": [
        "import torch.nn as nn\n",
        "class EmoGRU(nn.Module):\n",
        "    def __init__(self, vocab_size, embedding_dim, hidden_units, batch_sz, output_size):\n",
        "        super(EmoGRU, self).__init__()\n",
        "        self.batch_sz = batch_sz\n",
        "        self.hidden_units = hidden_units\n",
        "        self.embedding_dim = embedding_dim\n",
        "        self.vocab_size = vocab_size\n",
        "        self.output_size = output_size\n",
        "        \n",
        "        # layers\n",
        "        self.embedding = nn.Embedding(self.vocab_size, self.embedding_dim)\n",
        "        #self.embeddings = nn.Embedding.from_pretrained(glove_vectors, freeze=True).\n",
        "        self.dropout = nn.Dropout(p=0.5)\n",
        "        self.gru = nn.GRU(self.embedding_dim, self.hidden_units)\n",
        "        self.fc = nn.Linear(self.hidden_units, self.output_size)\n",
        "    \n",
        "    def initialize_hidden_state(self, batch_size, device):\n",
        "        return torch.zeros((1, batch_size, self.hidden_units)).to(device)\n",
        "    \n",
        "    def forward(self, x, lens, device):\n",
        "        x = self.embedding(x)\n",
        "        self.hidden = self.initialize_hidden_state(len(lens),device)\n",
        "        output, self.hidden = self.gru(x, self.hidden) # max_len X batch_size X hidden_units\n",
        "        out = output[-1, :, :] \n",
        "        out = self.dropout(out)\n",
        "        out = self.fc(out)\n",
        "        return out, self.hidden  "
      ],
      "execution_count": 0,
      "outputs": []
    },
    {
      "cell_type": "markdown",
      "metadata": {
        "colab_type": "text",
        "id": "eiLKAYj1rrKe"
      },
      "source": [
        "4. Pretesting model"
      ]
    },
    {
      "cell_type": "code",
      "metadata": {
        "colab_type": "code",
        "id": "JS5YXWV5rrKe",
        "colab": {}
      },
      "source": [
        "### sort batch function to be able to use with pad_packed_sequence\n",
        "def sort_batch(X, y, lengths):\n",
        "    lengths, indx = lengths.sort(dim=0, descending=True)\n",
        "    X = X[indx]\n",
        "    y = y[indx]\n",
        "    return X.transpose(0,1), y, lengths # transpose (batch x seq) to (seq x batch)"
      ],
      "execution_count": 0,
      "outputs": []
    },
    {
      "cell_type": "code",
      "metadata": {
        "colab_type": "code",
        "id": "NNVQdV0ArrKg",
        "outputId": "e501339e-7a64-44db-d5b8-e55b5bd702a3",
        "colab": {
          "base_uri": "https://localhost:8080/",
          "height": 51
        }
      },
      "source": [
        "use_cuda = True if torch.cuda.is_available() else False\n",
        "device = torch.device(\"cuda\" if use_cuda else \"cpu\")\n",
        "\n",
        "model = EmoGRU(vocab_size=num_words, embedding_dim=EMBEDDING_DIM, hidden_units=HIDDEN_DIM, batch_sz=BATCH_SIZE, output_size=OUTPUT_DIM)\n",
        "# Load Glove parameters \n",
        "model.embedding.weight.data.copy_(torch.tensor(embedding_matrix))\n",
        "\n",
        "model.to(device)\n",
        "\n",
        "# obtain one sample from the data iterator\n",
        "it = iter(train_dataloader)\n",
        "x, y, x_len = next(it)\n",
        "\n",
        "# sort the batch first to be able to use with pac_pack sequence\n",
        "xs, ys, lens = sort_batch(x, y, x_len)\n",
        "\n",
        "print(\"Input size: \", xs.size())\n",
        "\n",
        "output, _ = model(xs.to(device), lens, device)\n",
        "print(output.size())"
      ],
      "execution_count": 0,
      "outputs": [
        {
          "output_type": "stream",
          "text": [
            "Input size:  torch.Size([64, 32])\n",
            "torch.Size([32, 2])\n"
          ],
          "name": "stdout"
        }
      ]
    },
    {
      "cell_type": "markdown",
      "metadata": {
        "colab_type": "text",
        "id": "QLjn8GFPrrKx"
      },
      "source": [
        "5. Training the model"
      ]
    },
    {
      "cell_type": "markdown",
      "metadata": {
        "colab_type": "text",
        "id": "-udzv76MrrKx"
      },
      "source": [
        "5.1 Model"
      ]
    },
    {
      "cell_type": "code",
      "metadata": {
        "colab_type": "code",
        "outputId": "30893577-e9c0-4f22-d685-d7027cdb3c6a",
        "id": "KkPEOD4SrrKy",
        "colab": {
          "base_uri": "https://localhost:8080/",
          "height": 119
        }
      },
      "source": [
        "### Enabling cuda\n",
        "use_cuda = True if torch.cuda.is_available() else False\n",
        "device = torch.device(\"cuda\" if use_cuda else \"cpu\")\n",
        "\n",
        "model = EmoGRU(vocab_size=num_words, embedding_dim=EMBEDDING_DIM, hidden_units=HIDDEN_DIM, batch_sz=BATCH_SIZE, output_size=OUTPUT_DIM)\n",
        "# Load Glove parameters \n",
        "model.embedding.weight.data.copy_(torch.tensor(embedding_matrix))\n",
        "#model.embedding.weight.requires_grad = False\n",
        "model.to(device)"
      ],
      "execution_count": 0,
      "outputs": [
        {
          "output_type": "execute_result",
          "data": {
            "text/plain": [
              "EmoGRU(\n",
              "  (embedding): Embedding(2000, 100)\n",
              "  (dropout): Dropout(p=0.5, inplace=False)\n",
              "  (gru): GRU(100, 1024)\n",
              "  (fc): Linear(in_features=1024, out_features=19, bias=True)\n",
              ")"
            ]
          },
          "metadata": {
            "tags": []
          },
          "execution_count": 23
        }
      ]
    },
    {
      "cell_type": "markdown",
      "metadata": {
        "colab_type": "text",
        "id": "GW3T_Eq1rrK0"
      },
      "source": [
        "5.2 Optimizer"
      ]
    },
    {
      "cell_type": "code",
      "metadata": {
        "colab_type": "code",
        "id": "3dwZBHOyrrK0",
        "colab": {}
      },
      "source": [
        "### loss criterion and optimizer for training\n",
        "criterion = nn.CrossEntropyLoss() # the same as log_softmax + NLLLoss\n",
        "optimizer = torch.optim.Adam(model.parameters())   #Default:  lr=0.001, betas=(0.9, 0.999), eps=1e-08, weight_decay=0, Other options: lr = 2e-5\n",
        "#optimizer = torch.optim.Adam(param for param in model.parameters() if param.requires_grad == True)\n",
        "\n",
        "def loss_function(y, prediction):\n",
        "    \"\"\" CrossEntropyLoss expects outputs and class indices as target \"\"\"\n",
        "    # convert from one-hot encoding to class indices\n",
        "    target = torch.max(y, 1)[1]\n",
        "    loss = criterion(prediction, target) \n",
        "    return loss   #TODO: refer the parameter of these functions as the same\n",
        "    \n",
        "def accuracy(target, logit):\n",
        "    ''' Obtain accuracy for training round '''\n",
        "    target = torch.max(target, 1)[1] # convert from one-hot encoding to class indices\n",
        "    corrects = (torch.max(logit, 1)[1].data == target).sum()\n",
        "    accuracy = 100.0 * corrects / len(logit)\n",
        "    return accuracy\n",
        "\n",
        "\n",
        "# Here is code for freezing the embedding layer weights\n",
        "# 1.model.embeddings.weight.requires_grad = False\n",
        "# 2. optimizer = torch.optim.Adam(param for param in model.parameters() if param.requires_grad == True)"
      ],
      "execution_count": 0,
      "outputs": []
    },
    {
      "cell_type": "markdown",
      "metadata": {
        "colab_type": "text",
        "id": "gdyz6ai1rrK2"
      },
      "source": [
        "5.3 Training loop"
      ]
    },
    {
      "cell_type": "code",
      "metadata": {
        "colab_type": "code",
        "id": "ocbrpRhorrK2",
        "outputId": "2cf8ed9a-d1a2-479e-8211-dbe4178f991d",
        "colab": {
          "base_uri": "https://localhost:8080/",
          "height": 1000
        }
      },
      "source": [
        "EPOCHS = 20\n",
        "\n",
        "for epoch in range(EPOCHS):\n",
        "    start = time.time()\n",
        "    \n",
        "    ### Initialize hidden state\n",
        "    # TODO: do initialization here.\n",
        "    total_loss = 0\n",
        "    train_accuracy, val_accuracy = 0, 0\n",
        "    \n",
        "    ### Training\n",
        "    for (batch, (inp, targ, lens)) in enumerate(train_dataloader):\n",
        "        loss = 0\n",
        "        predictions, _ = model(inp.permute(1 ,0).to(device), lens, device) # TODO:don't need _   \n",
        "              \n",
        "        loss += loss_function(targ.to(device), predictions)\n",
        "        batch_loss = (loss / int(targ.shape[1]))        \n",
        "        total_loss += batch_loss\n",
        "        \n",
        "        optimizer.zero_grad()\n",
        "        loss.backward()\n",
        "        optimizer.step()\n",
        "        \n",
        "        batch_accuracy = accuracy(targ.to(device), predictions)\n",
        "        train_accuracy += batch_accuracy\n",
        "        \n",
        "        if batch % 100 == 0:\n",
        "            print('Epoch {} Batch {} Val. Loss {:.4f}'.format(epoch + 1,\n",
        "                                                         batch,\n",
        "                                                         batch_loss.cpu().detach().numpy()))\n",
        "            \n",
        "    ### Validating\n",
        "    for (batch, (inp, targ, lens)) in enumerate(validation_dataloader):        \n",
        "        predictions,_ = model(inp.permute(1, 0).to(device), lens, device)        \n",
        "        batch_accuracy = accuracy(targ.to(device), predictions)\n",
        "        val_accuracy += batch_accuracy\n",
        "    \n",
        "    print('Epoch {} Loss {:.4f} -- Train Acc. {:.4f} -- Val Acc. {:.4f}'.format(epoch + 1, \n",
        "                                                             total_loss / TRAIN_N_BATCH, \n",
        "                                                             train_accuracy / TRAIN_N_BATCH,\n",
        "                                                             val_accuracy / VAL_N_BATCH))\n",
        "    print('Time taken for 1 epoch {} sec\\n'.format(time.time() - start))"
      ],
      "execution_count": 0,
      "outputs": [
        {
          "output_type": "stream",
          "text": [
            "Epoch 1 Batch 0 Val. Loss 0.1547\n",
            "Epoch 1 Batch 100 Val. Loss 0.1228\n",
            "Epoch 1 Batch 200 Val. Loss 0.1268\n",
            "Epoch 1 Batch 300 Val. Loss 0.1005\n",
            "Epoch 1 Batch 400 Val. Loss 0.1059\n",
            "Epoch 1 Batch 500 Val. Loss 0.0877\n",
            "Epoch 1 Batch 600 Val. Loss 0.0946\n",
            "Epoch 1 Batch 700 Val. Loss 0.0840\n",
            "Epoch 1 Batch 800 Val. Loss 0.0784\n",
            "Epoch 1 Batch 900 Val. Loss 0.0820\n",
            "Epoch 1 Batch 1000 Val. Loss 0.0917\n",
            "Epoch 1 Batch 1100 Val. Loss 0.0917\n",
            "Epoch 1 Batch 1200 Val. Loss 0.0798\n",
            "Epoch 1 Batch 1300 Val. Loss 0.0962\n",
            "Epoch 1 Batch 1400 Val. Loss 0.0652\n",
            "Epoch 1 Batch 1500 Val. Loss 0.0892\n",
            "Epoch 1 Batch 1600 Val. Loss 0.0821\n",
            "Epoch 1 Batch 1700 Val. Loss 0.0986\n",
            "Epoch 1 Batch 1800 Val. Loss 0.1053\n",
            "Epoch 1 Batch 1900 Val. Loss 0.0900\n",
            "Epoch 1 Batch 2000 Val. Loss 0.0790\n",
            "Epoch 1 Batch 2100 Val. Loss 0.0647\n",
            "Epoch 1 Batch 2200 Val. Loss 0.0774\n",
            "Epoch 1 Batch 2300 Val. Loss 0.0733\n",
            "Epoch 1 Batch 2400 Val. Loss 0.0738\n",
            "Epoch 1 Batch 2500 Val. Loss 0.0902\n",
            "Epoch 1 Batch 2600 Val. Loss 0.0706\n",
            "Epoch 1 Batch 2700 Val. Loss 0.0996\n",
            "Epoch 1 Batch 2800 Val. Loss 0.0857\n",
            "Epoch 1 Loss 0.0881 -- Train Acc. 44.3554 -- Val Acc. 54.5853\n",
            "Time taken for 1 epoch 92.61121463775635 sec\n",
            "\n",
            "Epoch 2 Batch 0 Val. Loss 0.0846\n",
            "Epoch 2 Batch 100 Val. Loss 0.0555\n",
            "Epoch 2 Batch 200 Val. Loss 0.0710\n",
            "Epoch 2 Batch 300 Val. Loss 0.0659\n",
            "Epoch 2 Batch 400 Val. Loss 0.0735\n",
            "Epoch 2 Batch 500 Val. Loss 0.0873\n",
            "Epoch 2 Batch 600 Val. Loss 0.0742\n",
            "Epoch 2 Batch 700 Val. Loss 0.0562\n",
            "Epoch 2 Batch 800 Val. Loss 0.0611\n",
            "Epoch 2 Batch 900 Val. Loss 0.0897\n",
            "Epoch 2 Batch 1000 Val. Loss 0.0741\n",
            "Epoch 2 Batch 1100 Val. Loss 0.0620\n",
            "Epoch 2 Batch 1200 Val. Loss 0.0716\n",
            "Epoch 2 Batch 1300 Val. Loss 0.0578\n",
            "Epoch 2 Batch 1400 Val. Loss 0.0902\n",
            "Epoch 2 Batch 1500 Val. Loss 0.0474\n",
            "Epoch 2 Batch 1600 Val. Loss 0.0642\n",
            "Epoch 2 Batch 1700 Val. Loss 0.0571\n",
            "Epoch 2 Batch 1800 Val. Loss 0.0501\n",
            "Epoch 2 Batch 1900 Val. Loss 0.0599\n",
            "Epoch 2 Batch 2000 Val. Loss 0.0647\n",
            "Epoch 2 Batch 2100 Val. Loss 0.0697\n",
            "Epoch 2 Batch 2200 Val. Loss 0.0666\n",
            "Epoch 2 Batch 2300 Val. Loss 0.0792\n",
            "Epoch 2 Batch 2400 Val. Loss 0.0694\n",
            "Epoch 2 Batch 2500 Val. Loss 0.0590\n",
            "Epoch 2 Batch 2600 Val. Loss 0.0525\n",
            "Epoch 2 Batch 2700 Val. Loss 0.0506\n",
            "Epoch 2 Batch 2800 Val. Loss 0.0429\n",
            "Epoch 2 Loss 0.0683 -- Train Acc. 58.2038 -- Val Acc. 60.2738\n",
            "Time taken for 1 epoch 92.1572048664093 sec\n",
            "\n",
            "Epoch 3 Batch 0 Val. Loss 0.0615\n",
            "Epoch 3 Batch 100 Val. Loss 0.0530\n",
            "Epoch 3 Batch 200 Val. Loss 0.0419\n",
            "Epoch 3 Batch 300 Val. Loss 0.0831\n",
            "Epoch 3 Batch 400 Val. Loss 0.0730\n",
            "Epoch 3 Batch 500 Val. Loss 0.0650\n",
            "Epoch 3 Batch 600 Val. Loss 0.0523\n",
            "Epoch 3 Batch 700 Val. Loss 0.0945\n",
            "Epoch 3 Batch 800 Val. Loss 0.0306\n",
            "Epoch 3 Batch 900 Val. Loss 0.0710\n",
            "Epoch 3 Batch 1000 Val. Loss 0.0501\n",
            "Epoch 3 Batch 1100 Val. Loss 0.0745\n",
            "Epoch 3 Batch 1200 Val. Loss 0.0532\n",
            "Epoch 3 Batch 1300 Val. Loss 0.0508\n",
            "Epoch 3 Batch 1400 Val. Loss 0.0507\n",
            "Epoch 3 Batch 1500 Val. Loss 0.0486\n",
            "Epoch 3 Batch 1600 Val. Loss 0.0446\n",
            "Epoch 3 Batch 1700 Val. Loss 0.0723\n",
            "Epoch 3 Batch 1800 Val. Loss 0.0535\n",
            "Epoch 3 Batch 1900 Val. Loss 0.0439\n",
            "Epoch 3 Batch 2000 Val. Loss 0.0563\n",
            "Epoch 3 Batch 2100 Val. Loss 0.0632\n",
            "Epoch 3 Batch 2200 Val. Loss 0.0694\n",
            "Epoch 3 Batch 2300 Val. Loss 0.0614\n",
            "Epoch 3 Batch 2400 Val. Loss 0.0577\n",
            "Epoch 3 Batch 2500 Val. Loss 0.0444\n",
            "Epoch 3 Batch 2600 Val. Loss 0.0703\n",
            "Epoch 3 Batch 2700 Val. Loss 0.0517\n",
            "Epoch 3 Batch 2800 Val. Loss 0.0470\n",
            "Epoch 3 Loss 0.0619 -- Train Acc. 61.5479 -- Val Acc. 62.3386\n",
            "Time taken for 1 epoch 92.36432695388794 sec\n",
            "\n",
            "Epoch 4 Batch 0 Val. Loss 0.0766\n",
            "Epoch 4 Batch 100 Val. Loss 0.0583\n",
            "Epoch 4 Batch 200 Val. Loss 0.0436\n",
            "Epoch 4 Batch 300 Val. Loss 0.0344\n",
            "Epoch 4 Batch 400 Val. Loss 0.0803\n",
            "Epoch 4 Batch 500 Val. Loss 0.0681\n",
            "Epoch 4 Batch 600 Val. Loss 0.0584\n",
            "Epoch 4 Batch 700 Val. Loss 0.0634\n",
            "Epoch 4 Batch 800 Val. Loss 0.0385\n",
            "Epoch 4 Batch 900 Val. Loss 0.0485\n",
            "Epoch 4 Batch 1000 Val. Loss 0.0473\n",
            "Epoch 4 Batch 1100 Val. Loss 0.0636\n",
            "Epoch 4 Batch 1200 Val. Loss 0.0651\n",
            "Epoch 4 Batch 1300 Val. Loss 0.0404\n",
            "Epoch 4 Batch 1400 Val. Loss 0.0669\n",
            "Epoch 4 Batch 1500 Val. Loss 0.0541\n",
            "Epoch 4 Batch 1600 Val. Loss 0.0571\n",
            "Epoch 4 Batch 1700 Val. Loss 0.0420\n",
            "Epoch 4 Batch 1800 Val. Loss 0.0651\n",
            "Epoch 4 Batch 1900 Val. Loss 0.0562\n",
            "Epoch 4 Batch 2000 Val. Loss 0.0658\n",
            "Epoch 4 Batch 2100 Val. Loss 0.0539\n",
            "Epoch 4 Batch 2200 Val. Loss 0.0726\n",
            "Epoch 4 Batch 2300 Val. Loss 0.0442\n",
            "Epoch 4 Batch 2400 Val. Loss 0.0612\n",
            "Epoch 4 Batch 2500 Val. Loss 0.0599\n",
            "Epoch 4 Batch 2600 Val. Loss 0.0554\n",
            "Epoch 4 Batch 2700 Val. Loss 0.0587\n",
            "Epoch 4 Batch 2800 Val. Loss 0.0564\n",
            "Epoch 4 Loss 0.0576 -- Train Acc. 63.5545 -- Val Acc. 63.1892\n",
            "Time taken for 1 epoch 92.16502118110657 sec\n",
            "\n",
            "Epoch 5 Batch 0 Val. Loss 0.0609\n",
            "Epoch 5 Batch 100 Val. Loss 0.0426\n",
            "Epoch 5 Batch 200 Val. Loss 0.0471\n",
            "Epoch 5 Batch 300 Val. Loss 0.0613\n",
            "Epoch 5 Batch 400 Val. Loss 0.0643\n",
            "Epoch 5 Batch 500 Val. Loss 0.0655\n",
            "Epoch 5 Batch 600 Val. Loss 0.0281\n",
            "Epoch 5 Batch 700 Val. Loss 0.0527\n",
            "Epoch 5 Batch 800 Val. Loss 0.0583\n",
            "Epoch 5 Batch 900 Val. Loss 0.0365\n",
            "Epoch 5 Batch 1000 Val. Loss 0.0442\n",
            "Epoch 5 Batch 1100 Val. Loss 0.0694\n",
            "Epoch 5 Batch 1200 Val. Loss 0.0454\n",
            "Epoch 5 Batch 1300 Val. Loss 0.0488\n",
            "Epoch 5 Batch 1400 Val. Loss 0.0704\n",
            "Epoch 5 Batch 1500 Val. Loss 0.0553\n",
            "Epoch 5 Batch 1600 Val. Loss 0.0740\n",
            "Epoch 5 Batch 1700 Val. Loss 0.0528\n",
            "Epoch 5 Batch 1800 Val. Loss 0.0637\n",
            "Epoch 5 Batch 1900 Val. Loss 0.0518\n",
            "Epoch 5 Batch 2000 Val. Loss 0.0689\n",
            "Epoch 5 Batch 2100 Val. Loss 0.0539\n",
            "Epoch 5 Batch 2200 Val. Loss 0.0663\n",
            "Epoch 5 Batch 2300 Val. Loss 0.0546\n",
            "Epoch 5 Batch 2400 Val. Loss 0.0480\n",
            "Epoch 5 Batch 2500 Val. Loss 0.0445\n",
            "Epoch 5 Batch 2600 Val. Loss 0.0495\n",
            "Epoch 5 Batch 2700 Val. Loss 0.0679\n",
            "Epoch 5 Batch 2800 Val. Loss 0.0661\n",
            "Epoch 5 Loss 0.0539 -- Train Acc. 65.5733 -- Val Acc. 64.5298\n",
            "Time taken for 1 epoch 92.19970679283142 sec\n",
            "\n",
            "Epoch 6 Batch 0 Val. Loss 0.0447\n",
            "Epoch 6 Batch 100 Val. Loss 0.0567\n",
            "Epoch 6 Batch 200 Val. Loss 0.0374\n",
            "Epoch 6 Batch 300 Val. Loss 0.0410\n",
            "Epoch 6 Batch 400 Val. Loss 0.0483\n",
            "Epoch 6 Batch 500 Val. Loss 0.0473\n",
            "Epoch 6 Batch 600 Val. Loss 0.0528\n",
            "Epoch 6 Batch 700 Val. Loss 0.0448\n",
            "Epoch 6 Batch 800 Val. Loss 0.0507\n",
            "Epoch 6 Batch 900 Val. Loss 0.0625\n",
            "Epoch 6 Batch 1000 Val. Loss 0.0404\n",
            "Epoch 6 Batch 1100 Val. Loss 0.0307\n",
            "Epoch 6 Batch 1200 Val. Loss 0.0524\n",
            "Epoch 6 Batch 1300 Val. Loss 0.0561\n",
            "Epoch 6 Batch 1400 Val. Loss 0.0417\n",
            "Epoch 6 Batch 1500 Val. Loss 0.0623\n",
            "Epoch 6 Batch 1600 Val. Loss 0.0387\n",
            "Epoch 6 Batch 1700 Val. Loss 0.0502\n",
            "Epoch 6 Batch 1800 Val. Loss 0.0559\n",
            "Epoch 6 Batch 1900 Val. Loss 0.0438\n",
            "Epoch 6 Batch 2000 Val. Loss 0.0464\n",
            "Epoch 6 Batch 2100 Val. Loss 0.0470\n",
            "Epoch 6 Batch 2200 Val. Loss 0.0691\n",
            "Epoch 6 Batch 2300 Val. Loss 0.0370\n",
            "Epoch 6 Batch 2400 Val. Loss 0.0502\n",
            "Epoch 6 Batch 2500 Val. Loss 0.0497\n",
            "Epoch 6 Batch 2600 Val. Loss 0.0416\n",
            "Epoch 6 Batch 2700 Val. Loss 0.0840\n",
            "Epoch 6 Batch 2800 Val. Loss 0.0629\n",
            "Epoch 6 Loss 0.0505 -- Train Acc. 67.6008 -- Val Acc. 64.3710\n",
            "Time taken for 1 epoch 92.48236799240112 sec\n",
            "\n",
            "Epoch 7 Batch 0 Val. Loss 0.0510\n",
            "Epoch 7 Batch 100 Val. Loss 0.0271\n",
            "Epoch 7 Batch 200 Val. Loss 0.0305\n",
            "Epoch 7 Batch 300 Val. Loss 0.0407\n",
            "Epoch 7 Batch 400 Val. Loss 0.0361\n",
            "Epoch 7 Batch 500 Val. Loss 0.0305\n",
            "Epoch 7 Batch 600 Val. Loss 0.0228\n",
            "Epoch 7 Batch 700 Val. Loss 0.0554\n",
            "Epoch 7 Batch 800 Val. Loss 0.0292\n",
            "Epoch 7 Batch 900 Val. Loss 0.0726\n",
            "Epoch 7 Batch 1000 Val. Loss 0.0547\n",
            "Epoch 7 Batch 1100 Val. Loss 0.0471\n",
            "Epoch 7 Batch 1200 Val. Loss 0.0381\n",
            "Epoch 7 Batch 1300 Val. Loss 0.0411\n",
            "Epoch 7 Batch 1400 Val. Loss 0.0374\n",
            "Epoch 7 Batch 1500 Val. Loss 0.0312\n",
            "Epoch 7 Batch 1600 Val. Loss 0.0422\n",
            "Epoch 7 Batch 1700 Val. Loss 0.0571\n",
            "Epoch 7 Batch 1800 Val. Loss 0.0471\n",
            "Epoch 7 Batch 1900 Val. Loss 0.0595\n",
            "Epoch 7 Batch 2000 Val. Loss 0.0430\n",
            "Epoch 7 Batch 2100 Val. Loss 0.0455\n",
            "Epoch 7 Batch 2200 Val. Loss 0.0302\n",
            "Epoch 7 Batch 2300 Val. Loss 0.0319\n",
            "Epoch 7 Batch 2400 Val. Loss 0.0707\n",
            "Epoch 7 Batch 2500 Val. Loss 0.0431\n",
            "Epoch 7 Batch 2600 Val. Loss 0.0433\n",
            "Epoch 7 Batch 2700 Val. Loss 0.0303\n",
            "Epoch 7 Batch 2800 Val. Loss 0.0592\n",
            "Epoch 7 Loss 0.0470 -- Train Acc. 69.5018 -- Val Acc. 64.5212\n",
            "Time taken for 1 epoch 92.27045965194702 sec\n",
            "\n",
            "Epoch 8 Batch 0 Val. Loss 0.0276\n",
            "Epoch 8 Batch 100 Val. Loss 0.0480\n",
            "Epoch 8 Batch 200 Val. Loss 0.0305\n",
            "Epoch 8 Batch 300 Val. Loss 0.0348\n",
            "Epoch 8 Batch 400 Val. Loss 0.0501\n",
            "Epoch 8 Batch 500 Val. Loss 0.0554\n",
            "Epoch 8 Batch 600 Val. Loss 0.0332\n",
            "Epoch 8 Batch 700 Val. Loss 0.0377\n",
            "Epoch 8 Batch 800 Val. Loss 0.0353\n",
            "Epoch 8 Batch 900 Val. Loss 0.0410\n",
            "Epoch 8 Batch 1000 Val. Loss 0.0647\n",
            "Epoch 8 Batch 1100 Val. Loss 0.0359\n",
            "Epoch 8 Batch 1200 Val. Loss 0.0485\n",
            "Epoch 8 Batch 1300 Val. Loss 0.0469\n",
            "Epoch 8 Batch 1400 Val. Loss 0.0612\n",
            "Epoch 8 Batch 1500 Val. Loss 0.0454\n",
            "Epoch 8 Batch 1600 Val. Loss 0.0430\n",
            "Epoch 8 Batch 1700 Val. Loss 0.0417\n",
            "Epoch 8 Batch 1800 Val. Loss 0.0523\n",
            "Epoch 8 Batch 1900 Val. Loss 0.0421\n",
            "Epoch 8 Batch 2000 Val. Loss 0.0536\n",
            "Epoch 8 Batch 2100 Val. Loss 0.0307\n",
            "Epoch 8 Batch 2200 Val. Loss 0.0367\n",
            "Epoch 8 Batch 2300 Val. Loss 0.0525\n",
            "Epoch 8 Batch 2400 Val. Loss 0.0363\n",
            "Epoch 8 Batch 2500 Val. Loss 0.0392\n",
            "Epoch 8 Batch 2600 Val. Loss 0.0287\n",
            "Epoch 8 Batch 2700 Val. Loss 0.0339\n",
            "Epoch 8 Batch 2800 Val. Loss 0.0517\n",
            "Epoch 8 Loss 0.0429 -- Train Acc. 72.1337 -- Val Acc. 64.7692\n",
            "Time taken for 1 epoch 92.31000113487244 sec\n",
            "\n",
            "Epoch 9 Batch 0 Val. Loss 0.0412\n",
            "Epoch 9 Batch 100 Val. Loss 0.0210\n",
            "Epoch 9 Batch 200 Val. Loss 0.0323\n",
            "Epoch 9 Batch 300 Val. Loss 0.0479\n",
            "Epoch 9 Batch 400 Val. Loss 0.0558\n",
            "Epoch 9 Batch 500 Val. Loss 0.0236\n",
            "Epoch 9 Batch 600 Val. Loss 0.0357\n",
            "Epoch 9 Batch 700 Val. Loss 0.0434\n",
            "Epoch 9 Batch 800 Val. Loss 0.0371\n",
            "Epoch 9 Batch 900 Val. Loss 0.0461\n",
            "Epoch 9 Batch 1000 Val. Loss 0.0233\n",
            "Epoch 9 Batch 1100 Val. Loss 0.0299\n",
            "Epoch 9 Batch 1200 Val. Loss 0.0376\n",
            "Epoch 9 Batch 1300 Val. Loss 0.0239\n",
            "Epoch 9 Batch 1400 Val. Loss 0.0321\n",
            "Epoch 9 Batch 1500 Val. Loss 0.0573\n",
            "Epoch 9 Batch 1600 Val. Loss 0.0514\n",
            "Epoch 9 Batch 1700 Val. Loss 0.0365\n",
            "Epoch 9 Batch 1800 Val. Loss 0.0315\n",
            "Epoch 9 Batch 1900 Val. Loss 0.0359\n",
            "Epoch 9 Batch 2000 Val. Loss 0.0295\n",
            "Epoch 9 Batch 2100 Val. Loss 0.0596\n",
            "Epoch 9 Batch 2200 Val. Loss 0.0361\n",
            "Epoch 9 Batch 2300 Val. Loss 0.0484\n",
            "Epoch 9 Batch 2400 Val. Loss 0.0433\n",
            "Epoch 9 Batch 2500 Val. Loss 0.0451\n",
            "Epoch 9 Batch 2600 Val. Loss 0.0472\n",
            "Epoch 9 Batch 2700 Val. Loss 0.0447\n",
            "Epoch 9 Batch 2800 Val. Loss 0.0412\n",
            "Epoch 9 Loss 0.0386 -- Train Acc. 74.7821 -- Val Acc. 63.8267\n",
            "Time taken for 1 epoch 92.4165358543396 sec\n",
            "\n",
            "Epoch 10 Batch 0 Val. Loss 0.0150\n",
            "Epoch 10 Batch 100 Val. Loss 0.0271\n",
            "Epoch 10 Batch 200 Val. Loss 0.0396\n",
            "Epoch 10 Batch 300 Val. Loss 0.0247\n",
            "Epoch 10 Batch 400 Val. Loss 0.0136\n",
            "Epoch 10 Batch 500 Val. Loss 0.0217\n",
            "Epoch 10 Batch 600 Val. Loss 0.0238\n",
            "Epoch 10 Batch 700 Val. Loss 0.0324\n",
            "Epoch 10 Batch 800 Val. Loss 0.0190\n",
            "Epoch 10 Batch 900 Val. Loss 0.0430\n",
            "Epoch 10 Batch 1000 Val. Loss 0.0260\n",
            "Epoch 10 Batch 1100 Val. Loss 0.0198\n",
            "Epoch 10 Batch 1200 Val. Loss 0.0410\n",
            "Epoch 10 Batch 1300 Val. Loss 0.0347\n",
            "Epoch 10 Batch 1400 Val. Loss 0.0535\n",
            "Epoch 10 Batch 1500 Val. Loss 0.0356\n",
            "Epoch 10 Batch 1600 Val. Loss 0.0173\n",
            "Epoch 10 Batch 1700 Val. Loss 0.0250\n",
            "Epoch 10 Batch 1800 Val. Loss 0.0355\n",
            "Epoch 10 Batch 1900 Val. Loss 0.0415\n",
            "Epoch 10 Batch 2000 Val. Loss 0.0219\n",
            "Epoch 10 Batch 2100 Val. Loss 0.0488\n",
            "Epoch 10 Batch 2200 Val. Loss 0.0457\n",
            "Epoch 10 Batch 2300 Val. Loss 0.0412\n",
            "Epoch 10 Batch 2400 Val. Loss 0.0347\n",
            "Epoch 10 Batch 2500 Val. Loss 0.0305\n",
            "Epoch 10 Batch 2600 Val. Loss 0.0185\n",
            "Epoch 10 Batch 2700 Val. Loss 0.0381\n",
            "Epoch 10 Batch 2800 Val. Loss 0.0383\n",
            "Epoch 10 Loss 0.0338 -- Train Acc. 77.8487 -- Val Acc. 63.2500\n",
            "Time taken for 1 epoch 92.49770712852478 sec\n",
            "\n",
            "Epoch 11 Batch 0 Val. Loss 0.0301\n",
            "Epoch 11 Batch 100 Val. Loss 0.0134\n",
            "Epoch 11 Batch 200 Val. Loss 0.0298\n",
            "Epoch 11 Batch 300 Val. Loss 0.0212\n",
            "Epoch 11 Batch 400 Val. Loss 0.0183\n",
            "Epoch 11 Batch 500 Val. Loss 0.0264\n",
            "Epoch 11 Batch 600 Val. Loss 0.0373\n",
            "Epoch 11 Batch 700 Val. Loss 0.0324\n",
            "Epoch 11 Batch 800 Val. Loss 0.0374\n",
            "Epoch 11 Batch 900 Val. Loss 0.0143\n",
            "Epoch 11 Batch 1000 Val. Loss 0.0194\n",
            "Epoch 11 Batch 1100 Val. Loss 0.0466\n",
            "Epoch 11 Batch 1200 Val. Loss 0.0242\n",
            "Epoch 11 Batch 1300 Val. Loss 0.0170\n",
            "Epoch 11 Batch 1400 Val. Loss 0.0427\n",
            "Epoch 11 Batch 1500 Val. Loss 0.0406\n",
            "Epoch 11 Batch 1600 Val. Loss 0.0188\n",
            "Epoch 11 Batch 1700 Val. Loss 0.0206\n",
            "Epoch 11 Batch 1800 Val. Loss 0.0235\n",
            "Epoch 11 Batch 1900 Val. Loss 0.0329\n",
            "Epoch 11 Batch 2000 Val. Loss 0.0203\n",
            "Epoch 11 Batch 2100 Val. Loss 0.0354\n",
            "Epoch 11 Batch 2200 Val. Loss 0.0287\n",
            "Epoch 11 Batch 2300 Val. Loss 0.0258\n",
            "Epoch 11 Batch 2400 Val. Loss 0.0318\n",
            "Epoch 11 Batch 2500 Val. Loss 0.0425\n",
            "Epoch 11 Batch 2600 Val. Loss 0.0179\n",
            "Epoch 11 Batch 2700 Val. Loss 0.0330\n",
            "Epoch 11 Batch 2800 Val. Loss 0.0245\n",
            "Epoch 11 Loss 0.0289 -- Train Acc. 80.9759 -- Val Acc. 63.2388\n",
            "Time taken for 1 epoch 92.1502194404602 sec\n",
            "\n",
            "Epoch 12 Batch 0 Val. Loss 0.0161\n",
            "Epoch 12 Batch 100 Val. Loss 0.0236\n",
            "Epoch 12 Batch 200 Val. Loss 0.0191\n",
            "Epoch 12 Batch 300 Val. Loss 0.0285\n",
            "Epoch 12 Batch 400 Val. Loss 0.0254\n",
            "Epoch 12 Batch 500 Val. Loss 0.0150\n",
            "Epoch 12 Batch 600 Val. Loss 0.0257\n",
            "Epoch 12 Batch 700 Val. Loss 0.0186\n",
            "Epoch 12 Batch 800 Val. Loss 0.0383\n",
            "Epoch 12 Batch 900 Val. Loss 0.0191\n",
            "Epoch 12 Batch 1000 Val. Loss 0.0208\n",
            "Epoch 12 Batch 1100 Val. Loss 0.0176\n",
            "Epoch 12 Batch 1200 Val. Loss 0.0412\n",
            "Epoch 12 Batch 1300 Val. Loss 0.0308\n",
            "Epoch 12 Batch 1400 Val. Loss 0.0292\n",
            "Epoch 12 Batch 1500 Val. Loss 0.0199\n",
            "Epoch 12 Batch 1600 Val. Loss 0.0368\n",
            "Epoch 12 Batch 1700 Val. Loss 0.0148\n",
            "Epoch 12 Batch 1800 Val. Loss 0.0310\n",
            "Epoch 12 Batch 1900 Val. Loss 0.0406\n",
            "Epoch 12 Batch 2000 Val. Loss 0.0277\n",
            "Epoch 12 Batch 2100 Val. Loss 0.0279\n",
            "Epoch 12 Batch 2200 Val. Loss 0.0463\n",
            "Epoch 12 Batch 2300 Val. Loss 0.0208\n",
            "Epoch 12 Batch 2400 Val. Loss 0.0238\n",
            "Epoch 12 Batch 2500 Val. Loss 0.0097\n",
            "Epoch 12 Batch 2600 Val. Loss 0.0324\n",
            "Epoch 12 Batch 2700 Val. Loss 0.0275\n",
            "Epoch 12 Batch 2800 Val. Loss 0.0313\n",
            "Epoch 12 Loss 0.0251 -- Train Acc. 83.3612 -- Val Acc. 62.7738\n",
            "Time taken for 1 epoch 92.27894854545593 sec\n",
            "\n",
            "Epoch 13 Batch 0 Val. Loss 0.0242\n",
            "Epoch 13 Batch 100 Val. Loss 0.0170\n",
            "Epoch 13 Batch 200 Val. Loss 0.0221\n",
            "Epoch 13 Batch 300 Val. Loss 0.0085\n",
            "Epoch 13 Batch 400 Val. Loss 0.0300\n",
            "Epoch 13 Batch 500 Val. Loss 0.0094\n",
            "Epoch 13 Batch 600 Val. Loss 0.0298\n",
            "Epoch 13 Batch 700 Val. Loss 0.0253\n",
            "Epoch 13 Batch 800 Val. Loss 0.0132\n",
            "Epoch 13 Batch 900 Val. Loss 0.0266\n",
            "Epoch 13 Batch 1000 Val. Loss 0.0177\n",
            "Epoch 13 Batch 1100 Val. Loss 0.0344\n",
            "Epoch 13 Batch 1200 Val. Loss 0.0245\n",
            "Epoch 13 Batch 1300 Val. Loss 0.0167\n",
            "Epoch 13 Batch 1400 Val. Loss 0.0164\n",
            "Epoch 13 Batch 1500 Val. Loss 0.0235\n",
            "Epoch 13 Batch 1600 Val. Loss 0.0145\n",
            "Epoch 13 Batch 1700 Val. Loss 0.0132\n",
            "Epoch 13 Batch 1800 Val. Loss 0.0296\n",
            "Epoch 13 Batch 1900 Val. Loss 0.0224\n",
            "Epoch 13 Batch 2000 Val. Loss 0.0242\n",
            "Epoch 13 Batch 2100 Val. Loss 0.0178\n",
            "Epoch 13 Batch 2200 Val. Loss 0.0249\n",
            "Epoch 13 Batch 2300 Val. Loss 0.0183\n",
            "Epoch 13 Batch 2400 Val. Loss 0.0172\n",
            "Epoch 13 Batch 2500 Val. Loss 0.0229\n",
            "Epoch 13 Batch 2600 Val. Loss 0.0305\n",
            "Epoch 13 Batch 2700 Val. Loss 0.0180\n",
            "Epoch 13 Batch 2800 Val. Loss 0.0294\n",
            "Epoch 13 Loss 0.0220 -- Train Acc. 85.5022 -- Val Acc. 62.8704\n",
            "Time taken for 1 epoch 92.59130454063416 sec\n",
            "\n",
            "Epoch 14 Batch 0 Val. Loss 0.0136\n",
            "Epoch 14 Batch 100 Val. Loss 0.0114\n",
            "Epoch 14 Batch 200 Val. Loss 0.0149\n",
            "Epoch 14 Batch 300 Val. Loss 0.0285\n",
            "Epoch 14 Batch 400 Val. Loss 0.0188\n",
            "Epoch 14 Batch 500 Val. Loss 0.0173\n",
            "Epoch 14 Batch 600 Val. Loss 0.0249\n",
            "Epoch 14 Batch 700 Val. Loss 0.0280\n",
            "Epoch 14 Batch 800 Val. Loss 0.0098\n",
            "Epoch 14 Batch 900 Val. Loss 0.0194\n",
            "Epoch 14 Batch 1000 Val. Loss 0.0232\n",
            "Epoch 14 Batch 1100 Val. Loss 0.0240\n",
            "Epoch 14 Batch 1200 Val. Loss 0.0185\n",
            "Epoch 14 Batch 1300 Val. Loss 0.0315\n",
            "Epoch 14 Batch 1400 Val. Loss 0.0344\n",
            "Epoch 14 Batch 1500 Val. Loss 0.0186\n",
            "Epoch 14 Batch 1600 Val. Loss 0.0169\n",
            "Epoch 14 Batch 1700 Val. Loss 0.0181\n",
            "Epoch 14 Batch 1800 Val. Loss 0.0479\n",
            "Epoch 14 Batch 1900 Val. Loss 0.0190\n",
            "Epoch 14 Batch 2000 Val. Loss 0.0176\n",
            "Epoch 14 Batch 2100 Val. Loss 0.0291\n",
            "Epoch 14 Batch 2200 Val. Loss 0.0215\n",
            "Epoch 14 Batch 2300 Val. Loss 0.0299\n",
            "Epoch 14 Batch 2400 Val. Loss 0.0304\n",
            "Epoch 14 Batch 2500 Val. Loss 0.0124\n",
            "Epoch 14 Batch 2600 Val. Loss 0.0215\n",
            "Epoch 14 Batch 2700 Val. Loss 0.0384\n",
            "Epoch 14 Batch 2800 Val. Loss 0.0367\n",
            "Epoch 14 Loss 0.0205 -- Train Acc. 86.5787 -- Val Acc. 62.0099\n",
            "Time taken for 1 epoch 92.32000851631165 sec\n",
            "\n",
            "Epoch 15 Batch 0 Val. Loss 0.0078\n",
            "Epoch 15 Batch 100 Val. Loss 0.0077\n",
            "Epoch 15 Batch 200 Val. Loss 0.0344\n",
            "Epoch 15 Batch 300 Val. Loss 0.0123\n",
            "Epoch 15 Batch 400 Val. Loss 0.0100\n",
            "Epoch 15 Batch 500 Val. Loss 0.0177\n",
            "Epoch 15 Batch 600 Val. Loss 0.0140\n",
            "Epoch 15 Batch 700 Val. Loss 0.0034\n",
            "Epoch 15 Batch 800 Val. Loss 0.0160\n",
            "Epoch 15 Batch 900 Val. Loss 0.0054\n",
            "Epoch 15 Batch 1000 Val. Loss 0.0241\n",
            "Epoch 15 Batch 1100 Val. Loss 0.0145\n",
            "Epoch 15 Batch 1200 Val. Loss 0.0189\n",
            "Epoch 15 Batch 1300 Val. Loss 0.0113\n",
            "Epoch 15 Batch 1400 Val. Loss 0.0207\n",
            "Epoch 15 Batch 1500 Val. Loss 0.0323\n",
            "Epoch 15 Batch 1600 Val. Loss 0.0245\n",
            "Epoch 15 Batch 1700 Val. Loss 0.0240\n",
            "Epoch 15 Batch 1800 Val. Loss 0.0152\n",
            "Epoch 15 Batch 1900 Val. Loss 0.0281\n",
            "Epoch 15 Batch 2000 Val. Loss 0.0266\n",
            "Epoch 15 Batch 2100 Val. Loss 0.0163\n",
            "Epoch 15 Batch 2200 Val. Loss 0.0246\n",
            "Epoch 15 Batch 2300 Val. Loss 0.0264\n",
            "Epoch 15 Batch 2400 Val. Loss 0.0221\n",
            "Epoch 15 Batch 2500 Val. Loss 0.0156\n",
            "Epoch 15 Batch 2600 Val. Loss 0.0179\n",
            "Epoch 15 Batch 2700 Val. Loss 0.0212\n",
            "Epoch 15 Batch 2800 Val. Loss 0.0117\n",
            "Epoch 15 Loss 0.0201 -- Train Acc. 86.9331 -- Val Acc. 61.9802\n",
            "Time taken for 1 epoch 92.33696174621582 sec\n",
            "\n",
            "Epoch 16 Batch 0 Val. Loss 0.0097\n",
            "Epoch 16 Batch 100 Val. Loss 0.0155\n",
            "Epoch 16 Batch 200 Val. Loss 0.0057\n",
            "Epoch 16 Batch 300 Val. Loss 0.0136\n",
            "Epoch 16 Batch 400 Val. Loss 0.0232\n",
            "Epoch 16 Batch 500 Val. Loss 0.0135\n",
            "Epoch 16 Batch 600 Val. Loss 0.0197\n",
            "Epoch 16 Batch 700 Val. Loss 0.0275\n",
            "Epoch 16 Batch 800 Val. Loss 0.0152\n",
            "Epoch 16 Batch 900 Val. Loss 0.0201\n",
            "Epoch 16 Batch 1000 Val. Loss 0.0169\n",
            "Epoch 16 Batch 1100 Val. Loss 0.0110\n",
            "Epoch 16 Batch 1200 Val. Loss 0.0157\n",
            "Epoch 16 Batch 1300 Val. Loss 0.0223\n",
            "Epoch 16 Batch 1400 Val. Loss 0.0089\n",
            "Epoch 16 Batch 1500 Val. Loss 0.0263\n",
            "Epoch 16 Batch 1600 Val. Loss 0.0179\n",
            "Epoch 16 Batch 1700 Val. Loss 0.0239\n",
            "Epoch 16 Batch 1800 Val. Loss 0.0323\n",
            "Epoch 16 Batch 1900 Val. Loss 0.0100\n",
            "Epoch 16 Batch 2000 Val. Loss 0.0184\n",
            "Epoch 16 Batch 2100 Val. Loss 0.0200\n",
            "Epoch 16 Batch 2200 Val. Loss 0.0298\n",
            "Epoch 16 Batch 2300 Val. Loss 0.0207\n",
            "Epoch 16 Batch 2400 Val. Loss 0.0139\n",
            "Epoch 16 Batch 2500 Val. Loss 0.0262\n",
            "Epoch 16 Batch 2600 Val. Loss 0.0186\n",
            "Epoch 16 Batch 2700 Val. Loss 0.0098\n",
            "Epoch 16 Batch 2800 Val. Loss 0.0271\n",
            "Epoch 16 Loss 0.0190 -- Train Acc. 87.5583 -- Val Acc. 62.2890\n",
            "Time taken for 1 epoch 92.43160676956177 sec\n",
            "\n",
            "Epoch 17 Batch 0 Val. Loss 0.0092\n",
            "Epoch 17 Batch 100 Val. Loss 0.0098\n",
            "Epoch 17 Batch 200 Val. Loss 0.0116\n",
            "Epoch 17 Batch 300 Val. Loss 0.0202\n",
            "Epoch 17 Batch 400 Val. Loss 0.0062\n",
            "Epoch 17 Batch 500 Val. Loss 0.0095\n",
            "Epoch 17 Batch 600 Val. Loss 0.0133\n",
            "Epoch 17 Batch 700 Val. Loss 0.0270\n",
            "Epoch 17 Batch 800 Val. Loss 0.0169\n",
            "Epoch 17 Batch 900 Val. Loss 0.0191\n",
            "Epoch 17 Batch 1000 Val. Loss 0.0390\n",
            "Epoch 17 Batch 1100 Val. Loss 0.0173\n",
            "Epoch 17 Batch 1200 Val. Loss 0.0253\n",
            "Epoch 17 Batch 1300 Val. Loss 0.0093\n",
            "Epoch 17 Batch 1400 Val. Loss 0.0230\n",
            "Epoch 17 Batch 1500 Val. Loss 0.0208\n",
            "Epoch 17 Batch 1600 Val. Loss 0.0189\n",
            "Epoch 17 Batch 1700 Val. Loss 0.0226\n",
            "Epoch 17 Batch 1800 Val. Loss 0.0127\n",
            "Epoch 17 Batch 1900 Val. Loss 0.0354\n",
            "Epoch 17 Batch 2000 Val. Loss 0.0300\n",
            "Epoch 17 Batch 2100 Val. Loss 0.0183\n",
            "Epoch 17 Batch 2200 Val. Loss 0.0317\n",
            "Epoch 17 Batch 2300 Val. Loss 0.0234\n",
            "Epoch 17 Batch 2400 Val. Loss 0.0144\n",
            "Epoch 17 Batch 2500 Val. Loss 0.0386\n",
            "Epoch 17 Batch 2600 Val. Loss 0.0322\n",
            "Epoch 17 Batch 2700 Val. Loss 0.0242\n",
            "Epoch 17 Batch 2800 Val. Loss 0.0337\n",
            "Epoch 17 Loss 0.0198 -- Train Acc. 87.1731 -- Val Acc. 61.5324\n",
            "Time taken for 1 epoch 92.54843640327454 sec\n",
            "\n",
            "Epoch 18 Batch 0 Val. Loss 0.0219\n",
            "Epoch 18 Batch 100 Val. Loss 0.0218\n",
            "Epoch 18 Batch 200 Val. Loss 0.0147\n",
            "Epoch 18 Batch 300 Val. Loss 0.0192\n",
            "Epoch 18 Batch 400 Val. Loss 0.0314\n",
            "Epoch 18 Batch 500 Val. Loss 0.0155\n",
            "Epoch 18 Batch 600 Val. Loss 0.0069\n",
            "Epoch 18 Batch 700 Val. Loss 0.0067\n",
            "Epoch 18 Batch 800 Val. Loss 0.0149\n",
            "Epoch 18 Batch 900 Val. Loss 0.0338\n",
            "Epoch 18 Batch 1000 Val. Loss 0.0211\n",
            "Epoch 18 Batch 1100 Val. Loss 0.0233\n",
            "Epoch 18 Batch 1200 Val. Loss 0.0184\n",
            "Epoch 18 Batch 1300 Val. Loss 0.0309\n",
            "Epoch 18 Batch 1400 Val. Loss 0.0156\n",
            "Epoch 18 Batch 1500 Val. Loss 0.0259\n",
            "Epoch 18 Batch 1600 Val. Loss 0.0220\n",
            "Epoch 18 Batch 1700 Val. Loss 0.0056\n",
            "Epoch 18 Batch 1800 Val. Loss 0.0264\n",
            "Epoch 18 Batch 1900 Val. Loss 0.0168\n",
            "Epoch 18 Batch 2000 Val. Loss 0.0273\n",
            "Epoch 18 Batch 2100 Val. Loss 0.0340\n",
            "Epoch 18 Batch 2200 Val. Loss 0.0301\n",
            "Epoch 18 Batch 2300 Val. Loss 0.0106\n",
            "Epoch 18 Batch 2400 Val. Loss 0.0310\n",
            "Epoch 18 Batch 2500 Val. Loss 0.0081\n",
            "Epoch 18 Batch 2600 Val. Loss 0.0247\n",
            "Epoch 18 Batch 2700 Val. Loss 0.0170\n",
            "Epoch 18 Batch 2800 Val. Loss 0.0287\n",
            "Epoch 18 Loss 0.0201 -- Train Acc. 86.9904 -- Val Acc. 61.3313\n",
            "Time taken for 1 epoch 92.25863647460938 sec\n",
            "\n",
            "Epoch 19 Batch 0 Val. Loss 0.0241\n",
            "Epoch 19 Batch 100 Val. Loss 0.0104\n",
            "Epoch 19 Batch 200 Val. Loss 0.0174\n",
            "Epoch 19 Batch 300 Val. Loss 0.0216\n",
            "Epoch 19 Batch 400 Val. Loss 0.0061\n",
            "Epoch 19 Batch 500 Val. Loss 0.0250\n",
            "Epoch 19 Batch 600 Val. Loss 0.0172\n",
            "Epoch 19 Batch 700 Val. Loss 0.0095\n",
            "Epoch 19 Batch 800 Val. Loss 0.0127\n",
            "Epoch 19 Batch 900 Val. Loss 0.0352\n",
            "Epoch 19 Batch 1000 Val. Loss 0.0335\n",
            "Epoch 19 Batch 1100 Val. Loss 0.0131\n",
            "Epoch 19 Batch 1200 Val. Loss 0.0203\n",
            "Epoch 19 Batch 1300 Val. Loss 0.0102\n",
            "Epoch 19 Batch 1400 Val. Loss 0.0094\n",
            "Epoch 19 Batch 1500 Val. Loss 0.0339\n",
            "Epoch 19 Batch 1600 Val. Loss 0.0267\n",
            "Epoch 19 Batch 1700 Val. Loss 0.0188\n",
            "Epoch 19 Batch 1800 Val. Loss 0.0255\n",
            "Epoch 19 Batch 1900 Val. Loss 0.0120\n",
            "Epoch 19 Batch 2000 Val. Loss 0.0296\n",
            "Epoch 19 Batch 2100 Val. Loss 0.0194\n",
            "Epoch 19 Batch 2200 Val. Loss 0.0191\n",
            "Epoch 19 Batch 2300 Val. Loss 0.0106\n",
            "Epoch 19 Batch 2400 Val. Loss 0.0199\n",
            "Epoch 19 Batch 2500 Val. Loss 0.0262\n",
            "Epoch 19 Batch 2600 Val. Loss 0.0172\n",
            "Epoch 19 Batch 2700 Val. Loss 0.0219\n",
            "Epoch 19 Batch 2800 Val. Loss 0.0150\n",
            "Epoch 19 Loss 0.0207 -- Train Acc. 86.6051 -- Val Acc. 61.6303\n",
            "Time taken for 1 epoch 92.39778304100037 sec\n",
            "\n",
            "Epoch 20 Batch 0 Val. Loss 0.0286\n",
            "Epoch 20 Batch 100 Val. Loss 0.0155\n",
            "Epoch 20 Batch 200 Val. Loss 0.0134\n",
            "Epoch 20 Batch 300 Val. Loss 0.0107\n",
            "Epoch 20 Batch 400 Val. Loss 0.0192\n",
            "Epoch 20 Batch 500 Val. Loss 0.0185\n",
            "Epoch 20 Batch 600 Val. Loss 0.0204\n",
            "Epoch 20 Batch 700 Val. Loss 0.0060\n",
            "Epoch 20 Batch 800 Val. Loss 0.0202\n",
            "Epoch 20 Batch 900 Val. Loss 0.0156\n",
            "Epoch 20 Batch 1000 Val. Loss 0.0254\n",
            "Epoch 20 Batch 1100 Val. Loss 0.0105\n",
            "Epoch 20 Batch 1200 Val. Loss 0.0181\n",
            "Epoch 20 Batch 1300 Val. Loss 0.0169\n",
            "Epoch 20 Batch 1400 Val. Loss 0.0272\n",
            "Epoch 20 Batch 1500 Val. Loss 0.0259\n",
            "Epoch 20 Batch 1600 Val. Loss 0.0221\n",
            "Epoch 20 Batch 1700 Val. Loss 0.0267\n",
            "Epoch 20 Batch 1800 Val. Loss 0.0158\n",
            "Epoch 20 Batch 1900 Val. Loss 0.0227\n",
            "Epoch 20 Batch 2000 Val. Loss 0.0151\n",
            "Epoch 20 Batch 2100 Val. Loss 0.0138\n",
            "Epoch 20 Batch 2200 Val. Loss 0.0138\n",
            "Epoch 20 Batch 2300 Val. Loss 0.0235\n",
            "Epoch 20 Batch 2400 Val. Loss 0.0364\n",
            "Epoch 20 Batch 2500 Val. Loss 0.0174\n",
            "Epoch 20 Batch 2600 Val. Loss 0.0307\n",
            "Epoch 20 Batch 2700 Val. Loss 0.0315\n",
            "Epoch 20 Batch 2800 Val. Loss 0.0200\n",
            "Epoch 20 Loss 0.0205 -- Train Acc. 86.6634 -- Val Acc. 62.1601\n",
            "Time taken for 1 epoch 92.80998635292053 sec\n",
            "\n"
          ],
          "name": "stdout"
        }
      ]
    },
    {
      "cell_type": "code",
      "metadata": {
        "id": "JXK2ANOLv3ml",
        "colab_type": "code",
        "colab": {}
      },
      "source": [
        "from google.colab import drive\n",
        "drive.mount('/content/drive')"
      ],
      "execution_count": 0,
      "outputs": []
    },
    {
      "cell_type": "code",
      "metadata": {
        "id": "UCwKSyGav_MH",
        "colab_type": "code",
        "colab": {}
      },
      "source": [
        ""
      ],
      "execution_count": 0,
      "outputs": []
    },
    {
      "cell_type": "markdown",
      "metadata": {
        "id": "usbQVFpsv_vy",
        "colab_type": "text"
      },
      "source": [
        ""
      ]
    },
    {
      "cell_type": "code",
      "metadata": {
        "id": "Tkr9T5OxXq2T",
        "colab_type": "code",
        "outputId": "445246ef-29a3-4bc9-b73a-c2c8670dea3b",
        "colab": {
          "base_uri": "https://localhost:8080/",
          "height": 34
        }
      },
      "source": [
        "device"
      ],
      "execution_count": 0,
      "outputs": [
        {
          "output_type": "execute_result",
          "data": {
            "text/plain": [
              "device(type='cpu')"
            ]
          },
          "metadata": {
            "tags": []
          },
          "execution_count": 80
        }
      ]
    },
    {
      "cell_type": "code",
      "metadata": {
        "id": "pQXlcvN45dBM",
        "colab_type": "code",
        "colab": {}
      },
      "source": [
        "time.time()"
      ],
      "execution_count": 0,
      "outputs": []
    },
    {
      "cell_type": "code",
      "metadata": {
        "id": "ZOAvE7XkMnMM",
        "colab_type": "code",
        "outputId": "d03562ec-1c12-4c75-f3a8-c95b62676f8d",
        "colab": {
          "base_uri": "https://localhost:8080/",
          "height": 164
        }
      },
      "source": [
        "len(lens)"
      ],
      "execution_count": 0,
      "outputs": [
        {
          "output_type": "error",
          "ename": "NameError",
          "evalue": "ignored",
          "traceback": [
            "\u001b[0;31m---------------------------------------------------------------------------\u001b[0m",
            "\u001b[0;31mNameError\u001b[0m                                 Traceback (most recent call last)",
            "\u001b[0;32m<ipython-input-1-692a44687fed>\u001b[0m in \u001b[0;36m<module>\u001b[0;34m()\u001b[0m\n\u001b[0;32m----> 1\u001b[0;31m \u001b[0mlen\u001b[0m\u001b[0;34m(\u001b[0m\u001b[0mlens\u001b[0m\u001b[0;34m)\u001b[0m\u001b[0;34m\u001b[0m\u001b[0;34m\u001b[0m\u001b[0m\n\u001b[0m",
            "\u001b[0;31mNameError\u001b[0m: name 'lens' is not defined"
          ]
        }
      ]
    },
    {
      "cell_type": "code",
      "metadata": {
        "colab_type": "code",
        "outputId": "b9cbace3-1a73-4a83-cbd9-aedf00265083",
        "id": "cvfswu2UrrK4",
        "colab": {
          "base_uri": "https://localhost:8080/",
          "height": 119
        }
      },
      "source": [
        "model.parameters"
      ],
      "execution_count": 0,
      "outputs": [
        {
          "output_type": "execute_result",
          "data": {
            "text/plain": [
              "<bound method Module.parameters of EmoGRU(\n",
              "  (embedding): Embedding(10001, 100)\n",
              "  (dropout): Dropout(p=0.5, inplace=False)\n",
              "  (gru): GRU(100, 1024)\n",
              "  (fc): Linear(in_features=1024, out_features=2, bias=True)\n",
              ")>"
            ]
          },
          "metadata": {
            "tags": []
          },
          "execution_count": 192
        }
      ]
    },
    {
      "cell_type": "markdown",
      "metadata": {
        "colab_type": "text",
        "id": "izQpzaoTrrK5"
      },
      "source": [
        "Evaluation"
      ]
    },
    {
      "cell_type": "code",
      "metadata": {
        "id": "yAQmR47-G1CB",
        "colab_type": "code",
        "outputId": "a46cbfb7-c065-48e5-d57d-335c75eecef9",
        "colab": {
          "base_uri": "https://localhost:8080/",
          "height": 34
        }
      },
      "source": [
        "len(test_dataloader)"
      ],
      "execution_count": 0,
      "outputs": [
        {
          "output_type": "execute_result",
          "data": {
            "text/plain": [
              "63"
            ]
          },
          "metadata": {
            "tags": []
          },
          "execution_count": 31
        }
      ]
    },
    {
      "cell_type": "code",
      "metadata": {
        "colab_type": "code",
        "id": "WNl3xUShrrK5",
        "outputId": "058ef27f-8f1f-4ea8-f4a0-d5cf31968bb5",
        "colab": {
          "base_uri": "https://localhost:8080/",
          "height": 34
        }
      },
      "source": [
        "test_accuracy = 0\n",
        "all_predictions = []\n",
        "\n",
        "\n",
        "device = \"cuda\" # we don't need GPU to do testing\n",
        "model.to(\"cuda\")\n",
        "\n",
        "for (batch, (inp, targ, lens)) in enumerate(test_dataloader):          \n",
        "    predictions,_ = model(inp.permute(1, 0).to(device), lens, device)        \n",
        "    batch_accuracy = accuracy(targ.to(device), predictions)\n",
        "    test_accuracy += batch_accuracy\n",
        "    \n",
        "    \n",
        "    all_predictions.append(predictions)\n",
        "    \n",
        "print(\"Test Accuracy: \", test_accuracy.cpu().detach().numpy() / TEST_N_BATCH)"
      ],
      "execution_count": 0,
      "outputs": [
        {
          "output_type": "stream",
          "text": [
            "Test Accuracy:  73.0680411202567\n"
          ],
          "name": "stdout"
        }
      ]
    },
    {
      "cell_type": "code",
      "metadata": {
        "id": "4PaHloh-tKjm",
        "colab_type": "code",
        "outputId": "4c97c837-cbfd-49a0-f822-9af5e81ad883",
        "colab": {
          "base_uri": "https://localhost:8080/",
          "height": 34
        }
      },
      "source": [
        "len(test_dataloader)"
      ],
      "execution_count": 0,
      "outputs": [
        {
          "output_type": "execute_result",
          "data": {
            "text/plain": [
              "782"
            ]
          },
          "metadata": {
            "tags": []
          },
          "execution_count": 317
        }
      ]
    },
    {
      "cell_type": "code",
      "metadata": {
        "id": "dzYPNWvAXhdj",
        "colab_type": "code",
        "colab": {}
      },
      "source": [
        ""
      ],
      "execution_count": 0,
      "outputs": []
    },
    {
      "cell_type": "markdown",
      "metadata": {
        "id": "uEWCo9gGTfL9",
        "colab_type": "text"
      },
      "source": [
        "# Distill"
      ]
    },
    {
      "cell_type": "markdown",
      "metadata": {
        "id": "iJfF6OsBUc_x",
        "colab_type": "text"
      },
      "source": [
        "# Define functions"
      ]
    },
    {
      "cell_type": "code",
      "metadata": {
        "id": "wk3NCVFcoovd",
        "colab_type": "code",
        "colab": {}
      },
      "source": [
        ""
      ],
      "execution_count": 0,
      "outputs": []
    },
    {
      "cell_type": "code",
      "metadata": {
        "id": "vGdaRi6ionQm",
        "colab_type": "code",
        "colab": {
          "base_uri": "https://localhost:8080/",
          "height": 51
        },
        "outputId": "3a93d7f5-7007-4b9d-99be-36f3d4e76c40"
      },
      "source": [
        " #We'll use Average Glove here \n",
        "from nltk import word_tokenize\n",
        "import nltk\n",
        "nltk.download('punkt')\n",
        "\n",
        "# define dict to hold a word and its vector\n",
        "glove = {}\n",
        "# read the word embeddings file ~820MB\n",
        "f = open('/gdrive/My Drive/DataSet/Glove/glove.6B.100d.txt', encoding='utf-8')\n",
        "\n",
        "for line in f:\n",
        "    values = line.split()\n",
        "    word = values[0]\n",
        "    coefs = np.asarray(values[1:], dtype='float32')\n",
        "    glove[word] = coefs\n",
        "f.close()\n",
        "# check the length\n",
        "len(glove) # 400000\n",
        "\n",
        "def MeanSentenceGlove(texts):\n",
        "# create vector for each sentences\n",
        "# list to hold vector \n",
        "  sentence_vectors = []\n",
        "# create vector for each clean normalized sentence\n",
        "  for i in texts:\n",
        "      if len(i) != 0:\n",
        "          v = sum([glove.get(w, np.zeros((100,))) for w in i.split(' ')])/(len(i.split(' '))+0.001)\n",
        "          #print(len(i))\n",
        "      else:\n",
        "          v = np.zeros((100,))\n",
        "      sentence_vectors.append(v)\n",
        "  #print('Total vectors created:',len(sentence_vectors))\n",
        "  return(sentence_vectors)\n",
        "\n",
        "def AvgGlove(texts):\n",
        "# create vector for each sentences\n",
        "# list to hold vector \n",
        "  vectors = []\n",
        "# create vector for each clean normalized sentence\n",
        "  for i in texts:\n",
        "      #vectors.append(np.average(glove.get(word_tokenize(i)), axis =0))\n",
        "      vectors.append(np.average([glove.get(w, np.zeros((100,))) for w in word_tokenize(i)], axis = 0))\n",
        "  return np.array(vectors)"
      ],
      "execution_count": 44,
      "outputs": [
        {
          "output_type": "stream",
          "text": [
            "[nltk_data] Downloading package punkt to /root/nltk_data...\n",
            "[nltk_data]   Package punkt is already up-to-date!\n"
          ],
          "name": "stdout"
        }
      ]
    },
    {
      "cell_type": "code",
      "metadata": {
        "colab_type": "code",
        "id": "PCQb9eVRPZ_O",
        "colab": {}
      },
      "source": [
        "# https://towardsdatascience.com/building-a-sentiment-classifier-using-scikit-learn-54c8e7c5d2f0\n",
        "import pandas as pd\n",
        "import re\n",
        "from os import system, listdir\n",
        "from os.path import isfile, join\n",
        "from random import shuffle\n",
        "\n",
        "system('wget \"http://ai.stanford.edu/~amaas/data/sentiment/aclImdb_v1.tar.gz\"')\n",
        "system('tar -xzf \"aclImdb_v1.tar.gz\"')\n",
        "\n",
        "def create_data_frame(folder: str) -> pd.DataFrame:\n",
        "    '''\n",
        "    folder - the root folder of train or test dataset\n",
        "    Returns: a DataFrame with the combined data from the input folder\n",
        "    '''\n",
        "    pos_folder = f'{folder}/pos' # positive reviews\n",
        "    neg_folder = f'{folder}/neg' # negative reviews\n",
        "    \n",
        "    def get_files(fld: str) -> list:\n",
        "        '''\n",
        "        fld - positive or negative reviews folder\n",
        "        Returns: a list with all files in input folder\n",
        "        '''\n",
        "        return [join(fld, f) for f in listdir(fld) if isfile(join(fld, f))]\n",
        "    \n",
        "    def append_files_data(data_list: list, files: list, label: int) -> None:\n",
        "        '''\n",
        "        Appends to 'data_list' tuples of form (file content, label)\n",
        "        for each file in 'files' input list\n",
        "        '''\n",
        "        for file_path in files:\n",
        "            with open(file_path, 'r') as f:\n",
        "                text = f.read()\n",
        "                data_list.append((text, label))\n",
        "    \n",
        "    pos_files = get_files(pos_folder)\n",
        "    neg_files = get_files(neg_folder)\n",
        "    \n",
        "    data_list = []\n",
        "    append_files_data(data_list, pos_files, 1)\n",
        "    append_files_data(data_list, neg_files, 0)\n",
        "    shuffle(data_list)\n",
        "    \n",
        "    text, label = tuple(zip(*data_list))\n",
        "    # replacing line breaks with spaces\n",
        "    text = list(map(lambda txt: re.sub('(<br\\s*/?>)+', ' ', txt), text))\n",
        "    \n",
        "    return pd.DataFrame({'text': text, 'label': label})\n",
        "\n",
        "imdb_train = create_data_frame('aclImdb/train')\n",
        "imdb_test = create_data_frame('aclImdb/test')\n",
        "\n",
        "system(\"mkdir 'csv'\")\n",
        "imdb_train.to_csv('csv/imdb_train.csv', index=False)\n",
        "imdb_test.to_csv('csv/imdb_test.csv', index=False)"
      ],
      "execution_count": 0,
      "outputs": []
    },
    {
      "cell_type": "markdown",
      "metadata": {
        "id": "hY9sl4tr92hL",
        "colab_type": "text"
      },
      "source": [
        "Load ED6 dataset for data augmentation "
      ]
    },
    {
      "cell_type": "code",
      "metadata": {
        "id": "9GfISSOc99yF",
        "colab_type": "code",
        "colab": {
          "base_uri": "https://localhost:8080/",
          "height": 313
        },
        "outputId": "e1b90687-826b-4391-949e-db70859ed9f1"
      },
      "source": [
        "import pickle\n",
        "\n",
        "def load_from_pickle(directory):\n",
        "    return pickle.load(open(directory,\"rb\"))\n",
        "\n",
        "# load data\n",
        "data = load_from_pickle(\"/gdrive/My Drive/DataSet/ED6/merged_training.pkl\")\n",
        "data.emotions.value_counts().plot.bar()"
      ],
      "execution_count": 100,
      "outputs": [
        {
          "output_type": "execute_result",
          "data": {
            "text/plain": [
              "<matplotlib.axes._subplots.AxesSubplot at 0x7ff19aa5a978>"
            ]
          },
          "metadata": {
            "tags": []
          },
          "execution_count": 100
        },
        {
          "output_type": "display_data",
          "data": {
            "image/png": "[encoded data removed]",
            "text/plain": [
              "<Figure size 432x288 with 1 Axes>"
            ]
          },
          "metadata": {
            "tags": [],
            "needs_background": "light"
          }
        }
      ]
    },
    {
      "cell_type": "code",
      "metadata": {
        "id": "1zeKqNlf-Da2",
        "colab_type": "code",
        "colab": {
          "base_uri": "https://localhost:8080/",
          "height": 359
        },
        "outputId": "eb34ff30-9c7d-4f3a-9a3e-28a812cb366e"
      },
      "source": [
        "data.head(10)"
      ],
      "execution_count": 101,
      "outputs": [
        {
          "output_type": "execute_result",
          "data": {
            "text/html": [
              "<div>\n",
              "<style scoped>\n",
              "    .dataframe tbody tr th:only-of-type {\n",
              "        vertical-align: middle;\n",
              "    }\n",
              "\n",
              "    .dataframe tbody tr th {\n",
              "        vertical-align: top;\n",
              "    }\n",
              "\n",
              "    .dataframe thead th {\n",
              "        text-align: right;\n",
              "    }\n",
              "</style>\n",
              "<table border=\"1\" class=\"dataframe\">\n",
              "  <thead>\n",
              "    <tr style=\"text-align: right;\">\n",
              "      <th></th>\n",
              "      <th>text</th>\n",
              "      <th>emotions</th>\n",
              "    </tr>\n",
              "  </thead>\n",
              "  <tbody>\n",
              "    <tr>\n",
              "      <th>27383</th>\n",
              "      <td>i feel awful about it too because it s my job ...</td>\n",
              "      <td>sadness</td>\n",
              "    </tr>\n",
              "    <tr>\n",
              "      <th>110083</th>\n",
              "      <td>im alone i feel awful</td>\n",
              "      <td>sadness</td>\n",
              "    </tr>\n",
              "    <tr>\n",
              "      <th>140764</th>\n",
              "      <td>ive probably mentioned this before but i reall...</td>\n",
              "      <td>joy</td>\n",
              "    </tr>\n",
              "    <tr>\n",
              "      <th>100071</th>\n",
              "      <td>i was feeling a little low few days back</td>\n",
              "      <td>sadness</td>\n",
              "    </tr>\n",
              "    <tr>\n",
              "      <th>2837</th>\n",
              "      <td>i beleive that i am much more sensitive to oth...</td>\n",
              "      <td>love</td>\n",
              "    </tr>\n",
              "    <tr>\n",
              "      <th>18231</th>\n",
              "      <td>i find myself frustrated with christians becau...</td>\n",
              "      <td>love</td>\n",
              "    </tr>\n",
              "    <tr>\n",
              "      <th>10714</th>\n",
              "      <td>i am one of those people who feels like going ...</td>\n",
              "      <td>joy</td>\n",
              "    </tr>\n",
              "    <tr>\n",
              "      <th>35177</th>\n",
              "      <td>i feel especially pleased about this as this h...</td>\n",
              "      <td>joy</td>\n",
              "    </tr>\n",
              "    <tr>\n",
              "      <th>122177</th>\n",
              "      <td>i was struggling with these awful feelings and...</td>\n",
              "      <td>joy</td>\n",
              "    </tr>\n",
              "    <tr>\n",
              "      <th>26723</th>\n",
              "      <td>i feel so enraged but helpless at the same time</td>\n",
              "      <td>anger</td>\n",
              "    </tr>\n",
              "  </tbody>\n",
              "</table>\n",
              "</div>"
            ],
            "text/plain": [
              "                                                     text emotions\n",
              "27383   i feel awful about it too because it s my job ...  sadness\n",
              "110083                              im alone i feel awful  sadness\n",
              "140764  ive probably mentioned this before but i reall...      joy\n",
              "100071           i was feeling a little low few days back  sadness\n",
              "2837    i beleive that i am much more sensitive to oth...     love\n",
              "18231   i find myself frustrated with christians becau...     love\n",
              "10714   i am one of those people who feels like going ...      joy\n",
              "35177   i feel especially pleased about this as this h...      joy\n",
              "122177  i was struggling with these awful feelings and...      joy\n",
              "26723     i feel so enraged but helpless at the same time    anger"
            ]
          },
          "metadata": {
            "tags": []
          },
          "execution_count": 101
        }
      ]
    },
    {
      "cell_type": "code",
      "metadata": {
        "id": "hZbezHO5-Iua",
        "colab_type": "code",
        "colab": {}
      },
      "source": [
        "# retain only text that contain less that 70 tokens to avoid too much padding\n",
        "data[\"token_size\"] = data[\"text\"].apply(lambda x: len(x.split(' ')))\n",
        "data = data.loc[data['token_size'] < 70].copy()"
      ],
      "execution_count": 0,
      "outputs": []
    },
    {
      "cell_type": "code",
      "metadata": {
        "id": "dEOrc6aA-L30",
        "colab_type": "code",
        "colab": {}
      },
      "source": [
        "# sampling\n",
        "data_aug_6ed = data.sample(n=50000);"
      ],
      "execution_count": 0,
      "outputs": []
    },
    {
      "cell_type": "code",
      "metadata": {
        "id": "pwZ18iGFAAlT",
        "colab_type": "code",
        "colab": {
          "base_uri": "https://localhost:8080/",
          "height": 313
        },
        "outputId": "113e5a59-888a-47f3-de91-c226c9cb4f8f"
      },
      "source": [
        "data_aug_6ed.emotions.value_counts().plot.bar()"
      ],
      "execution_count": 104,
      "outputs": [
        {
          "output_type": "execute_result",
          "data": {
            "text/plain": [
              "<matplotlib.axes._subplots.AxesSubplot at 0x7ff19aed5710>"
            ]
          },
          "metadata": {
            "tags": []
          },
          "execution_count": 104
        },
        {
          "output_type": "display_data",
          "data": {
            "image/png": "[encoded data removed]",
            "text/plain": [
              "<Figure size 432x288 with 1 Axes>"
            ]
          },
          "metadata": {
            "tags": [],
            "needs_background": "light"
          }
        }
      ]
    },
    {
      "cell_type": "code",
      "metadata": {
        "id": "NHtvskX2_v7a",
        "colab_type": "code",
        "colab": {}
      },
      "source": [
        "# Save csv file \n",
        "data_aug_6ed.to_csv(r'/gdrive/My Drive/DataSet/ED6/data_augmentation_ED6.csv')"
      ],
      "execution_count": 0,
      "outputs": []
    },
    {
      "cell_type": "code",
      "metadata": {
        "id": "Bhl438fIAypd",
        "colab_type": "code",
        "colab": {}
      },
      "source": [
        "df = pd.read_csv('/gdrive/My Drive/DataSet/ED6/data_augmentation_ED6.csv')"
      ],
      "execution_count": 0,
      "outputs": []
    },
    {
      "cell_type": "code",
      "metadata": {
        "id": "hRLL7-CeA7Oc",
        "colab_type": "code",
        "colab": {
          "base_uri": "https://localhost:8080/",
          "height": 313
        },
        "outputId": "8724fb71-e86b-48ef-b12e-c572b8f78448"
      },
      "source": [
        "df.emotions.value_counts().plot.bar()"
      ],
      "execution_count": 107,
      "outputs": [
        {
          "output_type": "execute_result",
          "data": {
            "text/plain": [
              "<matplotlib.axes._subplots.AxesSubplot at 0x7ff19600d4a8>"
            ]
          },
          "metadata": {
            "tags": []
          },
          "execution_count": 107
        },
        {
          "output_type": "display_data",
          "data": {
            "image/png": "[encoded data removed]",
            "text/plain": [
              "<Figure size 432x288 with 1 Axes>"
            ]
          },
          "metadata": {
            "tags": [],
            "needs_background": "light"
          }
        }
      ]
    },
    {
      "cell_type": "markdown",
      "metadata": {
        "id": "mZ4xoWKjUj64",
        "colab_type": "text"
      },
      "source": [
        "# Distill Methods"
      ]
    },
    {
      "cell_type": "markdown",
      "metadata": {
        "id": "BHJVp_AII8MN",
        "colab_type": "text"
      },
      "source": [
        "BOW"
      ]
    },
    {
      "cell_type": "code",
      "metadata": {
        "id": "mZvGyOaSU1Gc",
        "colab_type": "code",
        "colab": {
          "base_uri": "https://localhost:8080/",
          "height": 255
        },
        "outputId": "2829c7b3-d23c-43aa-bf57-9e396d86d463"
      },
      "source": [
        "# Run regression with MSE(Logit)\n",
        "from sklearn.linear_model import LinearRegression,SGDRegressor\n",
        "from sklearn.metrics import matthews_corrcoef\n",
        "\n",
        "model = make_pipeline(TfidfVectorizer(ngram_range=(1,2)), LinearRegression()).fit(X_train, logits_train)\n",
        "predicted = model.predict(X_test)\n",
        "flat_predicted=torch.max(torch.tensor(predicted),1)[1]\n",
        "print(classification_report(y_test, flat_predicted))\n",
        "print(matthews_corrcoef(y_test, flat_predicted))\n"
      ],
      "execution_count": 124,
      "outputs": [
        {
          "output_type": "stream",
          "text": [
            "              precision    recall  f1-score   support\n",
            "\n",
            "           0       0.90      0.90      0.90       581\n",
            "           1       0.88      0.93      0.90       695\n",
            "           2       0.80      0.72      0.76       159\n",
            "           3       0.89      0.83      0.86       275\n",
            "           4       0.80      0.82      0.81       224\n",
            "           5       0.75      0.62      0.68        66\n",
            "\n",
            "    accuracy                           0.87      2000\n",
            "   macro avg       0.84      0.80      0.82      2000\n",
            "weighted avg       0.87      0.87      0.87      2000\n",
            "\n",
            "0.8238767404734336\n"
          ],
          "name": "stdout"
        }
      ]
    },
    {
      "cell_type": "markdown",
      "metadata": {
        "colab_type": "text",
        "id": "f_TyJZP2cX1Q"
      },
      "source": [
        "### FT-MSE(logit)\n",
        "Distill: Internal Embedding + Average (KERAS Multiclass)\n",
        "https://towardsdatascience.com/machine-learning-sentiment-analysis-and-word-embeddings-python-keras-example-4dfb93c5a6cf"
      ]
    },
    {
      "cell_type": "code",
      "metadata": {
        "colab_type": "code",
        "id": "Y4xekPXpcX1R",
        "colab": {}
      },
      "source": [
        "import numpy as np\n",
        "from matplotlib import pyplot as plt\n",
        "plt.style.use('dark_background')\n",
        "from keras.datasets import imdb\n",
        "from keras.models import Sequential\n",
        "from keras.preprocessing.sequence import pad_sequences\n",
        "from keras.layers import Embedding, GlobalAveragePooling1D, GlobalMaxPool1D, Dense\n",
        "from keras.preprocessing.text import Tokenizer"
      ],
      "execution_count": 0,
      "outputs": []
    },
    {
      "cell_type": "markdown",
      "metadata": {
        "colab_type": "text",
        "id": "St0TrJ9qcX1U"
      },
      "source": [
        "Tokenizer and padding"
      ]
    },
    {
      "cell_type": "code",
      "metadata": {
        "colab_type": "code",
        "id": "fJN0NfaccX1U",
        "colab": {}
      },
      "source": [
        "# KERAS Tokenization\n",
        "# https://machinelearningmastery.com/prepare-text-data-deep-learning-keras/\n",
        "#https://www.kdnuggets.com/2020/03/tensorflow-keras-tokenization-text-data-prep.html\n",
        "from keras.preprocessing.text import Tokenizer\n",
        "\n",
        "# Init all Hyperparameters\n",
        "OUTPUT_DIM = len(y_train_hotvec[0])\n",
        "MAX_NUM_WORDS = 15000\n",
        "MAX_LEN = 128\n",
        "oov_token = '<UNK>' # Required only if test is not given \n",
        "pad_type = 'post'\n",
        "trunc_type = 'post'\n",
        "\n",
        "# Avoid UNK words \n",
        "X = np.concatenate((X_train, X_test), axis=0)\n",
        "\n",
        "# Tokenize our training data\n",
        "tokenizer = Tokenizer(num_words=MAX_NUM_WORDS)\n",
        "tokenizer.fit_on_texts(X)\n",
        "\n",
        "# Get our training data word index\n",
        "word_index = tokenizer.word_index\n",
        "\n",
        "# Encode training data sentences into sequences\n",
        "train_sequences = tokenizer.texts_to_sequences(X_train)\n",
        "\n",
        "# Get max training sequence length\n",
        "maxlen = min(MAX_LEN, max([len(x) for x in train_sequences]))\n",
        "\n",
        "# Pad the training sequences\n",
        "train_padded = pad_sequences(train_sequences, padding=pad_type, truncating=trunc_type, maxlen=maxlen)\n",
        "\n",
        "# Encode test data sentences into sequences\n",
        "test_sequences = tokenizer.texts_to_sequences(X_test)\n",
        "test_padded = pad_sequences(test_sequences, padding=pad_type, truncating=trunc_type, maxlen=maxlen)\n",
        "\n",
        "num_words = min(MAX_NUM_WORDS, len(word_index) + 1)\n"
      ],
      "execution_count": 0,
      "outputs": []
    },
    {
      "cell_type": "markdown",
      "metadata": {
        "colab_type": "text",
        "id": "8xpnCJiGcX1c"
      },
      "source": [
        "DL Arch"
      ]
    },
    {
      "cell_type": "code",
      "metadata": {
        "colab_type": "code",
        "outputId": "560c795f-177b-4a13-c577-c7e6325ba1f2",
        "id": "dkYiHCH_cX1c",
        "colab": {
          "base_uri": "https://localhost:8080/",
          "height": 289
        }
      },
      "source": [
        "# KERAS Architecture \n",
        "# Nice refrence to use embedding vectors in KERAS https://realpython.com/python-keras-text-classification/\n",
        "model = Sequential()\n",
        "model.add(Embedding(input_dim=num_words, output_dim=16, input_length=maxlen))\n",
        "model.add(GlobalAveragePooling1D())\n",
        "model.add(Dense(16, activation='relu'))\n",
        "model.add(Dense(OUTPUT_DIM))\n",
        "model.summary()\n"
      ],
      "execution_count": 297,
      "outputs": [
        {
          "output_type": "stream",
          "text": [
            "Model: \"sequential_26\"\n",
            "_________________________________________________________________\n",
            "Layer (type)                 Output Shape              Param #   \n",
            "=================================================================\n",
            "embedding_26 (Embedding)     (None, 68, 16)            240000    \n",
            "_________________________________________________________________\n",
            "global_average_pooling1d_26  (None, 16)                0         \n",
            "_________________________________________________________________\n",
            "dense_51 (Dense)             (None, 16)                272       \n",
            "_________________________________________________________________\n",
            "dense_52 (Dense)             (None, 6)                 102       \n",
            "=================================================================\n",
            "Total params: 240,374\n",
            "Trainable params: 240,374\n",
            "Non-trainable params: 0\n",
            "_________________________________________________________________\n"
          ],
          "name": "stdout"
        }
      ]
    },
    {
      "cell_type": "code",
      "metadata": {
        "colab_type": "code",
        "id": "VzIe59XlcX1f",
        "colab": {}
      },
      "source": [
        "model.compile(\n",
        "    optimizer='adam',\n",
        "    loss='mse',\n",
        "    metrics=['accuracy']\n",
        ")"
      ],
      "execution_count": 0,
      "outputs": []
    },
    {
      "cell_type": "code",
      "metadata": {
        "colab_type": "code",
        "id": "3wUrHTvVcX1k",
        "colab": {
          "base_uri": "https://localhost:8080/",
          "height": 1000
        },
        "outputId": "b1874bf6-197d-43d8-be8c-500b90cd956e"
      },
      "source": [
        "history = model.fit(\n",
        "    train_padded,\n",
        "    logits_train,\n",
        "    epochs=50,\n",
        "    batch_size=512,\n",
        "    validation_split=0.1,\n",
        "    shuffle=True\n",
        ")"
      ],
      "execution_count": 299,
      "outputs": [
        {
          "output_type": "stream",
          "text": [
            "/usr/local/lib/python3.6/dist-packages/tensorflow/python/framework/indexed_slices.py:434: UserWarning: Converting sparse IndexedSlices to a dense Tensor of unknown shape. This may consume a large amount of memory.\n",
            "  \"Converting sparse IndexedSlices to a dense Tensor of unknown shape. \"\n"
          ],
          "name": "stderr"
        },
        {
          "output_type": "stream",
          "text": [
            "Train on 45000 samples, validate on 5000 samples\n",
            "Epoch 1/50\n",
            "45000/45000 [==============================] - 0s 8us/step - loss: 6.9371 - accuracy: 0.3334 - val_loss: 6.8249 - val_accuracy: 0.3240\n",
            "Epoch 2/50\n",
            "45000/45000 [==============================] - 0s 6us/step - loss: 6.7866 - accuracy: 0.3364 - val_loss: 6.7854 - val_accuracy: 0.3240\n",
            "Epoch 3/50\n",
            "45000/45000 [==============================] - 0s 6us/step - loss: 6.7374 - accuracy: 0.3364 - val_loss: 6.7317 - val_accuracy: 0.3240\n",
            "Epoch 4/50\n",
            "45000/45000 [==============================] - 0s 6us/step - loss: 6.6682 - accuracy: 0.3366 - val_loss: 6.6564 - val_accuracy: 0.3244\n",
            "Epoch 5/50\n",
            "45000/45000 [==============================] - 0s 6us/step - loss: 6.5751 - accuracy: 0.3502 - val_loss: 6.5590 - val_accuracy: 0.3674\n",
            "Epoch 6/50\n",
            "45000/45000 [==============================] - 0s 6us/step - loss: 6.4588 - accuracy: 0.3978 - val_loss: 6.4432 - val_accuracy: 0.3976\n",
            "Epoch 7/50\n",
            "45000/45000 [==============================] - 0s 6us/step - loss: 6.3203 - accuracy: 0.4334 - val_loss: 6.3098 - val_accuracy: 0.4348\n",
            "Epoch 8/50\n",
            "45000/45000 [==============================] - 0s 6us/step - loss: 6.1661 - accuracy: 0.4610 - val_loss: 6.1660 - val_accuracy: 0.4508\n",
            "Epoch 9/50\n",
            "45000/45000 [==============================] - 0s 6us/step - loss: 6.0024 - accuracy: 0.4816 - val_loss: 6.0205 - val_accuracy: 0.4442\n",
            "Epoch 10/50\n",
            "45000/45000 [==============================] - 0s 6us/step - loss: 5.8353 - accuracy: 0.4961 - val_loss: 5.8638 - val_accuracy: 0.4884\n",
            "Epoch 11/50\n",
            "45000/45000 [==============================] - 0s 6us/step - loss: 5.6677 - accuracy: 0.5123 - val_loss: 5.7138 - val_accuracy: 0.4926\n",
            "Epoch 12/50\n",
            "45000/45000 [==============================] - 0s 6us/step - loss: 5.4939 - accuracy: 0.5240 - val_loss: 5.5510 - val_accuracy: 0.5042\n",
            "Epoch 13/50\n",
            "45000/45000 [==============================] - 0s 6us/step - loss: 5.3203 - accuracy: 0.5369 - val_loss: 5.3979 - val_accuracy: 0.5174\n",
            "Epoch 14/50\n",
            "45000/45000 [==============================] - 0s 6us/step - loss: 5.1564 - accuracy: 0.5476 - val_loss: 5.2528 - val_accuracy: 0.5346\n",
            "Epoch 15/50\n",
            "45000/45000 [==============================] - 0s 6us/step - loss: 5.0014 - accuracy: 0.5580 - val_loss: 5.1153 - val_accuracy: 0.5380\n",
            "Epoch 16/50\n",
            "45000/45000 [==============================] - 0s 6us/step - loss: 4.8565 - accuracy: 0.5674 - val_loss: 4.9881 - val_accuracy: 0.5394\n",
            "Epoch 17/50\n",
            "45000/45000 [==============================] - 0s 6us/step - loss: 4.7215 - accuracy: 0.5750 - val_loss: 4.8657 - val_accuracy: 0.5508\n",
            "Epoch 18/50\n",
            "45000/45000 [==============================] - 0s 6us/step - loss: 4.5950 - accuracy: 0.5822 - val_loss: 4.7543 - val_accuracy: 0.5554\n",
            "Epoch 19/50\n",
            "45000/45000 [==============================] - 0s 6us/step - loss: 4.4773 - accuracy: 0.5889 - val_loss: 4.6465 - val_accuracy: 0.5632\n",
            "Epoch 20/50\n",
            "45000/45000 [==============================] - 0s 6us/step - loss: 4.3666 - accuracy: 0.5940 - val_loss: 4.5483 - val_accuracy: 0.5656\n",
            "Epoch 21/50\n",
            "45000/45000 [==============================] - 0s 6us/step - loss: 4.2641 - accuracy: 0.5996 - val_loss: 4.4543 - val_accuracy: 0.5764\n",
            "Epoch 22/50\n",
            "45000/45000 [==============================] - 0s 6us/step - loss: 4.1649 - accuracy: 0.6053 - val_loss: 4.3595 - val_accuracy: 0.5772\n",
            "Epoch 23/50\n",
            "45000/45000 [==============================] - 0s 6us/step - loss: 4.0664 - accuracy: 0.6105 - val_loss: 4.2687 - val_accuracy: 0.5844\n",
            "Epoch 24/50\n",
            "45000/45000 [==============================] - 0s 6us/step - loss: 3.9737 - accuracy: 0.6166 - val_loss: 4.1844 - val_accuracy: 0.5888\n",
            "Epoch 25/50\n",
            "45000/45000 [==============================] - 0s 6us/step - loss: 3.8863 - accuracy: 0.6214 - val_loss: 4.1035 - val_accuracy: 0.5942\n",
            "Epoch 26/50\n",
            "45000/45000 [==============================] - 0s 6us/step - loss: 3.8032 - accuracy: 0.6271 - val_loss: 4.0267 - val_accuracy: 0.6016\n",
            "Epoch 27/50\n",
            "45000/45000 [==============================] - 0s 6us/step - loss: 3.7239 - accuracy: 0.6341 - val_loss: 3.9534 - val_accuracy: 0.6048\n",
            "Epoch 28/50\n",
            "45000/45000 [==============================] - 0s 6us/step - loss: 3.6486 - accuracy: 0.6398 - val_loss: 3.8835 - val_accuracy: 0.6076\n",
            "Epoch 29/50\n",
            "45000/45000 [==============================] - 0s 6us/step - loss: 3.5768 - accuracy: 0.6452 - val_loss: 3.8156 - val_accuracy: 0.6158\n",
            "Epoch 30/50\n",
            "45000/45000 [==============================] - 0s 6us/step - loss: 3.5079 - accuracy: 0.6510 - val_loss: 3.7520 - val_accuracy: 0.6180\n",
            "Epoch 31/50\n",
            "45000/45000 [==============================] - 0s 6us/step - loss: 3.4424 - accuracy: 0.6567 - val_loss: 3.6895 - val_accuracy: 0.6270\n",
            "Epoch 32/50\n",
            "45000/45000 [==============================] - 0s 6us/step - loss: 3.3798 - accuracy: 0.6616 - val_loss: 3.6315 - val_accuracy: 0.6316\n",
            "Epoch 33/50\n",
            "45000/45000 [==============================] - 0s 6us/step - loss: 3.3202 - accuracy: 0.6681 - val_loss: 3.5757 - val_accuracy: 0.6338\n",
            "Epoch 34/50\n",
            "45000/45000 [==============================] - 0s 6us/step - loss: 3.2632 - accuracy: 0.6725 - val_loss: 3.5205 - val_accuracy: 0.6446\n",
            "Epoch 35/50\n",
            "45000/45000 [==============================] - 0s 6us/step - loss: 3.2090 - accuracy: 0.6776 - val_loss: 3.4693 - val_accuracy: 0.6540\n",
            "Epoch 36/50\n",
            "45000/45000 [==============================] - 0s 6us/step - loss: 3.1574 - accuracy: 0.6836 - val_loss: 3.4206 - val_accuracy: 0.6528\n",
            "Epoch 37/50\n",
            "45000/45000 [==============================] - 0s 6us/step - loss: 3.1085 - accuracy: 0.6880 - val_loss: 3.3741 - val_accuracy: 0.6606\n",
            "Epoch 38/50\n",
            "45000/45000 [==============================] - 0s 6us/step - loss: 3.0620 - accuracy: 0.6928 - val_loss: 3.3297 - val_accuracy: 0.6620\n",
            "Epoch 39/50\n",
            "45000/45000 [==============================] - 0s 6us/step - loss: 3.0182 - accuracy: 0.6963 - val_loss: 3.2880 - val_accuracy: 0.6670\n",
            "Epoch 40/50\n",
            "45000/45000 [==============================] - 0s 6us/step - loss: 2.9754 - accuracy: 0.7005 - val_loss: 3.2446 - val_accuracy: 0.6700\n",
            "Epoch 41/50\n",
            "45000/45000 [==============================] - 0s 6us/step - loss: 2.9312 - accuracy: 0.7039 - val_loss: 3.2017 - val_accuracy: 0.6782\n",
            "Epoch 42/50\n",
            "45000/45000 [==============================] - 0s 6us/step - loss: 2.8898 - accuracy: 0.7076 - val_loss: 3.1625 - val_accuracy: 0.6798\n",
            "Epoch 43/50\n",
            "45000/45000 [==============================] - 0s 6us/step - loss: 2.8493 - accuracy: 0.7101 - val_loss: 3.1228 - val_accuracy: 0.6866\n",
            "Epoch 44/50\n",
            "45000/45000 [==============================] - 0s 6us/step - loss: 2.8093 - accuracy: 0.7136 - val_loss: 3.0848 - val_accuracy: 0.6894\n",
            "Epoch 45/50\n",
            "45000/45000 [==============================] - 0s 6us/step - loss: 2.7720 - accuracy: 0.7177 - val_loss: 3.0483 - val_accuracy: 0.6904\n",
            "Epoch 46/50\n",
            "45000/45000 [==============================] - 0s 6us/step - loss: 2.7366 - accuracy: 0.7201 - val_loss: 3.0148 - val_accuracy: 0.6926\n",
            "Epoch 47/50\n",
            "45000/45000 [==============================] - 0s 6us/step - loss: 2.7034 - accuracy: 0.7222 - val_loss: 2.9836 - val_accuracy: 0.6962\n",
            "Epoch 48/50\n",
            "45000/45000 [==============================] - 0s 6us/step - loss: 2.6722 - accuracy: 0.7236 - val_loss: 2.9527 - val_accuracy: 0.6966\n",
            "Epoch 49/50\n",
            "45000/45000 [==============================] - 0s 6us/step - loss: 2.6428 - accuracy: 0.7254 - val_loss: 2.9244 - val_accuracy: 0.6978\n",
            "Epoch 50/50\n",
            "45000/45000 [==============================] - 0s 6us/step - loss: 2.6151 - accuracy: 0.7268 - val_loss: 2.8978 - val_accuracy: 0.6980\n"
          ],
          "name": "stdout"
        }
      ]
    },
    {
      "cell_type": "code",
      "metadata": {
        "colab_type": "code",
        "outputId": "659a960b-24cb-4658-8ac8-2b1b4e7b260e",
        "id": "v1T029JhcX1m",
        "colab": {
          "base_uri": "https://localhost:8080/",
          "height": 295
        }
      },
      "source": [
        "# Plot the training and validation accuracu and loss at each epoch\n",
        "loss = history.history['loss']\n",
        "val_loss = history.history['val_loss']\n",
        "epochs = range(1, len(loss) + 1)\n",
        "plt.plot(epochs, loss, 'y', label='Training loss')\n",
        "plt.plot(epochs, val_loss, 'r', label='Validation loss')\n",
        "plt.title('Training and validation loss')\n",
        "plt.xlabel('Epochs')\n",
        "plt.ylabel('Loss')\n",
        "plt.legend()\n",
        "plt.show()"
      ],
      "execution_count": 294,
      "outputs": [
        {
          "output_type": "display_data",
          "data": {
            "image/png": "[encoded data removed]",
            "text/plain": [
              "<Figure size 432x288 with 1 Axes>"
            ]
          },
          "metadata": {
            "tags": []
          }
        }
      ]
    },
    {
      "cell_type": "code",
      "metadata": {
        "colab_type": "code",
        "outputId": "870069d5-b0be-4ece-90ad-c2cc7f966e40",
        "id": "wbjbdpM3cX1n",
        "colab": {
          "base_uri": "https://localhost:8080/",
          "height": 295
        }
      },
      "source": [
        "acc = history.history['accuracy']\n",
        "val_acc = history.history['val_accuracy']\n",
        "plt.plot(epochs, acc, 'y', label='Training acc')\n",
        "plt.plot(epochs, val_acc, 'r', label='Validation acc')\n",
        "plt.title('Training and validation accuracy')\n",
        "plt.xlabel('Epochs')\n",
        "plt.ylabel('Accuracy')\n",
        "plt.legend()\n",
        "plt.show()"
      ],
      "execution_count": 295,
      "outputs": [
        {
          "output_type": "display_data",
          "data": {
            "image/png": "[encoded data removed]",
            "text/plain": [
              "<Figure size 432x288 with 1 Axes>"
            ]
          },
          "metadata": {
            "tags": []
          }
        }
      ]
    },
    {
      "cell_type": "code",
      "metadata": {
        "colab_type": "code",
        "outputId": "c707b803-379e-497c-971d-3595ce86ce29",
        "id": "xgKi0hgtcX13",
        "colab": {
          "base_uri": "https://localhost:8080/",
          "height": 309
        }
      },
      "source": [
        "logits_pred = model.predict(test_padded, batch_size=64, verbose=1)\n",
        "y_pred_bool = np.argmax(logits_pred, axis=1)\n",
        "print(classification_report(y_test, y_pred_bool))\n"
      ],
      "execution_count": 300,
      "outputs": [
        {
          "output_type": "stream",
          "text": [
            "2000/2000 [==============================] - 0s 15us/step\n",
            "              precision    recall  f1-score   support\n",
            "\n",
            "           0       0.83      0.97      0.90       581\n",
            "           1       0.78      0.98      0.87       695\n",
            "           2       0.00      0.00      0.00       159\n",
            "           3       0.47      0.67      0.56       275\n",
            "           4       0.53      0.12      0.20       224\n",
            "           5       0.00      0.00      0.00        66\n",
            "\n",
            "    accuracy                           0.73      2000\n",
            "   macro avg       0.44      0.46      0.42      2000\n",
            "weighted avg       0.64      0.73      0.66      2000\n",
            "\n"
          ],
          "name": "stdout"
        },
        {
          "output_type": "stream",
          "text": [
            "/usr/local/lib/python3.6/dist-packages/sklearn/metrics/_classification.py:1272: UndefinedMetricWarning: Precision and F-score are ill-defined and being set to 0.0 in labels with no predicted samples. Use `zero_division` parameter to control this behavior.\n",
            "  _warn_prf(average, modifier, msg_start, len(result))\n"
          ],
          "name": "stderr"
        }
      ]
    },
    {
      "cell_type": "code",
      "metadata": {
        "id": "8RUmcU7LH3Nk",
        "colab_type": "code",
        "colab": {
          "base_uri": "https://localhost:8080/",
          "height": 34
        },
        "outputId": "2f0d540d-eb2d-4c6b-dc2f-b5994bc184ce"
      },
      "source": [
        "y_pred_bool[0:20]"
      ],
      "execution_count": 104,
      "outputs": [
        {
          "output_type": "execute_result",
          "data": {
            "text/plain": [
              "array([1, 1, 1, 1, 0, 1, 1, 1, 1, 1, 1, 1, 0, 1, 1, 1, 1, 1, 1, 1])"
            ]
          },
          "metadata": {
            "tags": []
          },
          "execution_count": 104
        }
      ]
    },
    {
      "cell_type": "markdown",
      "metadata": {
        "colab_type": "text",
        "id": "_QYqr4EpJbPh"
      },
      "source": [
        "### FT-Psedu CE\n",
        "Distill: Internal Embedding + Average (KERAS Multiclass)\n",
        "https://towardsdatascience.com/machine-learning-sentiment-analysis-and-word-embeddings-python-keras-example-4dfb93c5a6cf"
      ]
    },
    {
      "cell_type": "code",
      "metadata": {
        "colab_type": "code",
        "id": "lsCs2jhXJbPi",
        "colab": {}
      },
      "source": [
        "import numpy as np\n",
        "from matplotlib import pyplot as plt\n",
        "plt.style.use('dark_background')\n",
        "from keras.datasets import imdb\n",
        "from keras.models import Sequential\n",
        "from keras.preprocessing.sequence import pad_sequences\n",
        "from keras.layers import Embedding, GlobalAveragePooling1D, GlobalMaxPool1D, Dense\n",
        "from keras.preprocessing.text import Tokenizer"
      ],
      "execution_count": 0,
      "outputs": []
    },
    {
      "cell_type": "markdown",
      "metadata": {
        "colab_type": "text",
        "id": "8f5FBT5eJbPk"
      },
      "source": [
        "Tokenizer and padding"
      ]
    },
    {
      "cell_type": "code",
      "metadata": {
        "colab_type": "code",
        "id": "nuXy6hqPJbPk",
        "colab": {}
      },
      "source": [
        "# KERAS Tokenization\n",
        "# https://machinelearningmastery.com/prepare-text-data-deep-learning-keras/\n",
        "#https://www.kdnuggets.com/2020/03/tensorflow-keras-tokenization-text-data-prep.html\n",
        "from keras.preprocessing.text import Tokenizer\n",
        "\n",
        "# Init all Hyperparameters\n",
        "OUTPUT_DIM = len(y_train_hotvec[0])\n",
        "MAX_NUM_WORDS = 10000\n",
        "MAX_LEN = 128\n",
        "oov_token = '<UNK>' # Required only if test is not given \n",
        "pad_type = 'post'\n",
        "trunc_type = 'post'\n",
        "\n",
        "# Avoid UNK words \n",
        "X = np.concatenate((X_train, X_test), axis=0)\n",
        "\n",
        "# Tokenize our training data\n",
        "tokenizer = Tokenizer(num_words=MAX_NUM_WORDS)\n",
        "tokenizer.fit_on_texts(X)\n",
        "\n",
        "# Get our training data word index\n",
        "word_index = tokenizer.word_index\n",
        "\n",
        "# Encode training data sentences into sequences\n",
        "train_sequences = tokenizer.texts_to_sequences(X_train)\n",
        "\n",
        "# Get max training sequence length\n",
        "maxlen = min(MAX_LEN, max([len(x) for x in train_sequences]))\n",
        "\n",
        "# Pad the training sequences\n",
        "train_padded = pad_sequences(train_sequences, padding=pad_type, truncating=trunc_type, maxlen=maxlen)\n",
        "\n",
        "# Encode test data sentences into sequences\n",
        "test_sequences = tokenizer.texts_to_sequences(X_test)\n",
        "test_padded = pad_sequences(test_sequences, padding=pad_type, truncating=trunc_type, maxlen=maxlen)\n",
        "\n",
        "num_words = min(MAX_NUM_WORDS, len(word_index) + 1)\n"
      ],
      "execution_count": 0,
      "outputs": []
    },
    {
      "cell_type": "markdown",
      "metadata": {
        "colab_type": "text",
        "id": "n-ZYrMcaJbPp"
      },
      "source": [
        "DL Arch"
      ]
    },
    {
      "cell_type": "code",
      "metadata": {
        "colab_type": "code",
        "outputId": "46815908-e1fc-4807-d146-7dec57a68479",
        "id": "San6lbdLJbPq",
        "colab": {
          "base_uri": "https://localhost:8080/",
          "height": 289
        }
      },
      "source": [
        "# KERAS Architecture \n",
        "# Nice refrence to use embedding vectors in KERAS https://realpython.com/python-keras-text-classification/\n",
        "model = Sequential()\n",
        "model.add(Embedding(input_dim=num_words, output_dim=16, input_length=maxlen))\n",
        "model.add(GlobalAveragePooling1D())\n",
        "model.add(Dense(16, activation='relu'))\n",
        "model.add(Dense(OUTPUT_DIM, activation='sigmoid'))\n",
        "model.summary()\n"
      ],
      "execution_count": 236,
      "outputs": [
        {
          "output_type": "stream",
          "text": [
            "Model: \"sequential_17\"\n",
            "_________________________________________________________________\n",
            "Layer (type)                 Output Shape              Param #   \n",
            "=================================================================\n",
            "embedding_17 (Embedding)     (None, 68, 16)            320000    \n",
            "_________________________________________________________________\n",
            "global_average_pooling1d_17  (None, 16)                0         \n",
            "_________________________________________________________________\n",
            "dense_33 (Dense)             (None, 16)                272       \n",
            "_________________________________________________________________\n",
            "dense_34 (Dense)             (None, 6)                 102       \n",
            "=================================================================\n",
            "Total params: 320,374\n",
            "Trainable params: 320,374\n",
            "Non-trainable params: 0\n",
            "_________________________________________________________________\n"
          ],
          "name": "stdout"
        }
      ]
    },
    {
      "cell_type": "code",
      "metadata": {
        "colab_type": "code",
        "id": "fDUunn2OJbPt",
        "colab": {}
      },
      "source": [
        "model.compile(\n",
        "    optimizer='adam',\n",
        "    loss='categorical_crossentropy',\n",
        "    metrics=['accuracy']\n",
        ")"
      ],
      "execution_count": 0,
      "outputs": []
    },
    {
      "cell_type": "code",
      "metadata": {
        "colab_type": "code",
        "outputId": "2ea8be45-db17-4ba4-a3cc-ea8137864f81",
        "id": "ZFJsaEjtJbPy",
        "colab": {
          "base_uri": "https://localhost:8080/",
          "height": 1000
        }
      },
      "source": [
        "history = model.fit(\n",
        "    train_padded,\n",
        "    y_train_psedu,\n",
        "    epochs=50,\n",
        "    batch_size=512,\n",
        "    validation_split=0.1,\n",
        "    shuffle=True\n",
        ")"
      ],
      "execution_count": 238,
      "outputs": [
        {
          "output_type": "stream",
          "text": [
            "/usr/local/lib/python3.6/dist-packages/tensorflow/python/framework/indexed_slices.py:434: UserWarning: Converting sparse IndexedSlices to a dense Tensor of unknown shape. This may consume a large amount of memory.\n",
            "  \"Converting sparse IndexedSlices to a dense Tensor of unknown shape. \"\n"
          ],
          "name": "stderr"
        },
        {
          "output_type": "stream",
          "text": [
            "Train on 45000 samples, validate on 5000 samples\n",
            "Epoch 1/50\n",
            "45000/45000 [==============================] - 0s 10us/step - loss: 1.7290 - accuracy: 0.3365 - val_loss: 1.6521 - val_accuracy: 0.3240\n",
            "Epoch 2/50\n",
            "45000/45000 [==============================] - 0s 7us/step - loss: 1.5868 - accuracy: 0.3364 - val_loss: 1.5854 - val_accuracy: 0.3240\n",
            "Epoch 3/50\n",
            "45000/45000 [==============================] - 0s 7us/step - loss: 1.5607 - accuracy: 0.3364 - val_loss: 1.5787 - val_accuracy: 0.3240\n",
            "Epoch 4/50\n",
            "45000/45000 [==============================] - 0s 7us/step - loss: 1.5531 - accuracy: 0.3364 - val_loss: 1.5713 - val_accuracy: 0.3240\n",
            "Epoch 5/50\n",
            "45000/45000 [==============================] - 0s 7us/step - loss: 1.5412 - accuracy: 0.3364 - val_loss: 1.5558 - val_accuracy: 0.3242\n",
            "Epoch 6/50\n",
            "45000/45000 [==============================] - 0s 7us/step - loss: 1.5188 - accuracy: 0.3551 - val_loss: 1.5251 - val_accuracy: 0.4034\n",
            "Epoch 7/50\n",
            "45000/45000 [==============================] - 0s 7us/step - loss: 1.4646 - accuracy: 0.4541 - val_loss: 1.4540 - val_accuracy: 0.4552\n",
            "Epoch 8/50\n",
            "45000/45000 [==============================] - 0s 7us/step - loss: 1.3533 - accuracy: 0.5081 - val_loss: 1.3229 - val_accuracy: 0.5152\n",
            "Epoch 9/50\n",
            "45000/45000 [==============================] - 0s 7us/step - loss: 1.1894 - accuracy: 0.5811 - val_loss: 1.1680 - val_accuracy: 0.5912\n",
            "Epoch 10/50\n",
            "45000/45000 [==============================] - 0s 7us/step - loss: 1.0226 - accuracy: 0.6503 - val_loss: 1.0243 - val_accuracy: 0.6446\n",
            "Epoch 11/50\n",
            "45000/45000 [==============================] - 0s 7us/step - loss: 0.8779 - accuracy: 0.7050 - val_loss: 0.9050 - val_accuracy: 0.6782\n",
            "Epoch 12/50\n",
            "45000/45000 [==============================] - 0s 7us/step - loss: 0.7602 - accuracy: 0.7530 - val_loss: 0.8053 - val_accuracy: 0.7406\n",
            "Epoch 13/50\n",
            "45000/45000 [==============================] - 0s 7us/step - loss: 0.6684 - accuracy: 0.7945 - val_loss: 0.7309 - val_accuracy: 0.7830\n",
            "Epoch 14/50\n",
            "45000/45000 [==============================] - 0s 7us/step - loss: 0.5985 - accuracy: 0.8210 - val_loss: 0.6724 - val_accuracy: 0.8008\n",
            "Epoch 15/50\n",
            "45000/45000 [==============================] - 0s 7us/step - loss: 0.5434 - accuracy: 0.8484 - val_loss: 0.6266 - val_accuracy: 0.8132\n",
            "Epoch 16/50\n",
            "45000/45000 [==============================] - 0s 7us/step - loss: 0.4998 - accuracy: 0.8684 - val_loss: 0.5908 - val_accuracy: 0.8322\n",
            "Epoch 17/50\n",
            "45000/45000 [==============================] - 0s 7us/step - loss: 0.4634 - accuracy: 0.8827 - val_loss: 0.5615 - val_accuracy: 0.8438\n",
            "Epoch 18/50\n",
            "45000/45000 [==============================] - 0s 7us/step - loss: 0.4312 - accuracy: 0.8927 - val_loss: 0.5395 - val_accuracy: 0.8464\n",
            "Epoch 19/50\n",
            "45000/45000 [==============================] - 0s 7us/step - loss: 0.4043 - accuracy: 0.8988 - val_loss: 0.5162 - val_accuracy: 0.8522\n",
            "Epoch 20/50\n",
            "45000/45000 [==============================] - 0s 7us/step - loss: 0.3787 - accuracy: 0.9036 - val_loss: 0.4989 - val_accuracy: 0.8540\n",
            "Epoch 21/50\n",
            "45000/45000 [==============================] - 0s 7us/step - loss: 0.3564 - accuracy: 0.9079 - val_loss: 0.4842 - val_accuracy: 0.8558\n",
            "Epoch 22/50\n",
            "45000/45000 [==============================] - 0s 7us/step - loss: 0.3367 - accuracy: 0.9111 - val_loss: 0.4729 - val_accuracy: 0.8574\n",
            "Epoch 23/50\n",
            "45000/45000 [==============================] - 0s 7us/step - loss: 0.3186 - accuracy: 0.9132 - val_loss: 0.4586 - val_accuracy: 0.8594\n",
            "Epoch 24/50\n",
            "45000/45000 [==============================] - 0s 7us/step - loss: 0.3018 - accuracy: 0.9165 - val_loss: 0.4486 - val_accuracy: 0.8600\n",
            "Epoch 25/50\n",
            "45000/45000 [==============================] - 0s 8us/step - loss: 0.2874 - accuracy: 0.9198 - val_loss: 0.4419 - val_accuracy: 0.8618\n",
            "Epoch 26/50\n",
            "45000/45000 [==============================] - 0s 8us/step - loss: 0.2749 - accuracy: 0.9236 - val_loss: 0.4367 - val_accuracy: 0.8632\n",
            "Epoch 27/50\n",
            "45000/45000 [==============================] - 0s 8us/step - loss: 0.2619 - accuracy: 0.9281 - val_loss: 0.4301 - val_accuracy: 0.8670\n",
            "Epoch 28/50\n",
            "45000/45000 [==============================] - 0s 8us/step - loss: 0.2507 - accuracy: 0.9324 - val_loss: 0.4253 - val_accuracy: 0.8686\n",
            "Epoch 29/50\n",
            "45000/45000 [==============================] - 0s 8us/step - loss: 0.2410 - accuracy: 0.9363 - val_loss: 0.4233 - val_accuracy: 0.8686\n",
            "Epoch 30/50\n",
            "45000/45000 [==============================] - 0s 7us/step - loss: 0.2327 - accuracy: 0.9390 - val_loss: 0.4224 - val_accuracy: 0.8706\n",
            "Epoch 31/50\n",
            "45000/45000 [==============================] - 0s 8us/step - loss: 0.2242 - accuracy: 0.9421 - val_loss: 0.4216 - val_accuracy: 0.8712\n",
            "Epoch 32/50\n",
            "45000/45000 [==============================] - 0s 8us/step - loss: 0.2171 - accuracy: 0.9446 - val_loss: 0.4196 - val_accuracy: 0.8720\n",
            "Epoch 33/50\n",
            "45000/45000 [==============================] - 0s 7us/step - loss: 0.2109 - accuracy: 0.9464 - val_loss: 0.4190 - val_accuracy: 0.8732\n",
            "Epoch 34/50\n",
            "45000/45000 [==============================] - 0s 8us/step - loss: 0.2043 - accuracy: 0.9473 - val_loss: 0.4267 - val_accuracy: 0.8706\n",
            "Epoch 35/50\n",
            "45000/45000 [==============================] - 0s 8us/step - loss: 0.1987 - accuracy: 0.9491 - val_loss: 0.4231 - val_accuracy: 0.8744\n",
            "Epoch 36/50\n",
            "45000/45000 [==============================] - 0s 8us/step - loss: 0.1936 - accuracy: 0.9503 - val_loss: 0.4247 - val_accuracy: 0.8726\n",
            "Epoch 37/50\n",
            "45000/45000 [==============================] - 0s 8us/step - loss: 0.1890 - accuracy: 0.9514 - val_loss: 0.4235 - val_accuracy: 0.8718\n",
            "Epoch 38/50\n",
            "45000/45000 [==============================] - 0s 8us/step - loss: 0.1846 - accuracy: 0.9520 - val_loss: 0.4281 - val_accuracy: 0.8732\n",
            "Epoch 39/50\n",
            "45000/45000 [==============================] - 0s 7us/step - loss: 0.1799 - accuracy: 0.9534 - val_loss: 0.4301 - val_accuracy: 0.8712\n",
            "Epoch 40/50\n",
            "45000/45000 [==============================] - 0s 7us/step - loss: 0.1757 - accuracy: 0.9549 - val_loss: 0.4303 - val_accuracy: 0.8718\n",
            "Epoch 41/50\n",
            "45000/45000 [==============================] - 0s 7us/step - loss: 0.1722 - accuracy: 0.9554 - val_loss: 0.4367 - val_accuracy: 0.8702\n",
            "Epoch 42/50\n",
            "45000/45000 [==============================] - 0s 7us/step - loss: 0.1683 - accuracy: 0.9569 - val_loss: 0.4362 - val_accuracy: 0.8714\n",
            "Epoch 43/50\n",
            "45000/45000 [==============================] - 0s 7us/step - loss: 0.1649 - accuracy: 0.9574 - val_loss: 0.4393 - val_accuracy: 0.8706\n",
            "Epoch 44/50\n",
            "45000/45000 [==============================] - 0s 7us/step - loss: 0.1614 - accuracy: 0.9585 - val_loss: 0.4419 - val_accuracy: 0.8714\n",
            "Epoch 45/50\n",
            "45000/45000 [==============================] - 0s 7us/step - loss: 0.1584 - accuracy: 0.9593 - val_loss: 0.4451 - val_accuracy: 0.8708\n",
            "Epoch 46/50\n",
            "45000/45000 [==============================] - 0s 7us/step - loss: 0.1553 - accuracy: 0.9600 - val_loss: 0.4484 - val_accuracy: 0.8692\n",
            "Epoch 47/50\n",
            "45000/45000 [==============================] - 0s 7us/step - loss: 0.1526 - accuracy: 0.9605 - val_loss: 0.4533 - val_accuracy: 0.8690\n",
            "Epoch 48/50\n",
            "45000/45000 [==============================] - 0s 7us/step - loss: 0.1491 - accuracy: 0.9616 - val_loss: 0.4550 - val_accuracy: 0.8706\n",
            "Epoch 49/50\n",
            "45000/45000 [==============================] - 0s 7us/step - loss: 0.1470 - accuracy: 0.9623 - val_loss: 0.4616 - val_accuracy: 0.8674\n",
            "Epoch 50/50\n",
            "45000/45000 [==============================] - 0s 7us/step - loss: 0.1438 - accuracy: 0.9628 - val_loss: 0.4610 - val_accuracy: 0.8678\n"
          ],
          "name": "stdout"
        }
      ]
    },
    {
      "cell_type": "code",
      "metadata": {
        "colab_type": "code",
        "outputId": "5de99dbe-3114-4f45-a697-52fd6561117d",
        "id": "NLK6UrRjJbP1",
        "colab": {
          "base_uri": "https://localhost:8080/",
          "height": 295
        }
      },
      "source": [
        "# Plot the training and validation accuracu and loss at each epoch\n",
        "loss = history.history['loss']\n",
        "val_loss = history.history['val_loss']\n",
        "epochs = range(1, len(loss) + 1)\n",
        "plt.plot(epochs, loss, 'y', label='Training loss')\n",
        "plt.plot(epochs, val_loss, 'r', label='Validation loss')\n",
        "plt.title('Training and validation loss')\n",
        "plt.xlabel('Epochs')\n",
        "plt.ylabel('Loss')\n",
        "plt.legend()\n",
        "plt.show()"
      ],
      "execution_count": 239,
      "outputs": [
        {
          "output_type": "display_data",
          "data": {
            "image/png": "[encoded data removed]",
            "text/plain": [
              "<Figure size 432x288 with 1 Axes>"
            ]
          },
          "metadata": {
            "tags": []
          }
        }
      ]
    },
    {
      "cell_type": "code",
      "metadata": {
        "colab_type": "code",
        "outputId": "fbb216d3-cc14-4270-b1d9-35692d44dd65",
        "id": "NTzn_2gsJbP3",
        "colab": {
          "base_uri": "https://localhost:8080/",
          "height": 295
        }
      },
      "source": [
        "acc = history.history['accuracy']\n",
        "val_acc = history.history['val_accuracy']\n",
        "plt.plot(epochs, acc, 'y', label='Training acc')\n",
        "plt.plot(epochs, val_acc, 'r', label='Validation acc')\n",
        "plt.title('Training and validation accuracy')\n",
        "plt.xlabel('Epochs')\n",
        "plt.ylabel('Accuracy')\n",
        "plt.legend()\n",
        "plt.show()"
      ],
      "execution_count": 240,
      "outputs": [
        {
          "output_type": "display_data",
          "data": {
            "image/png": "[encoded data removed]",
            "text/plain": [
              "<Figure size 432x288 with 1 Axes>"
            ]
          },
          "metadata": {
            "tags": []
          }
        }
      ]
    },
    {
      "cell_type": "code",
      "metadata": {
        "id": "sXZpGwahKKTH",
        "colab_type": "code",
        "colab": {
          "base_uri": "https://localhost:8080/",
          "height": 255
        },
        "outputId": "64f5419d-ccbe-4d3b-db33-4fbdfdeb44d5"
      },
      "source": [
        "y_pred = model.predict(test_padded, batch_size=64, verbose=1)\n",
        "y_pred_bool = np.argmax(y_pred, axis=1)\n",
        "print(classification_report(y_test, y_pred_bool))"
      ],
      "execution_count": 241,
      "outputs": [
        {
          "output_type": "stream",
          "text": [
            "2000/2000 [==============================] - 0s 16us/step\n",
            "              precision    recall  f1-score   support\n",
            "\n",
            "           0       0.94      0.92      0.93       581\n",
            "           1       0.92      0.91      0.91       695\n",
            "           2       0.71      0.82      0.76       159\n",
            "           3       0.82      0.89      0.85       275\n",
            "           4       0.86      0.79      0.83       224\n",
            "           5       0.56      0.52      0.54        66\n",
            "\n",
            "    accuracy                           0.88      2000\n",
            "   macro avg       0.80      0.81      0.80      2000\n",
            "weighted avg       0.88      0.88      0.88      2000\n",
            "\n"
          ],
          "name": "stdout"
        }
      ]
    },
    {
      "cell_type": "markdown",
      "metadata": {
        "colab_type": "text",
        "id": "EdtvF9_asx0S"
      },
      "source": [
        "### Loss=MSE(logit)+CE . (not completed)\n"
      ]
    },
    {
      "cell_type": "code",
      "metadata": {
        "colab_type": "code",
        "id": "loWjESZhBt4d",
        "colab": {}
      },
      "source": [
        "from sklearn.metrics import accuracy_score\n",
        "\n",
        "import numpy as np\n",
        "from matplotlib import pyplot as plt\n",
        "plt.style.use('dark_background')\n",
        "\n",
        "from keras.datasets import imdb\n",
        "from keras.models import Sequential\n",
        "from keras.preprocessing.sequence import pad_sequences\n",
        "from keras.layers import Embedding, GlobalAveragePooling1D, GlobalMaxPool1D, Dense\n",
        "from keras.preprocessing.text import Tokenizer\n",
        "\n",
        "\n",
        "from keras.models import * \n",
        "from keras.layers import *\n",
        "\n",
        "import tensorflow as tf\n",
        "tf.compat.v1.disable_eager_execution()\n",
        "\n",
        "from torch.utils.data import DataLoader, SequentialSampler"
      ],
      "execution_count": 0,
      "outputs": []
    },
    {
      "cell_type": "markdown",
      "metadata": {
        "colab_type": "text",
        "id": "zJW1mduUB1PL"
      },
      "source": [
        "Tokenizer and padding"
      ]
    },
    {
      "cell_type": "code",
      "metadata": {
        "colab_type": "code",
        "id": "ve8VW_K0B6r-",
        "colab": {}
      },
      "source": [
        "# KERAS Tokenization\n",
        "# https://machinelearningmastery.com/prepare-text-data-deep-learning-keras/\n",
        "#https://www.kdnuggets.com/2020/03/tensorflow-keras-tokenization-text-data-prep.html\n",
        "from keras.preprocessing.text import Tokenizer\n",
        "\n",
        "# Init all Hyperparameters\n",
        "OUTPUT_DIM = len(y_train_hotvec[0])\n",
        "MAX_NUM_WORDS = 15000\n",
        "MAX_LEN = 128\n",
        "oov_token = '<UNK>' # Required only if test is not given \n",
        "pad_type = 'post'\n",
        "trunc_type = 'post'\n",
        "\n",
        "# Avoid UNK words \n",
        "X = np.concatenate((X_train, X_test), axis=0)\n",
        "\n",
        "# Tokenize our training data\n",
        "tokenizer = Tokenizer(num_words=MAX_NUM_WORDS)\n",
        "tokenizer.fit_on_texts(X)\n",
        "\n",
        "# Get our training data word index\n",
        "word_index = tokenizer.word_index\n",
        "\n",
        "# Encode training data sentences into sequences\n",
        "train_sequences = tokenizer.texts_to_sequences(X_train)\n",
        "\n",
        "# Get max training sequence length\n",
        "maxlen = min(MAX_LEN, max([len(x) for x in train_sequences]))\n",
        "\n",
        "# Pad the training sequences\n",
        "train_padded = pad_sequences(train_sequences, padding=pad_type, truncating=trunc_type, maxlen=maxlen)\n",
        "\n",
        "# Encode test data sentences into sequences\n",
        "test_sequences = tokenizer.texts_to_sequences(X_test)\n",
        "test_padded = pad_sequences(test_sequences, padding=pad_type, truncating=trunc_type, maxlen=maxlen)\n",
        "\n",
        "num_words = min(MAX_NUM_WORDS, len(word_index) + 1)\n"
      ],
      "execution_count": 0,
      "outputs": []
    },
    {
      "cell_type": "code",
      "metadata": {
        "id": "0H2eh7xmSGTt",
        "colab_type": "code",
        "colab": {}
      },
      "source": [
        "train_padded = train_padded[0:6656]\n",
        "y_train_hotvec = y_train_hotvec[0:6656]\n",
        "\n",
        "\n",
        "batch_size = 128\n",
        "\n",
        "logits_train_dataloader = DataLoader(\n",
        "            logits_train,  # The training samples.\n",
        "            sampler = SequentialSampler(logits_train), \n",
        "            batch_size = batch_size,\n",
        "        )\n",
        "\n",
        "itr=iter(logits_train_dataloader)"
      ],
      "execution_count": 0,
      "outputs": []
    },
    {
      "cell_type": "markdown",
      "metadata": {
        "id": "REnuwuIBCGrq",
        "colab_type": "text"
      },
      "source": [
        "DL Arch"
      ]
    },
    {
      "cell_type": "code",
      "metadata": {
        "id": "XzPqjZO3XUZN",
        "colab_type": "code",
        "colab": {}
      },
      "source": [
        "def compute_kld(p_logit, q_logit):\n",
        "    p = tf.nn.softmax(p_logit)\n",
        "    q = tf.nn.softmax(q_logit)\n",
        "    return tf.reduce_sum(p*(tf.math.log(p + 1e-16) - tf.math.log(q + 1e-16)), axis=1)"
      ],
      "execution_count": 0,
      "outputs": []
    },
    {
      "cell_type": "code",
      "metadata": {
        "id": "x-fJzQMqxd2R",
        "colab_type": "code",
        "colab": {
          "base_uri": "https://localhost:8080/",
          "height": 360
        },
        "outputId": "009b1fff-f68c-45db-b19c-b6eac041af3f"
      },
      "source": [
        "# KERAS Architecture \n",
        "# Nice refrence to use embedding vectors in KERAS https://realpython.com/python-keras-text-classification/\n",
        "network = Sequential()\n",
        "network.add(Embedding(input_dim=num_words, output_dim=16, input_length=maxlen))\n",
        "network.add(GlobalAveragePooling1D())\n",
        "network.add(Dense(16, activation='relu'))\n",
        "network.add(Dense(OUTPUT_DIM))\n",
        "network.summary()"
      ],
      "execution_count": 185,
      "outputs": [
        {
          "output_type": "stream",
          "text": [
            "WARNING:tensorflow:From /usr/local/lib/python3.6/dist-packages/tensorflow/python/ops/resource_variable_ops.py:1666: calling BaseResourceVariable.__init__ (from tensorflow.python.ops.resource_variable_ops) with constraint is deprecated and will be removed in a future version.\n",
            "Instructions for updating:\n",
            "If using Keras pass *_constraint arguments to layers.\n",
            "Model: \"sequential_1\"\n",
            "_________________________________________________________________\n",
            "Layer (type)                 Output Shape              Param #   \n",
            "=================================================================\n",
            "embedding_1 (Embedding)      (None, 49, 16)            240000    \n",
            "_________________________________________________________________\n",
            "global_average_pooling1d_1 ( (None, 16)                0         \n",
            "_________________________________________________________________\n",
            "dense_1 (Dense)              (None, 16)                272       \n",
            "_________________________________________________________________\n",
            "dense_2 (Dense)              (None, 2)                 34        \n",
            "=================================================================\n",
            "Total params: 240,306\n",
            "Trainable params: 240,306\n",
            "Non-trainable params: 0\n",
            "_________________________________________________________________\n"
          ],
          "name": "stdout"
        }
      ]
    },
    {
      "cell_type": "code",
      "metadata": {
        "id": "pTyByFSCtZnC",
        "colab_type": "code",
        "colab": {}
      },
      "source": [
        "model_input = Input((maxlen,))\n",
        "p_logit = network( model_input )\n",
        "p = Activation('softmax')( p_logit )\n",
        "logits_train_batch= next(itr)\n",
        "vat_loss = tf.reduce_mean(compute_kld( logits_train_batch, p_logit ))\n",
        "vat_loss = 0"
      ],
      "execution_count": 0,
      "outputs": []
    },
    {
      "cell_type": "code",
      "metadata": {
        "id": "zw6vwz7QtqBV",
        "colab_type": "code",
        "colab": {}
      },
      "source": [
        "model_vat = Model(model_input , p )\n",
        "model_vat.add_loss( vat_loss   )\n",
        "\n",
        "model_vat.compile( 'adam' ,  'categorical_crossentropy'  ,  metrics=['accuracy'])\n",
        "\n",
        "model_vat.metrics_names.append('vat_loss')\n",
        "model_vat.metrics.append( vat_loss )"
      ],
      "execution_count": 0,
      "outputs": []
    },
    {
      "cell_type": "code",
      "metadata": {
        "colab_type": "code",
        "outputId": "ff8ef052-5bf7-41cd-daf6-2342c9c95358",
        "id": "MY2YQdwFgCB3",
        "colab": {
          "base_uri": "https://localhost:8080/",
          "height": 357
        }
      },
      "source": [
        "history = model_vat.fit(\n",
        "    train_padded,\n",
        "    y_train_hotvec,\n",
        "    epochs=10,\n",
        "    batch_size=128,\n",
        "    validation_split=0.0,\n",
        "    shuffle=False\n",
        ")"
      ],
      "execution_count": 188,
      "outputs": [
        {
          "output_type": "stream",
          "text": [
            "Epoch 1/10\n",
            "6656/6656 [==============================] - 0s 44us/step - loss: 0.6914 - accuracy: 0.5224\n",
            "Epoch 2/10\n",
            "6656/6656 [==============================] - 0s 31us/step - loss: 0.6854 - accuracy: 0.5284\n",
            "Epoch 3/10\n",
            "6656/6656 [==============================] - 0s 30us/step - loss: 0.6612 - accuracy: 0.6459\n",
            "Epoch 4/10\n",
            "6656/6656 [==============================] - 0s 30us/step - loss: 0.6032 - accuracy: 0.7903\n",
            "Epoch 5/10\n",
            "6656/6656 [==============================] - 0s 30us/step - loss: 0.5159 - accuracy: 0.8451\n",
            "Epoch 6/10\n",
            "6656/6656 [==============================] - 0s 31us/step - loss: 0.4208 - accuracy: 0.8801\n",
            "Epoch 7/10\n",
            "6656/6656 [==============================] - 0s 30us/step - loss: 0.3380 - accuracy: 0.9111\n",
            "Epoch 8/10\n",
            "6656/6656 [==============================] - 0s 31us/step - loss: 0.2733 - accuracy: 0.9304\n",
            "Epoch 9/10\n",
            "6656/6656 [==============================] - 0s 31us/step - loss: 0.2239 - accuracy: 0.9453\n",
            "Epoch 10/10\n",
            "6656/6656 [==============================] - 0s 30us/step - loss: 0.1859 - accuracy: 0.9579\n"
          ],
          "name": "stdout"
        }
      ]
    },
    {
      "cell_type": "code",
      "metadata": {
        "id": "FgypOMgMiuC3",
        "colab_type": "code",
        "colab": {
          "base_uri": "https://localhost:8080/",
          "height": 34
        },
        "outputId": "06e97875-cf72-4261-c2c5-74553c24bc90"
      },
      "source": [
        "y_pred  = model_vat.predict( test_padded ).argmax(-1)\n",
        "print( \"Test accruracy \" , accuracy_score(y_test , y_pred  ))"
      ],
      "execution_count": 189,
      "outputs": [
        {
          "output_type": "stream",
          "text": [
            "Test accruracy  0.8138385502471169\n"
          ],
          "name": "stdout"
        }
      ]
    },
    {
      "cell_type": "code",
      "metadata": {
        "id": "EGTGgP1GtxgK",
        "colab_type": "code",
        "colab": {
          "base_uri": "https://localhost:8080/",
          "height": 68
        },
        "outputId": "6e19fb26-8a03-4c15-c5ca-3882022651c3"
      },
      "source": [
        "model_vat.fit( np.concatenate([train_padded]*50) , np.concatenate([y_train_hotvec]*50))\n",
        "y_pred  = model_vat.predict( test_padded ).argmax(-1)\n",
        "print( \"Test accruracy \" , accuracy_score(y_test , y_pred  ))"
      ],
      "execution_count": 218,
      "outputs": [
        {
          "output_type": "stream",
          "text": [
            "Epoch 1/1\n",
            "332800/332800 [==============================] - 69s 206us/step - loss: 2.7681 - accuracy: 0.8636\n",
            "Test accruracy  0.7929708951125755\n"
          ],
          "name": "stdout"
        }
      ]
    }
  ]
}