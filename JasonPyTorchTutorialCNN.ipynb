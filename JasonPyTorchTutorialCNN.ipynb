{
  "nbformat": 4,
  "nbformat_minor": 0,
  "metadata": {
    "kernelspec": {
      "display_name": "Python 3",
      "language": "python",
      "name": "python3"
    },
    "language_info": {
      "codemirror_mode": {
        "name": "ipython",
        "version": 3
      },
      "file_extension": ".py",
      "mimetype": "text/x-python",
      "name": "python",
      "nbconvert_exporter": "python",
      "pygments_lexer": "ipython3",
      "version": "3.7.0"
    },
    "colab": {
      "name": "PyTorchTutorialCNN.ipynb",
      "provenance": [],
      "include_colab_link": true
    }
  },
  "cells": [
    {
      "cell_type": "markdown",
      "metadata": {
        "id": "view-in-github",
        "colab_type": "text"
      },
      "source": [
        "<a href=\"https://colab.research.google.com/github/MosheWasserb/PyTorchNotbooks/blob/master/JasonPyTorchTutorialCNN.ipynb\" target=\"_parent\"><img src=\"https://colab.research.google.com/assets/colab-badge.svg\" alt=\"Open In Colab\"/></a>"
      ]
    },
    {
      "cell_type": "markdown",
      "metadata": {
        "id": "AW_XPBtJfau3",
        "colab_type": "text"
      },
      "source": [
        "# PyTorch Tutorial CNN example by Jason Brownlee\n",
        "\n",
        "### Moshe Wasserblat <br><br>March 2020"
      ]
    },
    {
      "cell_type": "markdown",
      "metadata": {
        "id": "oUxKvB96favB",
        "colab_type": "text"
      },
      "source": [
        "### Import "
      ]
    },
    {
      "cell_type": "code",
      "metadata": {
        "id": "ytNZMY1Tfau6",
        "colab_type": "code",
        "colab": {}
      },
      "source": [
        "\n",
        "#pytorch cnn for multiclass classification\n",
        "from numpy import vstack\n",
        "from numpy import argmax\n",
        "from pandas import read_csv\n",
        "from sklearn.metrics import accuracy_score\n",
        "from torchvision.datasets import MNIST\n",
        "from torchvision.transforms import Compose\n",
        "from torchvision.transforms import ToTensor\n",
        "from torchvision.transforms import Normalize\n",
        "from torch.utils.data import DataLoader\n",
        "from torch.nn import Conv2d\n",
        "from torch.nn import MaxPool2d\n",
        "from torch.nn import Linear\n",
        "from torch.nn import ReLU\n",
        "from torch.nn import Softmax\n",
        "from torch.nn import Module\n",
        "from torch.optim import SGD\n",
        "from torch.nn import CrossEntropyLoss\n",
        "from torch.nn.init import kaiming_uniform_\n",
        "from torch.nn.init import xavier_uniform_"
      ],
      "execution_count": 0,
      "outputs": []
    },
    {
      "cell_type": "markdown",
      "metadata": {
        "colab_type": "text",
        "id": "jz1ESSlgYMuR"
      },
      "source": [
        "### Dataset definition (for MNIST data)"
      ]
    },
    {
      "cell_type": "code",
      "metadata": {
        "colab_type": "code",
        "id": "2Uq7BfszYMuS",
        "colab": {}
      },
      "source": [
        "\n",
        "\n"
      ],
      "execution_count": 0,
      "outputs": []
    },
    {
      "cell_type": "markdown",
      "metadata": {
        "colab_type": "text",
        "id": "uRLvwu5zgX0o"
      },
      "source": [
        "### Prepare the dataset"
      ]
    },
    {
      "cell_type": "code",
      "metadata": {
        "id": "7P6eLNw2Votn",
        "colab_type": "code",
        "colab": {}
      },
      "source": [
        "# prepare the dataset\n",
        "def prepare_data(path):\n",
        "    # define standardization\n",
        "    trans = Compose([ToTensor(), Normalize((0.1307,), (0.3081,))])\n",
        "    # load dataset\n",
        "    train = MNIST(path, train=True, download=True, transform=trans)\n",
        "    test = MNIST(path, train=False, download=True, transform=trans)\n",
        "    # prepare data loaders\n",
        "    train_dl = DataLoader(train, batch_size=64, shuffle=True)\n",
        "    test_dl = DataLoader(test, batch_size=1024, shuffle=False)\n",
        "    return train_dl, test_dl\n"
      ],
      "execution_count": 0,
      "outputs": []
    },
    {
      "cell_type": "markdown",
      "metadata": {
        "colab_type": "text",
        "id": "0cDtXbUKVj9y"
      },
      "source": [
        "### Model Defintion"
      ]
    },
    {
      "cell_type": "code",
      "metadata": {
        "id": "GKYi8vlCfavC",
        "colab_type": "code",
        "colab": {}
      },
      "source": [
        "# model definition\n",
        "class CNN(Module):\n",
        "    # define model elements\n",
        "    def __init__(self, n_channels):\n",
        "        super(CNN, self).__init__()\n",
        "        # input to first hidden layer\n",
        "        self.hidden1 = Conv2d(n_channels, 32, (3,3))\n",
        "        kaiming_uniform_(self.hidden1.weight, nonlinearity='relu')\n",
        "        self.act1 = ReLU()\n",
        "        # first pooling layer\n",
        "        self.pool1 = MaxPool2d((2,2), stride=(2,2))\n",
        "        # second hidden layer\n",
        "        self.hidden2 = Conv2d(32, 32, (3,3))\n",
        "        kaiming_uniform_(self.hidden2.weight, nonlinearity='relu')\n",
        "        self.act2 = ReLU()\n",
        "        # second pooling layer\n",
        "        self.pool2 = MaxPool2d((2,2), stride=(2,2))\n",
        "        # fully connected layer\n",
        "        self.hidden3 = Linear(5*5*32, 100)\n",
        "        kaiming_uniform_(self.hidden3.weight, nonlinearity='relu')\n",
        "        self.act3 = ReLU()\n",
        "        # output layer\n",
        "        self.hidden4 = Linear(100, 10)\n",
        "        xavier_uniform_(self.hidden4.weight)\n",
        "        self.act4 = Softmax(dim=1)\n",
        " \n",
        "    # forward propagate input\n",
        "    def forward(self, X):\n",
        "        # input to first hidden layer\n",
        "        X = self.hidden1(X)\n",
        "        X = self.act1(X)\n",
        "        X = self.pool1(X)\n",
        "        # second hidden layer\n",
        "        X = self.hidden2(X)\n",
        "        X = self.act2(X)\n",
        "        X = self.pool2(X)\n",
        "        # flatten\n",
        "        X = X.view(-1, 4*4*50)\n",
        "        # third hidden layer\n",
        "        X = self.hidden3(X)\n",
        "        X = self.act3(X)\n",
        "        # output layer\n",
        "        X = self.hidden4(X)\n",
        "        X = self.act4(X)\n",
        "        return X\n",
        " "
      ],
      "execution_count": 0,
      "outputs": []
    },
    {
      "cell_type": "markdown",
      "metadata": {
        "id": "AEF6WEOCfavI",
        "colab_type": "text"
      },
      "source": [
        "### Train the model"
      ]
    },
    {
      "cell_type": "code",
      "metadata": {
        "id": "BOdJZMiKmN9v",
        "colab_type": "code",
        "colab": {}
      },
      "source": [
        "# train the model\n",
        "def train_model(train_dl, model):\n",
        "    # define the optimization\n",
        "    criterion = CrossEntropyLoss()\n",
        "    optimizer = SGD(model.parameters(), lr=0.01, momentum=0.9)\n",
        "    # enumerate epochs\n",
        "    for epoch in range(10):\n",
        "        # enumerate mini batches\n",
        "        for i, (inputs, targets) in enumerate(train_dl):\n",
        "            # clear the gradients\n",
        "            optimizer.zero_grad()\n",
        "            # compute the model output\n",
        "            yhat = model(inputs)\n",
        "            # calculate loss\n",
        "            loss = criterion(yhat, targets)\n",
        "            # credit assignment\n",
        "            loss.backward()\n",
        "            # update model weights\n",
        "            optimizer.step()"
      ],
      "execution_count": 0,
      "outputs": []
    },
    {
      "cell_type": "markdown",
      "metadata": {
        "colab_type": "text",
        "id": "8VwPpHiZmJpf"
      },
      "source": [
        "### Evaluate the model"
      ]
    },
    {
      "cell_type": "code",
      "metadata": {
        "id": "Okcwh-G5favI",
        "colab_type": "code",
        "colab": {}
      },
      "source": [
        "# evaluate the model\n",
        "def evaluate_model(test_dl, model):\n",
        "    predictions, actuals = list(), list()\n",
        "    for i, (inputs, targets) in enumerate(test_dl):\n",
        "        # evaluate the model on the test set\n",
        "        yhat = model(inputs)\n",
        "        # retrieve numpy array\n",
        "        yhat = yhat.detach().numpy()\n",
        "        actual = targets.numpy()\n",
        "        # convert to class labels\n",
        "        yhat = argmax(yhat, axis=1)\n",
        "        # reshape for stacking\n",
        "        actual = actual.reshape((len(actual), 1))\n",
        "        yhat = yhat.reshape((len(yhat), 1))\n",
        "        # store\n",
        "        predictions.append(yhat)\n",
        "        actuals.append(actual)\n",
        "    predictions, actuals = vstack(predictions), vstack(actuals)\n",
        "    # calculate accuracy\n",
        "    acc = accuracy_score(actuals, predictions)\n",
        "    return acc"
      ],
      "execution_count": 0,
      "outputs": []
    },
    {
      "cell_type": "markdown",
      "metadata": {
        "id": "1r5cXr4dfavL",
        "colab_type": "text"
      },
      "source": [
        "### Make prediction"
      ]
    },
    {
      "cell_type": "code",
      "metadata": {
        "id": "wIvadrKJfavM",
        "colab_type": "code",
        "colab": {}
      },
      "source": [
        ""
      ],
      "execution_count": 0,
      "outputs": []
    },
    {
      "cell_type": "markdown",
      "metadata": {
        "id": "bzINS5lZfavP",
        "colab_type": "text"
      },
      "source": [
        "### Main"
      ]
    },
    {
      "cell_type": "code",
      "metadata": {
        "id": "zl295hDvfavQ",
        "colab_type": "code",
        "outputId": "604f4b32-b37e-4c02-c0a2-6ecdee334175",
        "colab": {
          "base_uri": "https://localhost:8080/",
          "height": 34
        }
      },
      "source": [
        "# prepare the data\n",
        "path = '~/.torch/datasets/mnist'\n",
        "train_dl, test_dl = prepare_data(path)\n",
        "print(len(train_dl.dataset), len(test_dl.dataset))"
      ],
      "execution_count": 9,
      "outputs": [
        {
          "output_type": "stream",
          "text": [
            "60000 10000\n"
          ],
          "name": "stdout"
        }
      ]
    },
    {
      "cell_type": "code",
      "metadata": {
        "id": "gbLW14wD68-D",
        "colab_type": "code",
        "colab": {
          "base_uri": "https://localhost:8080/",
          "height": 34
        },
        "outputId": "ee26bc45-95a1-4ee5-aacb-8a75db9db1ad"
      },
      "source": [
        "# define the network\n",
        "model = CNN(1)\n",
        "# # train the model\n",
        "train_model(train_dl, model)\n",
        "# evaluate the model\n",
        "acc = evaluate_model(test_dl, model)\n",
        "print('Accuracy: %.3f' % acc)"
      ],
      "execution_count": 10,
      "outputs": [
        {
          "output_type": "stream",
          "text": [
            "Accuracy: 0.986\n"
          ],
          "name": "stdout"
        }
      ]
    }
  ]
}